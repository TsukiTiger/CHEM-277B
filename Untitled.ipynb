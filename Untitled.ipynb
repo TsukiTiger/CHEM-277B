{
 "cells": [
  {
   "cell_type": "code",
   "execution_count": 1,
   "id": "4f49cc2e",
   "metadata": {},
   "outputs": [],
   "source": [
    "import numpy as np"
   ]
  },
  {
   "cell_type": "code",
   "execution_count": 3,
   "id": "c094c8b0",
   "metadata": {},
   "outputs": [],
   "source": [
    "def sum_int(n: int):\n",
    "    res = 0\n",
    "    if n < 0:\n",
    "        return -1\n",
    "    for i in range(n):\n",
    "        res += 1 + i\n",
    "    return res"
   ]
  },
  {
   "cell_type": "code",
   "execution_count": 4,
   "id": "9d936955",
   "metadata": {},
   "outputs": [
    {
     "data": {
      "text/plain": [
       "10"
      ]
     },
     "execution_count": 4,
     "metadata": {},
     "output_type": "execute_result"
    }
   ],
   "source": [
    "sum_int(4)"
   ]
  },
  {
   "cell_type": "code",
   "execution_count": 5,
   "id": "5f14fbfd",
   "metadata": {},
   "outputs": [
    {
     "data": {
      "text/plain": [
       "-1"
      ]
     },
     "execution_count": 5,
     "metadata": {},
     "output_type": "execute_result"
    }
   ],
   "source": [
    "sum_int(-4)"
   ]
  },
  {
   "cell_type": "code",
   "execution_count": null,
   "id": "9a417836",
   "metadata": {},
   "outputs": [],
   "source": [
    "5 - 6:30 Mon and Wed\n"
   ]
  }
 ],
 "metadata": {
  "kernelspec": {
   "display_name": "Python 3 (ipykernel)",
   "language": "python",
   "name": "python3"
  },
  "language_info": {
   "codemirror_mode": {
    "name": "ipython",
    "version": 3
   },
   "file_extension": ".py",
   "mimetype": "text/x-python",
   "name": "python",
   "nbconvert_exporter": "python",
   "pygments_lexer": "ipython3",
   "version": "3.9.7"
  }
 },
 "nbformat": 4,
 "nbformat_minor": 5
}
