{
 "cells": [
  {
   "cell_type": "markdown",
   "metadata": {},
   "source": [
    "### Debugging Outputs"
   ]
  },
  {
   "cell_type": "markdown",
   "metadata": {},
   "source": [
    "1.<br>\n",
    "(a) length of schedule: 5940 for 30K, 5980 for 10K. The function evaluation of your solution usually falls in the range of 3000-5000<br>\n",
    "\n",
    "2.<br>\n",
    "(c) Your cost function should be a number between 2200-2400 <br>\n",
    "(d) Final tempreture: 3.36K <br>\n",
    "(e) You should be able to assign rank/cultivar of a wine according to centers. Using the centers you found in (b) to reassign ranks, then the cost function value would be 2160.17"
   ]
  },
  {
   "cell_type": "markdown",
   "metadata": {},
   "source": [
    "### Visualize a 2d function"
   ]
  },
  {
   "cell_type": "code",
   "execution_count": 1,
   "metadata": {},
   "outputs": [],
   "source": [
    "def plot_surface(func,x_min=-2,x_max=2,y_min=-2,y_max=2):\n",
    "    a=np.linspace(x_min,x_max,100)\n",
    "    b=np.linspace(y_min,y_max,100)\n",
    "    x,y=np.meshgrid(a,b)\n",
    "    z=func((x,y))\n",
    "    fig=plt.figure()\n",
    "    ax = fig.gca(projection='3d')\n",
    "    ax.plot_surface(x,y,z)"
   ]
  },
  {
   "cell_type": "markdown",
   "metadata": {},
   "source": [
    "### Simulated annealing code Q1"
   ]
  },
  {
   "cell_type": "code",
   "execution_count": null,
   "metadata": {},
   "outputs": [],
   "source": [
    "def SA(solution,evaluation,delta,boundary,cooling_schedule):\n",
    "    \"\"\" Simulated Annealing for minimization\n",
    "    solution: np.array. Initial guess of solution\n",
    "    evaluation: func. Function to evaluate solution\n",
    "    delta: float. Magnitude of random displacement\n",
    "    boundary: array of int/float. [lowerbound,upperbound]\n",
    "    cooling_schedule: np.array. An array of tempretures for simulated annealing\n",
    "    \"\"\"\n",
    "    best_solution=solution.copy()\n",
    "    lowest_eval=evaluation(best_solution)\n",
    "    for idx,temp in enumerate(cooling_schedule):\n",
    "        if idx%500==0:\n",
    "            print(\"%d/%d   temp:%f\"%(idx,len(cooling_schedule),temp))\n",
    "        for n in range(len(solution)):\n",
    "            trial=solution.copy()\n",
    "            trial[n]+=delta*(2*np.random.random()-1)\n",
    "            if trial[n]>=boundary[0] and trial[n]<=boundary[1]:\n",
    "                #fill in acceptance criterion\n",
    "                if ...:\n",
    "                    solution=trial\n",
    "                    if evaluation(solution)<lowest_eval:\n",
    "                        #update solution here\n",
    "                        ...\n",
    "    return {\"solution\":best_solution,\"evaluation\":lowest_eval}"
   ]
  },
  {
   "cell_type": "markdown",
   "metadata": {},
   "source": [
    "### Simulated annealing code Q2 (d)"
   ]
  },
  {
   "cell_type": "code",
   "execution_count": null,
   "metadata": {},
   "outputs": [],
   "source": [
    "def simulated_annealing(feats,ranks,centers,start_temp,alpha,steps=10000):\n",
    "    \"\"\" Simulated Annealing for clustering\n",
    "    feats: pd.DataFrame. Normalized chemical descriptors\n",
    "    ranks: np.array shape(178,). Initial assignment.\n",
    "    centers: np.array shape (3,13). Fixed centers\n",
    "    start_temp: float. Initial tempreture\n",
    "    alpha: float. Hyperparameter for geometric cooling\n",
    "    steps: int. \n",
    "    \"\"\"\n",
    "    best_rank=ranks.copy()\n",
    "    # evaluate the cost function with current best rank\n",
    "    lowest_eval=...\n",
    "    for step in (range(steps)):\n",
    "        # update tempture according to geometric cooling schedule\n",
    "        temp=...\n",
    "        if step%500==0:\n",
    "            print(step,temp,lowest_eval)\n",
    "        for n in range(len(ranks)):\n",
    "            trial=ranks.copy()\n",
    "            rand_choice=np.random.randint(3)+1\n",
    "            trial[n]=rand_choice\n",
    "            # Metropolis acceptance criterion\n",
    "            if ...\n",
    "                ranks=trial\n",
    "                # update evaluation\n",
    "                new_eval=...\n",
    "                if new_eval<lowest_eval:\n",
    "                    #update best rank and lowest_eval\n",
    "                    ...\n",
    "    return {\"solution\":best_rank,\"evaluation\":lowest_eval}"
   ]
  },
  {
   "cell_type": "markdown",
   "metadata": {},
   "source": [
    "To validate how good is your solution"
   ]
  },
  {
   "cell_type": "code",
   "execution_count": null,
   "metadata": {},
   "outputs": [],
   "source": [
    "def validate(solution,df):\n",
    "    \"\"\"Prints out how many wines are corretly assigned to its cultivar\n",
    "    solution: np.array shape(178,). Your solution.\n",
    "    df: pd.DataFrame. Read-in of the wines.csv dataset\n",
    "    \"\"\"\n",
    "    # correct classification\n",
    "    ranking = df['ranking'].values\n",
    "    cluster_1 = list(df[df['ranking']==1].index)\n",
    "    cluster_2 = list(df[df['ranking']==2].index)\n",
    "    cluster_3 = list(df[df['ranking']==3].index)\n",
    "    clusters =[cluster_1,cluster_2,cluster_3]\n",
    "\n",
    "    for i in range(3):\n",
    "        scores=[]\n",
    "        for j in range(1,4):\n",
    "            sol_j= [idx for idx,k in enumerate(solution) if k==j]\n",
    "            scores.append(len(np.intersect1d(sol_j, clusters[i])))\n",
    "\n",
    "        print(f'Class {i+1} - cultivar {np.argmax(scores)+1}: {np.max(scores)} out \\\n",
    "of {len(clusters[np.argmax(scores)])} are classified correctly')"
   ]
  }
 ],
 "metadata": {
  "kernelspec": {
   "display_name": "Python 3 (ipykernel)",
   "language": "python",
   "name": "python3"
  },
  "language_info": {
   "codemirror_mode": {
    "name": "ipython",
    "version": 3
   },
   "file_extension": ".py",
   "mimetype": "text/x-python",
   "name": "python",
   "nbconvert_exporter": "python",
   "pygments_lexer": "ipython3",
   "version": "3.9.7"
  }
 },
 "nbformat": 4,
 "nbformat_minor": 4
}
