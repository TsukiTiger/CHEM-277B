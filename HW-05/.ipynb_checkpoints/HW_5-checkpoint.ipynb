{
 "cells": [
  {
   "cell_type": "markdown",
   "id": "06f2a074",
   "metadata": {},
   "source": [
    "# Homework #5 Answers\n",
    "\n",
    "## Chongye Feng"
   ]
  },
  {
   "cell_type": "code",
   "execution_count": 1,
   "id": "5cb1c894",
   "metadata": {},
   "outputs": [],
   "source": [
    "# importing libraries\n",
    "import numba\n",
    "import numpy as np\n",
    "import pandas as pd\n",
    "from pylab import *\n",
    "from mpl_toolkits.mplot3d import axes3d\n",
    "from scipy.optimize import minimize\n",
    "\n",
    "from sklearn.model_selection import StratifiedKFold\n",
    "from sklearn.metrics import accuracy_score\n",
    "from sklearn.preprocessing import LabelEncoder\n",
    "from sklearn.model_selection import train_test_split\n",
    "\n",
    "# setting the random seed\n",
    "np.random.seed(0)"
   ]
  },
  {
   "cell_type": "markdown",
   "id": "7f67e5da",
   "metadata": {},
   "source": [
    "---"
   ]
  },
  {
   "cell_type": "markdown",
   "id": "f69adbd9",
   "metadata": {},
   "source": [
    "### Q1"
   ]
  },
  {
   "cell_type": "markdown",
   "id": "22b63c0f",
   "metadata": {},
   "source": [
    "#### a:"
   ]
  },
  {
   "cell_type": "markdown",
   "id": "94f9dfa3",
   "metadata": {},
   "source": [
    "P[-|M]: the probability of testing negative given that the individual has the marker.\n",
    "\n",
    "We can use the complement rule to find P[-|M] = 1 - P[+|M] = 1 - 0.95 = 0.05."
   ]
  },
  {
   "cell_type": "markdown",
   "id": "3721af43",
   "metadata": {},
   "source": [
    "P[+|not M]: the probability of testing positive given that the individual does not have the marker.\n",
    "\n",
    "We can use the complement rule to find P[+|not M] = 1 - P[-|not M] = 1 - 0.95 = 0.05."
   ]
  },
  {
   "cell_type": "markdown",
   "id": "46e5bfa9",
   "metadata": {},
   "source": [
    "P[not M]: the probability of the individual not having the marker.\n",
    "\n",
    "We can use the complement rule to find P[not M] = 1 - P[M] = 1 - 0.01 = 0.99."
   ]
  },
  {
   "cell_type": "markdown",
   "id": "0b9046b2",
   "metadata": {},
   "source": [
    "#### b:"
   ]
  },
  {
   "cell_type": "markdown",
   "id": "c175ab18",
   "metadata": {},
   "source": [
    "$$P[M|+] = P[+|M] * P[M] / P[+]$$"
   ]
  },
  {
   "cell_type": "markdown",
   "id": "a4d1029d",
   "metadata": {},
   "source": [
    "$$P[+] = P[+|M] * P[M] + P[+|not M] * P[not M]$$\n",
    "$$P[+] = 0.95 * 0.01 + 0.05 * 0.99 = 0.059$$"
   ]
  },
  {
   "cell_type": "markdown",
   "id": "d7c4f955",
   "metadata": {},
   "source": [
    "So:"
   ]
  },
  {
   "cell_type": "markdown",
   "id": "e413608c",
   "metadata": {},
   "source": [
    "$$P[M|+] = P[+|M] * P[M] / P[+] = (0.95 * 0.01) / 0.059$$\n",
    "$$P[M|+] = 0.161$$"
   ]
  },
  {
   "cell_type": "markdown",
   "id": "8a47e800",
   "metadata": {},
   "source": [
    "Therefore, the chance that a randomly selected person who tests positive for the marker actually has the marker is only **16.1%**. \n",
    "\n",
    "This result may be surprising, as one might expect a positive test to be a strong indicator of having the marker. However, the low prevalence of the marker (only 1% of the population) and the fact that the test has a relatively high false positive rate (5% for people without the marker) contribute to the low positive predictive value of the test. In other words, many people who test positive for the marker may not actually have it, which is an important consideration when interpreting the results of this test.\n",
    "\n"
   ]
  },
  {
   "cell_type": "markdown",
   "id": "92361050",
   "metadata": {},
   "source": [
    "#### c:"
   ]
  },
  {
   "cell_type": "markdown",
   "id": "c82e9efa",
   "metadata": {},
   "source": [
    "$$P[+] = P[+|M] * P[M] + P[+|not M] * P[not M]$$\n",
    "$$P[+] = 0.95 * 0.1 + 0.05 * 0.9 = 0.14$$"
   ]
  },
  {
   "cell_type": "markdown",
   "id": "7851c2ed",
   "metadata": {},
   "source": [
    "$$P[M|+] = P[+|M] * P[M] / P[+] = (0.95 * 0.1) / 0.14$$\n",
    "$$P[M|+] = 0.679$$"
   ]
  },
  {
   "cell_type": "markdown",
   "id": "7fb1ce66",
   "metadata": {},
   "source": [
    "Therefore, the chance that a randomly selected individual who tests positive actually has the marker is 67.9%, which is much higher than in the previous scenario where the frequency of the marker was only 1%. This result highlights the importance of considering the **prior** probability of having the marker when interpreting the results of a positive test. \n",
    "\n",
    "When the prior probability is higher, a positive test is a stronger indicator of having the marker."
   ]
  },
  {
   "cell_type": "markdown",
   "id": "fa164e19",
   "metadata": {},
   "source": [
    "---"
   ]
  },
  {
   "cell_type": "markdown",
   "id": "c22ed2f2",
   "metadata": {},
   "source": [
    "### Q2"
   ]
  },
  {
   "cell_type": "markdown",
   "id": "8fdb420d",
   "metadata": {},
   "source": [
    "#### a:"
   ]
  },
  {
   "cell_type": "code",
   "execution_count": 2,
   "id": "b1accdb8",
   "metadata": {},
   "outputs": [],
   "source": [
    "wines = pd.read_csv(\"wines.csv\")"
   ]
  },
  {
   "cell_type": "code",
   "execution_count": 3,
   "id": "6b6c38c8",
   "metadata": {},
   "outputs": [
    {
     "data": {
      "text/html": [
       "<div>\n",
       "<style scoped>\n",
       "    .dataframe tbody tr th:only-of-type {\n",
       "        vertical-align: middle;\n",
       "    }\n",
       "\n",
       "    .dataframe tbody tr th {\n",
       "        vertical-align: top;\n",
       "    }\n",
       "\n",
       "    .dataframe thead th {\n",
       "        text-align: right;\n",
       "    }\n",
       "</style>\n",
       "<table border=\"1\" class=\"dataframe\">\n",
       "  <thead>\n",
       "    <tr style=\"text-align: right;\">\n",
       "      <th></th>\n",
       "      <th>Alcohol %</th>\n",
       "      <th>Malic Acid</th>\n",
       "      <th>Ash</th>\n",
       "      <th>Alkalinity</th>\n",
       "      <th>Mg</th>\n",
       "      <th>Phenols</th>\n",
       "      <th>Flavanoids</th>\n",
       "      <th>Phenols.1</th>\n",
       "      <th>Proantho-cyanins</th>\n",
       "      <th>Color intensity</th>\n",
       "      <th>Hue</th>\n",
       "      <th>OD280 315</th>\n",
       "      <th>Proline</th>\n",
       "      <th>Start assignment</th>\n",
       "      <th>ranking</th>\n",
       "    </tr>\n",
       "  </thead>\n",
       "  <tbody>\n",
       "    <tr>\n",
       "      <th>0</th>\n",
       "      <td>14.23</td>\n",
       "      <td>1.71</td>\n",
       "      <td>2.43</td>\n",
       "      <td>15.6</td>\n",
       "      <td>127</td>\n",
       "      <td>2.80</td>\n",
       "      <td>3.06</td>\n",
       "      <td>0.28</td>\n",
       "      <td>2.29</td>\n",
       "      <td>5.64</td>\n",
       "      <td>1.04</td>\n",
       "      <td>3.92</td>\n",
       "      <td>1065</td>\n",
       "      <td>1</td>\n",
       "      <td>1</td>\n",
       "    </tr>\n",
       "    <tr>\n",
       "      <th>1</th>\n",
       "      <td>13.24</td>\n",
       "      <td>2.59</td>\n",
       "      <td>2.87</td>\n",
       "      <td>21.0</td>\n",
       "      <td>118</td>\n",
       "      <td>2.80</td>\n",
       "      <td>2.69</td>\n",
       "      <td>0.39</td>\n",
       "      <td>1.82</td>\n",
       "      <td>4.32</td>\n",
       "      <td>1.04</td>\n",
       "      <td>2.93</td>\n",
       "      <td>735</td>\n",
       "      <td>1</td>\n",
       "      <td>1</td>\n",
       "    </tr>\n",
       "    <tr>\n",
       "      <th>2</th>\n",
       "      <td>14.83</td>\n",
       "      <td>1.64</td>\n",
       "      <td>2.17</td>\n",
       "      <td>14.0</td>\n",
       "      <td>97</td>\n",
       "      <td>2.80</td>\n",
       "      <td>2.98</td>\n",
       "      <td>0.29</td>\n",
       "      <td>1.98</td>\n",
       "      <td>5.20</td>\n",
       "      <td>1.08</td>\n",
       "      <td>2.85</td>\n",
       "      <td>1045</td>\n",
       "      <td>1</td>\n",
       "      <td>1</td>\n",
       "    </tr>\n",
       "    <tr>\n",
       "      <th>3</th>\n",
       "      <td>14.12</td>\n",
       "      <td>1.48</td>\n",
       "      <td>2.32</td>\n",
       "      <td>16.8</td>\n",
       "      <td>95</td>\n",
       "      <td>2.20</td>\n",
       "      <td>2.43</td>\n",
       "      <td>0.26</td>\n",
       "      <td>1.57</td>\n",
       "      <td>5.00</td>\n",
       "      <td>1.17</td>\n",
       "      <td>2.82</td>\n",
       "      <td>1280</td>\n",
       "      <td>1</td>\n",
       "      <td>1</td>\n",
       "    </tr>\n",
       "    <tr>\n",
       "      <th>4</th>\n",
       "      <td>13.75</td>\n",
       "      <td>1.73</td>\n",
       "      <td>2.41</td>\n",
       "      <td>16.0</td>\n",
       "      <td>89</td>\n",
       "      <td>2.60</td>\n",
       "      <td>2.76</td>\n",
       "      <td>0.29</td>\n",
       "      <td>1.81</td>\n",
       "      <td>5.60</td>\n",
       "      <td>1.15</td>\n",
       "      <td>2.90</td>\n",
       "      <td>1320</td>\n",
       "      <td>1</td>\n",
       "      <td>1</td>\n",
       "    </tr>\n",
       "    <tr>\n",
       "      <th>...</th>\n",
       "      <td>...</td>\n",
       "      <td>...</td>\n",
       "      <td>...</td>\n",
       "      <td>...</td>\n",
       "      <td>...</td>\n",
       "      <td>...</td>\n",
       "      <td>...</td>\n",
       "      <td>...</td>\n",
       "      <td>...</td>\n",
       "      <td>...</td>\n",
       "      <td>...</td>\n",
       "      <td>...</td>\n",
       "      <td>...</td>\n",
       "      <td>...</td>\n",
       "      <td>...</td>\n",
       "    </tr>\n",
       "    <tr>\n",
       "      <th>173</th>\n",
       "      <td>13.40</td>\n",
       "      <td>4.60</td>\n",
       "      <td>2.86</td>\n",
       "      <td>25.0</td>\n",
       "      <td>112</td>\n",
       "      <td>1.98</td>\n",
       "      <td>0.96</td>\n",
       "      <td>0.27</td>\n",
       "      <td>1.11</td>\n",
       "      <td>8.50</td>\n",
       "      <td>0.67</td>\n",
       "      <td>1.92</td>\n",
       "      <td>630</td>\n",
       "      <td>3</td>\n",
       "      <td>3</td>\n",
       "    </tr>\n",
       "    <tr>\n",
       "      <th>174</th>\n",
       "      <td>13.27</td>\n",
       "      <td>4.28</td>\n",
       "      <td>2.26</td>\n",
       "      <td>20.0</td>\n",
       "      <td>120</td>\n",
       "      <td>1.59</td>\n",
       "      <td>0.69</td>\n",
       "      <td>0.43</td>\n",
       "      <td>1.35</td>\n",
       "      <td>10.20</td>\n",
       "      <td>0.59</td>\n",
       "      <td>1.56</td>\n",
       "      <td>835</td>\n",
       "      <td>3</td>\n",
       "      <td>3</td>\n",
       "    </tr>\n",
       "    <tr>\n",
       "      <th>175</th>\n",
       "      <td>13.17</td>\n",
       "      <td>2.59</td>\n",
       "      <td>2.37</td>\n",
       "      <td>20.0</td>\n",
       "      <td>120</td>\n",
       "      <td>1.65</td>\n",
       "      <td>0.68</td>\n",
       "      <td>0.53</td>\n",
       "      <td>1.46</td>\n",
       "      <td>9.30</td>\n",
       "      <td>0.60</td>\n",
       "      <td>1.62</td>\n",
       "      <td>840</td>\n",
       "      <td>3</td>\n",
       "      <td>3</td>\n",
       "    </tr>\n",
       "    <tr>\n",
       "      <th>176</th>\n",
       "      <td>14.13</td>\n",
       "      <td>4.10</td>\n",
       "      <td>2.74</td>\n",
       "      <td>24.5</td>\n",
       "      <td>96</td>\n",
       "      <td>2.05</td>\n",
       "      <td>0.76</td>\n",
       "      <td>0.56</td>\n",
       "      <td>1.35</td>\n",
       "      <td>9.20</td>\n",
       "      <td>0.61</td>\n",
       "      <td>1.60</td>\n",
       "      <td>560</td>\n",
       "      <td>3</td>\n",
       "      <td>3</td>\n",
       "    </tr>\n",
       "    <tr>\n",
       "      <th>177</th>\n",
       "      <td>12.25</td>\n",
       "      <td>1.73</td>\n",
       "      <td>2.12</td>\n",
       "      <td>19.0</td>\n",
       "      <td>80</td>\n",
       "      <td>1.65</td>\n",
       "      <td>2.03</td>\n",
       "      <td>0.37</td>\n",
       "      <td>1.63</td>\n",
       "      <td>3.40</td>\n",
       "      <td>1.00</td>\n",
       "      <td>3.17</td>\n",
       "      <td>510</td>\n",
       "      <td>3</td>\n",
       "      <td>2</td>\n",
       "    </tr>\n",
       "  </tbody>\n",
       "</table>\n",
       "<p>178 rows × 15 columns</p>\n",
       "</div>"
      ],
      "text/plain": [
       "     Alcohol %  Malic Acid   Ash  Alkalinity   Mg  Phenols  Flavanoids  \\\n",
       "0        14.23        1.71  2.43        15.6  127     2.80        3.06   \n",
       "1        13.24        2.59  2.87        21.0  118     2.80        2.69   \n",
       "2        14.83        1.64  2.17        14.0   97     2.80        2.98   \n",
       "3        14.12        1.48  2.32        16.8   95     2.20        2.43   \n",
       "4        13.75        1.73  2.41        16.0   89     2.60        2.76   \n",
       "..         ...         ...   ...         ...  ...      ...         ...   \n",
       "173      13.40        4.60  2.86        25.0  112     1.98        0.96   \n",
       "174      13.27        4.28  2.26        20.0  120     1.59        0.69   \n",
       "175      13.17        2.59  2.37        20.0  120     1.65        0.68   \n",
       "176      14.13        4.10  2.74        24.5   96     2.05        0.76   \n",
       "177      12.25        1.73  2.12        19.0   80     1.65        2.03   \n",
       "\n",
       "     Phenols.1  Proantho-cyanins  Color intensity   Hue  OD280 315  Proline  \\\n",
       "0         0.28              2.29             5.64  1.04       3.92     1065   \n",
       "1         0.39              1.82             4.32  1.04       2.93      735   \n",
       "2         0.29              1.98             5.20  1.08       2.85     1045   \n",
       "3         0.26              1.57             5.00  1.17       2.82     1280   \n",
       "4         0.29              1.81             5.60  1.15       2.90     1320   \n",
       "..         ...               ...              ...   ...        ...      ...   \n",
       "173       0.27              1.11             8.50  0.67       1.92      630   \n",
       "174       0.43              1.35            10.20  0.59       1.56      835   \n",
       "175       0.53              1.46             9.30  0.60       1.62      840   \n",
       "176       0.56              1.35             9.20  0.61       1.60      560   \n",
       "177       0.37              1.63             3.40  1.00       3.17      510   \n",
       "\n",
       "     Start assignment  ranking  \n",
       "0                   1        1  \n",
       "1                   1        1  \n",
       "2                   1        1  \n",
       "3                   1        1  \n",
       "4                   1        1  \n",
       "..                ...      ...  \n",
       "173                 3        3  \n",
       "174                 3        3  \n",
       "175                 3        3  \n",
       "176                 3        3  \n",
       "177                 3        2  \n",
       "\n",
       "[178 rows x 15 columns]"
      ]
     },
     "execution_count": 3,
     "metadata": {},
     "output_type": "execute_result"
    }
   ],
   "source": [
    "wines"
   ]
  },
  {
   "cell_type": "code",
   "execution_count": 4,
   "id": "8bdbda25",
   "metadata": {},
   "outputs": [
    {
     "data": {
      "text/html": [
       "<div>\n",
       "<style scoped>\n",
       "    .dataframe tbody tr th:only-of-type {\n",
       "        vertical-align: middle;\n",
       "    }\n",
       "\n",
       "    .dataframe tbody tr th {\n",
       "        vertical-align: top;\n",
       "    }\n",
       "\n",
       "    .dataframe thead th {\n",
       "        text-align: right;\n",
       "    }\n",
       "</style>\n",
       "<table border=\"1\" class=\"dataframe\">\n",
       "  <thead>\n",
       "    <tr style=\"text-align: right;\">\n",
       "      <th></th>\n",
       "      <th>Alcohol %</th>\n",
       "      <th>Malic Acid</th>\n",
       "      <th>Ash</th>\n",
       "      <th>Alkalinity</th>\n",
       "      <th>Mg</th>\n",
       "      <th>Phenols</th>\n",
       "      <th>Flavanoids</th>\n",
       "      <th>Phenols.1</th>\n",
       "      <th>Proantho-cyanins</th>\n",
       "      <th>Color intensity</th>\n",
       "      <th>Hue</th>\n",
       "      <th>OD280 315</th>\n",
       "      <th>Proline</th>\n",
       "      <th>Start assignment</th>\n",
       "      <th>ranking</th>\n",
       "    </tr>\n",
       "  </thead>\n",
       "  <tbody>\n",
       "    <tr>\n",
       "      <th>0</th>\n",
       "      <td>14.23</td>\n",
       "      <td>1.71</td>\n",
       "      <td>2.43</td>\n",
       "      <td>15.6</td>\n",
       "      <td>127</td>\n",
       "      <td>2.8</td>\n",
       "      <td>3.06</td>\n",
       "      <td>0.28</td>\n",
       "      <td>2.29</td>\n",
       "      <td>5.64</td>\n",
       "      <td>1.04</td>\n",
       "      <td>3.92</td>\n",
       "      <td>1065</td>\n",
       "      <td>1</td>\n",
       "      <td>1</td>\n",
       "    </tr>\n",
       "    <tr>\n",
       "      <th>1</th>\n",
       "      <td>13.24</td>\n",
       "      <td>2.59</td>\n",
       "      <td>2.87</td>\n",
       "      <td>21.0</td>\n",
       "      <td>118</td>\n",
       "      <td>2.8</td>\n",
       "      <td>2.69</td>\n",
       "      <td>0.39</td>\n",
       "      <td>1.82</td>\n",
       "      <td>4.32</td>\n",
       "      <td>1.04</td>\n",
       "      <td>2.93</td>\n",
       "      <td>735</td>\n",
       "      <td>1</td>\n",
       "      <td>1</td>\n",
       "    </tr>\n",
       "    <tr>\n",
       "      <th>2</th>\n",
       "      <td>14.83</td>\n",
       "      <td>1.64</td>\n",
       "      <td>2.17</td>\n",
       "      <td>14.0</td>\n",
       "      <td>97</td>\n",
       "      <td>2.8</td>\n",
       "      <td>2.98</td>\n",
       "      <td>0.29</td>\n",
       "      <td>1.98</td>\n",
       "      <td>5.20</td>\n",
       "      <td>1.08</td>\n",
       "      <td>2.85</td>\n",
       "      <td>1045</td>\n",
       "      <td>1</td>\n",
       "      <td>1</td>\n",
       "    </tr>\n",
       "  </tbody>\n",
       "</table>\n",
       "</div>"
      ],
      "text/plain": [
       "   Alcohol %  Malic Acid   Ash  Alkalinity   Mg  Phenols  Flavanoids  \\\n",
       "0      14.23        1.71  2.43        15.6  127      2.8        3.06   \n",
       "1      13.24        2.59  2.87        21.0  118      2.8        2.69   \n",
       "2      14.83        1.64  2.17        14.0   97      2.8        2.98   \n",
       "\n",
       "   Phenols.1  Proantho-cyanins  Color intensity   Hue  OD280 315  Proline  \\\n",
       "0       0.28              2.29             5.64  1.04       3.92     1065   \n",
       "1       0.39              1.82             4.32  1.04       2.93      735   \n",
       "2       0.29              1.98             5.20  1.08       2.85     1045   \n",
       "\n",
       "   Start assignment  ranking  \n",
       "0                 1        1  \n",
       "1                 1        1  \n",
       "2                 1        1  "
      ]
     },
     "execution_count": 4,
     "metadata": {},
     "output_type": "execute_result"
    }
   ],
   "source": [
    "cultivar_1 = wines[wines['Start assignment'] == 1]\n",
    "cultivar_1.head(3)"
   ]
  },
  {
   "cell_type": "code",
   "execution_count": 5,
   "id": "7696e105",
   "metadata": {},
   "outputs": [
    {
     "data": {
      "text/plain": [
       "<AxesSubplot:ylabel='Frequency'>"
      ]
     },
     "execution_count": 5,
     "metadata": {},
     "output_type": "execute_result"
    },
    {
     "data": {
      "image/png": "[encoded data removed]",
      "text/plain": [
       "<Figure size 432x288 with 1 Axes>"
      ]
     },
     "metadata": {
      "needs_background": "light"
     },
     "output_type": "display_data"
    }
   ],
   "source": [
    "cultivar_1['Alcohol %'].plot.hist(bins=20)"
   ]
  },
  {
   "cell_type": "code",
   "execution_count": 6,
   "id": "07d38cd1",
   "metadata": {},
   "outputs": [],
   "source": [
    "class NaiveBayesClassifier():\n",
    "    def __init__(self):\n",
    "        self.type_indices={}    # store the indices of wines that belong to each cultivar as a boolean array of length 178\n",
    "        self.type_stats={}      # store the mean and std of each cultivar\n",
    "        self.ndata = 0\n",
    "        self.trained=False\n",
    "    \n",
    "    @staticmethod\n",
    "    def gaussian(x,mean,std):\n",
    "        Z = np.sqrt(2 * np.pi * std)\n",
    "        exp = np.exp(- np.square(x - mean) / (2 * np.square(std)))\n",
    "        return (1 / Z) * exp\n",
    "    \n",
    "    @staticmethod\n",
    "    def calculate_statistics(x_values):\n",
    "        # Returns a list with length of input features. Each element is a tuple, with the input feature's average and standard deviation\n",
    "        n_feats=x_values.shape[1]\n",
    "        return [(np.average(x_values[:,n]),np.std(x_values[:,n])) for n in range(n_feats)]\n",
    "    \n",
    "    @staticmethod\n",
    "    def calculate_prob(x_input,stats):\n",
    "        \"\"\"Calculate the probability that the input features belong to a specific class(P(X|C)), defined by the statistics of features in that class\n",
    "        x_input: np.array shape(nfeatures)\n",
    "        stats: list of tuple [(mean1,std1),(means2,std2),...]\n",
    "        \"\"\" \n",
    "        prob = 1.0\n",
    "        for i in range(len(x_input)):\n",
    "            prob *= NaiveBayesClassifier.gaussian(x_input[i], stats[i][0], stats[i][1])\n",
    "        return prob\n",
    "    \n",
    "    def fit(self,xs,ys):\n",
    "        # Train the classifier by calculating the statistics of different features in each class\n",
    "        self.ndata = len(ys)\n",
    "        for y in set(ys):\n",
    "            type_filter= (ys==y)\n",
    "            self.type_indices[y]=type_filter\n",
    "            self.type_stats[y]=self.calculate_statistics(xs[type_filter])\n",
    "        self.trained=True\n",
    "            \n",
    "    def predict(self,xs):\n",
    "        # Do the prediction by outputing the class that has highest probability\n",
    "        if len(xs.shape)>1:\n",
    "            print(\"Only accepts one sample at a time!\")\n",
    "        if self.trained:\n",
    "            guess=None\n",
    "            max_prob=0\n",
    "            # P(C|X) = P(X|C)*P(C) / sum_i(P(X|C_i)*P(C_i)) (deniminator for normalization only, can be ignored)\n",
    "            for y_type in self.type_stats:\n",
    "                prob= self.calculate_prob(xs, self.type_stats[y_type])\n",
    "                if prob>max_prob:\n",
    "                    max_prob=prob\n",
    "                    guess=y_type\n",
    "            return guess\n",
    "        else:\n",
    "            print(\"Please train the classifier first!\")"
   ]
  },
  {
   "cell_type": "code",
   "execution_count": 7,
   "id": "494bbe2d",
   "metadata": {},
   "outputs": [
    {
     "data": {
      "text/plain": [
       "Index(['Alcohol %', 'Malic Acid', 'Ash', 'Alkalinity', 'Mg', 'Phenols',\n",
       "       'Flavanoids', 'Phenols.1', 'Proantho-cyanins', 'Color intensity', 'Hue',\n",
       "       'OD280 315', 'Proline', 'Start assignment', 'ranking'],\n",
       "      dtype='object')"
      ]
     },
     "execution_count": 7,
     "metadata": {},
     "output_type": "execute_result"
    }
   ],
   "source": [
    "wines.columns"
   ]
  },
  {
   "cell_type": "code",
   "execution_count": 8,
   "id": "3360d7ad",
   "metadata": {
    "scrolled": true
   },
   "outputs": [
    {
     "data": {
      "text/plain": [
       "12.979310344827589"
      ]
     },
     "execution_count": 8,
     "metadata": {},
     "output_type": "execute_result"
    }
   ],
   "source": [
    "alcohol_mean = cultivar_1['Alcohol %'].mean()\n",
    "alcohol_mean"
   ]
  },
  {
   "cell_type": "code",
   "execution_count": 9,
   "id": "4d674094",
   "metadata": {},
   "outputs": [
    {
     "data": {
      "text/plain": [
       "0.8966738969296291"
      ]
     },
     "execution_count": 9,
     "metadata": {},
     "output_type": "execute_result"
    }
   ],
   "source": [
    "alcohol_std = cultivar_1['Alcohol %'].std()\n",
    "alcohol_std"
   ]
  },
  {
   "cell_type": "code",
   "execution_count": 10,
   "id": "924561a1",
   "metadata": {},
   "outputs": [
    {
     "data": {
      "text/plain": [
       "0.4211891675834982"
      ]
     },
     "execution_count": 10,
     "metadata": {},
     "output_type": "execute_result"
    }
   ],
   "source": [
    "classifier = NaiveBayesClassifier()\n",
    "\n",
    "classifier.gaussian(13,alcohol_mean, alcohol_std)"
   ]
  },
  {
   "cell_type": "markdown",
   "id": "4edb9481",
   "metadata": {},
   "source": [
    "We choose the Gaussian distribution as it is a commonly used probability distribution to model continuous variables. It has a bell-shaped curve that is symmetric around the mean, and the standard deviation controls the spread of the distribution. Additionally, the Gaussian distribution has some useful properties, such as being differentiable and having a closed-form expression for the maximum likelihood estimates of its parameters.\n",
    "\n",
    "Eventhough the actual distribution is not exactly gaussian-like, we should be able to use Gaussian distribution to model our data."
   ]
  },
  {
   "cell_type": "markdown",
   "id": "cb10d629",
   "metadata": {},
   "source": [
    "For cultivar 1, the probability of having an Alcohol % of 13 is 42.12%"
   ]
  },
  {
   "cell_type": "markdown",
   "id": "9afd0eb7",
   "metadata": {},
   "source": [
    "#### b:"
   ]
  },
  {
   "cell_type": "code",
   "execution_count": 11,
   "id": "d884487e",
   "metadata": {},
   "outputs": [],
   "source": [
    "def calculate_accuracy(model,xs,ys):\n",
    "    y_pred=np.zeros_like(ys)\n",
    "    for idx,x in enumerate(xs):\n",
    "        y_pred[idx]=model.predict(x)\n",
    "    return np.sum(ys==y_pred)/len(ys)"
   ]
  },
  {
   "cell_type": "code",
   "execution_count": 12,
   "id": "36f35c65",
   "metadata": {},
   "outputs": [
    {
     "data": {
      "text/plain": [
       "Index(['Alcohol %', 'Malic Acid', 'Ash', 'Alkalinity', 'Mg', 'Phenols',\n",
       "       'Flavanoids', 'Phenols.1', 'Proantho-cyanins', 'Color intensity', 'Hue',\n",
       "       'OD280 315', 'Proline', 'Start assignment', 'ranking'],\n",
       "      dtype='object')"
      ]
     },
     "execution_count": 12,
     "metadata": {},
     "output_type": "execute_result"
    }
   ],
   "source": [
    "wines.columns"
   ]
  },
  {
   "cell_type": "code",
   "execution_count": 13,
   "id": "7cedaa37",
   "metadata": {},
   "outputs": [],
   "source": [
    "atts = ['Alcohol %', 'Malic Acid', 'Ash', 'Alkalinity', 'Mg', 'Phenols', 'Flavanoids', 'Phenols.1', 'Proantho-cyanins', 'Color intensity', 'Hue', 'OD280 315', 'Proline']"
   ]
  },
  {
   "cell_type": "code",
   "execution_count": 14,
   "id": "f43dbf09",
   "metadata": {},
   "outputs": [
    {
     "data": {
      "text/html": [
       "<div>\n",
       "<style scoped>\n",
       "    .dataframe tbody tr th:only-of-type {\n",
       "        vertical-align: middle;\n",
       "    }\n",
       "\n",
       "    .dataframe tbody tr th {\n",
       "        vertical-align: top;\n",
       "    }\n",
       "\n",
       "    .dataframe thead th {\n",
       "        text-align: right;\n",
       "    }\n",
       "</style>\n",
       "<table border=\"1\" class=\"dataframe\">\n",
       "  <thead>\n",
       "    <tr style=\"text-align: right;\">\n",
       "      <th></th>\n",
       "      <th>Alcohol %</th>\n",
       "      <th>Malic Acid</th>\n",
       "      <th>Ash</th>\n",
       "      <th>Alkalinity</th>\n",
       "      <th>Mg</th>\n",
       "      <th>Phenols</th>\n",
       "      <th>Flavanoids</th>\n",
       "      <th>Phenols.1</th>\n",
       "      <th>Proantho-cyanins</th>\n",
       "      <th>Color intensity</th>\n",
       "      <th>Hue</th>\n",
       "      <th>OD280 315</th>\n",
       "      <th>Proline</th>\n",
       "      <th>Start assignment</th>\n",
       "      <th>ranking</th>\n",
       "    </tr>\n",
       "  </thead>\n",
       "  <tbody>\n",
       "    <tr>\n",
       "      <th>0</th>\n",
       "      <td>1.514341</td>\n",
       "      <td>-0.560668</td>\n",
       "      <td>0.231400</td>\n",
       "      <td>-1.166303</td>\n",
       "      <td>1.908522</td>\n",
       "      <td>0.806722</td>\n",
       "      <td>1.031908</td>\n",
       "      <td>-0.657708</td>\n",
       "      <td>1.221438</td>\n",
       "      <td>0.251009</td>\n",
       "      <td>0.361158</td>\n",
       "      <td>1.842721</td>\n",
       "      <td>1.010159</td>\n",
       "      <td>1</td>\n",
       "      <td>1</td>\n",
       "    </tr>\n",
       "    <tr>\n",
       "      <th>1</th>\n",
       "      <td>0.294868</td>\n",
       "      <td>0.227053</td>\n",
       "      <td>1.835226</td>\n",
       "      <td>0.450674</td>\n",
       "      <td>1.278379</td>\n",
       "      <td>0.806722</td>\n",
       "      <td>0.661485</td>\n",
       "      <td>0.226158</td>\n",
       "      <td>0.400275</td>\n",
       "      <td>-0.318377</td>\n",
       "      <td>0.361158</td>\n",
       "      <td>0.448336</td>\n",
       "      <td>-0.037767</td>\n",
       "      <td>1</td>\n",
       "      <td>1</td>\n",
       "    </tr>\n",
       "    <tr>\n",
       "      <th>2</th>\n",
       "      <td>2.253415</td>\n",
       "      <td>-0.623328</td>\n",
       "      <td>-0.716315</td>\n",
       "      <td>-1.645408</td>\n",
       "      <td>-0.191954</td>\n",
       "      <td>0.806722</td>\n",
       "      <td>0.951817</td>\n",
       "      <td>-0.577356</td>\n",
       "      <td>0.679820</td>\n",
       "      <td>0.061213</td>\n",
       "      <td>0.536158</td>\n",
       "      <td>0.335659</td>\n",
       "      <td>0.946649</td>\n",
       "      <td>1</td>\n",
       "      <td>1</td>\n",
       "    </tr>\n",
       "    <tr>\n",
       "      <th>3</th>\n",
       "      <td>1.378844</td>\n",
       "      <td>-0.766550</td>\n",
       "      <td>-0.169557</td>\n",
       "      <td>-0.806975</td>\n",
       "      <td>-0.331985</td>\n",
       "      <td>-0.151973</td>\n",
       "      <td>0.401188</td>\n",
       "      <td>-0.818411</td>\n",
       "      <td>-0.036514</td>\n",
       "      <td>-0.025057</td>\n",
       "      <td>0.929908</td>\n",
       "      <td>0.293405</td>\n",
       "      <td>1.692900</td>\n",
       "      <td>1</td>\n",
       "      <td>1</td>\n",
       "    </tr>\n",
       "    <tr>\n",
       "      <th>4</th>\n",
       "      <td>0.923081</td>\n",
       "      <td>-0.542765</td>\n",
       "      <td>0.158499</td>\n",
       "      <td>-1.046527</td>\n",
       "      <td>-0.752080</td>\n",
       "      <td>0.487157</td>\n",
       "      <td>0.731565</td>\n",
       "      <td>-0.577356</td>\n",
       "      <td>0.382804</td>\n",
       "      <td>0.233755</td>\n",
       "      <td>0.842408</td>\n",
       "      <td>0.406082</td>\n",
       "      <td>1.819921</td>\n",
       "      <td>1</td>\n",
       "      <td>1</td>\n",
       "    </tr>\n",
       "    <tr>\n",
       "      <th>...</th>\n",
       "      <td>...</td>\n",
       "      <td>...</td>\n",
       "      <td>...</td>\n",
       "      <td>...</td>\n",
       "      <td>...</td>\n",
       "      <td>...</td>\n",
       "      <td>...</td>\n",
       "      <td>...</td>\n",
       "      <td>...</td>\n",
       "      <td>...</td>\n",
       "      <td>...</td>\n",
       "      <td>...</td>\n",
       "      <td>...</td>\n",
       "      <td>...</td>\n",
       "      <td>...</td>\n",
       "    </tr>\n",
       "    <tr>\n",
       "      <th>173</th>\n",
       "      <td>0.491955</td>\n",
       "      <td>2.026281</td>\n",
       "      <td>1.798775</td>\n",
       "      <td>1.648436</td>\n",
       "      <td>0.858284</td>\n",
       "      <td>-0.503494</td>\n",
       "      <td>-1.070491</td>\n",
       "      <td>-0.738059</td>\n",
       "      <td>-0.840205</td>\n",
       "      <td>1.484679</td>\n",
       "      <td>-1.257591</td>\n",
       "      <td>-0.974218</td>\n",
       "      <td>-0.371199</td>\n",
       "      <td>3</td>\n",
       "      <td>3</td>\n",
       "    </tr>\n",
       "    <tr>\n",
       "      <th>174</th>\n",
       "      <td>0.331822</td>\n",
       "      <td>1.739837</td>\n",
       "      <td>-0.388260</td>\n",
       "      <td>0.151234</td>\n",
       "      <td>1.418411</td>\n",
       "      <td>-1.126646</td>\n",
       "      <td>-1.340800</td>\n",
       "      <td>0.547563</td>\n",
       "      <td>-0.420888</td>\n",
       "      <td>2.217979</td>\n",
       "      <td>-1.607590</td>\n",
       "      <td>-1.481267</td>\n",
       "      <td>0.279786</td>\n",
       "      <td>3</td>\n",
       "      <td>3</td>\n",
       "    </tr>\n",
       "    <tr>\n",
       "      <th>175</th>\n",
       "      <td>0.208643</td>\n",
       "      <td>0.227053</td>\n",
       "      <td>0.012696</td>\n",
       "      <td>0.151234</td>\n",
       "      <td>1.418411</td>\n",
       "      <td>-1.030776</td>\n",
       "      <td>-1.350811</td>\n",
       "      <td>1.351077</td>\n",
       "      <td>-0.228701</td>\n",
       "      <td>1.829761</td>\n",
       "      <td>-1.563840</td>\n",
       "      <td>-1.396759</td>\n",
       "      <td>0.295664</td>\n",
       "      <td>3</td>\n",
       "      <td>3</td>\n",
       "    </tr>\n",
       "    <tr>\n",
       "      <th>176</th>\n",
       "      <td>1.391162</td>\n",
       "      <td>1.578712</td>\n",
       "      <td>1.361368</td>\n",
       "      <td>1.498716</td>\n",
       "      <td>-0.261969</td>\n",
       "      <td>-0.391646</td>\n",
       "      <td>-1.270720</td>\n",
       "      <td>1.592131</td>\n",
       "      <td>-0.420888</td>\n",
       "      <td>1.786626</td>\n",
       "      <td>-1.520090</td>\n",
       "      <td>-1.424928</td>\n",
       "      <td>-0.593486</td>\n",
       "      <td>3</td>\n",
       "      <td>3</td>\n",
       "    </tr>\n",
       "    <tr>\n",
       "      <th>177</th>\n",
       "      <td>-0.924604</td>\n",
       "      <td>-0.542765</td>\n",
       "      <td>-0.898568</td>\n",
       "      <td>-0.148206</td>\n",
       "      <td>-1.382223</td>\n",
       "      <td>-1.030776</td>\n",
       "      <td>0.000731</td>\n",
       "      <td>0.065455</td>\n",
       "      <td>0.068316</td>\n",
       "      <td>-0.715222</td>\n",
       "      <td>0.186159</td>\n",
       "      <td>0.786369</td>\n",
       "      <td>-0.752263</td>\n",
       "      <td>3</td>\n",
       "      <td>2</td>\n",
       "    </tr>\n",
       "  </tbody>\n",
       "</table>\n",
       "<p>178 rows × 15 columns</p>\n",
       "</div>"
      ],
      "text/plain": [
       "     Alcohol %  Malic Acid       Ash  Alkalinity        Mg   Phenols  \\\n",
       "0     1.514341   -0.560668  0.231400   -1.166303  1.908522  0.806722   \n",
       "1     0.294868    0.227053  1.835226    0.450674  1.278379  0.806722   \n",
       "2     2.253415   -0.623328 -0.716315   -1.645408 -0.191954  0.806722   \n",
       "3     1.378844   -0.766550 -0.169557   -0.806975 -0.331985 -0.151973   \n",
       "4     0.923081   -0.542765  0.158499   -1.046527 -0.752080  0.487157   \n",
       "..         ...         ...       ...         ...       ...       ...   \n",
       "173   0.491955    2.026281  1.798775    1.648436  0.858284 -0.503494   \n",
       "174   0.331822    1.739837 -0.388260    0.151234  1.418411 -1.126646   \n",
       "175   0.208643    0.227053  0.012696    0.151234  1.418411 -1.030776   \n",
       "176   1.391162    1.578712  1.361368    1.498716 -0.261969 -0.391646   \n",
       "177  -0.924604   -0.542765 -0.898568   -0.148206 -1.382223 -1.030776   \n",
       "\n",
       "     Flavanoids  Phenols.1  Proantho-cyanins  Color intensity       Hue  \\\n",
       "0      1.031908  -0.657708          1.221438         0.251009  0.361158   \n",
       "1      0.661485   0.226158          0.400275        -0.318377  0.361158   \n",
       "2      0.951817  -0.577356          0.679820         0.061213  0.536158   \n",
       "3      0.401188  -0.818411         -0.036514        -0.025057  0.929908   \n",
       "4      0.731565  -0.577356          0.382804         0.233755  0.842408   \n",
       "..          ...        ...               ...              ...       ...   \n",
       "173   -1.070491  -0.738059         -0.840205         1.484679 -1.257591   \n",
       "174   -1.340800   0.547563         -0.420888         2.217979 -1.607590   \n",
       "175   -1.350811   1.351077         -0.228701         1.829761 -1.563840   \n",
       "176   -1.270720   1.592131         -0.420888         1.786626 -1.520090   \n",
       "177    0.000731   0.065455          0.068316        -0.715222  0.186159   \n",
       "\n",
       "     OD280 315   Proline  Start assignment  ranking  \n",
       "0     1.842721  1.010159                 1        1  \n",
       "1     0.448336 -0.037767                 1        1  \n",
       "2     0.335659  0.946649                 1        1  \n",
       "3     0.293405  1.692900                 1        1  \n",
       "4     0.406082  1.819921                 1        1  \n",
       "..         ...       ...               ...      ...  \n",
       "173  -0.974218 -0.371199                 3        3  \n",
       "174  -1.481267  0.279786                 3        3  \n",
       "175  -1.396759  0.295664                 3        3  \n",
       "176  -1.424928 -0.593486                 3        3  \n",
       "177   0.786369 -0.752263                 3        2  \n",
       "\n",
       "[178 rows x 15 columns]"
      ]
     },
     "execution_count": 14,
     "metadata": {},
     "output_type": "execute_result"
    }
   ],
   "source": [
    "wines_norm = pd.DataFrame()\n",
    "for att in atts:\n",
    "    att_mean = wines[att].mean()\n",
    "    att_std = wines[att].std()\n",
    "    wines_norm[att] = (wines[att] - att_mean) / att_std\n",
    "wines_norm['Start assignment'] = wines['Start assignment']\n",
    "wines_norm['ranking'] = wines['ranking']\n",
    "\n",
    "wines_norm"
   ]
  },
  {
   "cell_type": "code",
   "execution_count": 15,
   "id": "b4a3c2e9",
   "metadata": {},
   "outputs": [
    {
     "name": "stdout",
     "output_type": "stream",
     "text": [
      "[0.95, 0.9661016949152542, 1.0]\n"
     ]
    }
   ],
   "source": [
    "# Split the data into input features (X) and labels (y)\n",
    "X = wines_norm.iloc[:, :13].values\n",
    "y = wines_norm.iloc[:, 14].values\n",
    "\n",
    "# Encode the labels as integers\n",
    "label_encoder = LabelEncoder()\n",
    "y = label_encoder.fit_transform(y)\n",
    "\n",
    "# Define the Naive Bayes classifier\n",
    "nb_classifier = NaiveBayesClassifier()\n",
    "\n",
    "# Define the cross-validation object\n",
    "cv = StratifiedKFold(n_splits=3, shuffle=True)\n",
    "\n",
    "# Iterate over the folds\n",
    "accuracy = []\n",
    "for train_index, test_index in cv.split(X, y):\n",
    "    # Split the data into training and testing sets for this fold\n",
    "    X_train, X_test = X[train_index], X[test_index]\n",
    "    y_train, y_test = y[train_index], y[test_index]\n",
    "    \n",
    "    # Train the Naive Bayes classifier on the training set\n",
    "    nb_classifier.fit(X_train, y_train)\n",
    "    \n",
    "    accuracy.append(calculate_accuracy(nb_classifier, X_test, y_test))\n",
    "    \n",
    "print(accuracy)\n"
   ]
  },
  {
   "cell_type": "markdown",
   "id": "286bd664",
   "metadata": {},
   "source": [
    "**I believe that Naïve Bayes performs as well as the previous method, if not better. Its accuracy is high, close to 100%, just like the previous method which was able to classify the cultivars correctly with similar accuracy. However, the Naive Bayes method is significantly faster than the previous method.**"
   ]
  },
  {
   "cell_type": "markdown",
   "id": "df42541e",
   "metadata": {},
   "source": [
    "---"
   ]
  },
  {
   "cell_type": "markdown",
   "id": "e66ae9db",
   "metadata": {},
   "source": [
    "### Q3"
   ]
  },
  {
   "cell_type": "markdown",
   "id": "a9391459",
   "metadata": {},
   "source": [
    "#### a:"
   ]
  },
  {
   "cell_type": "code",
   "execution_count": 33,
   "id": "dd4cef4c",
   "metadata": {},
   "outputs": [],
   "source": [
    "from torch import nn\n",
    "import torch\n",
    "\n",
    "class WineClassifier(nn.Module):\n",
    "    def __init__(self, num_features, num_classes):\n",
    "        super(WineClassifier, self).__init__()\n",
    "        self.layers = nn.Sequential(\n",
    "            nn.Linear(num_features, num_classes),\n",
    "            nn.Softmax()\n",
    "        )\n",
    "        \n",
    "    def forward(self, x):\n",
    "        return self.layers(x)\n",
    "    \n",
    "class WineClassifier_NoSoft(nn.Module):\n",
    "    def __init__(self, num_features, num_classes):\n",
    "        super(WineClassifier_NoSoft, self).__init__()\n",
    "        self.layers = nn.Sequential(\n",
    "            nn.Linear(num_features, num_classes)\n",
    "        )\n",
    "        \n",
    "    def forward(self, x):\n",
    "        return self.layers(x)"
   ]
  },
  {
   "cell_type": "code",
   "execution_count": 34,
   "id": "0eff7e8e",
   "metadata": {},
   "outputs": [
    {
     "data": {
      "text/plain": [
       "13"
      ]
     },
     "execution_count": 34,
     "metadata": {},
     "output_type": "execute_result"
    }
   ],
   "source": [
    "len(X[0])"
   ]
  },
  {
   "cell_type": "code",
   "execution_count": 41,
   "id": "8fb376fd",
   "metadata": {},
   "outputs": [],
   "source": [
    "model = WineClassifier(13, 3)\n",
    "model_nosoft = WineClassifier_NoSoft(13, 3)"
   ]
  },
  {
   "cell_type": "code",
   "execution_count": 43,
   "id": "d2397874",
   "metadata": {},
   "outputs": [
    {
     "name": "stdout",
     "output_type": "stream",
     "text": [
      "tensor(1.0000, grad_fn=<SumBackward0>)\n",
      "tensor(-0.2913, grad_fn=<SumBackward0>)\n"
     ]
    }
   ],
   "source": [
    "test_data = torch.tensor([X[0]], dtype=torch.float) # wrap the input tensor in another tensor with size 1 as the first dimension\n",
    "output = model(test_data)\n",
    "output_ns = model_nosoft(test_data)\n",
    "print(output.sum())\n",
    "print(output_ns.sum())"
   ]
  },
  {
   "cell_type": "markdown",
   "id": "f2a5a554",
   "metadata": {},
   "source": [
    "The softmax function ensures that the output of the model adds up to 1, as opposed to having floating-point numbers without the activation function."
   ]
  },
  {
   "cell_type": "markdown",
   "id": "47aae0b9",
   "metadata": {},
   "source": [
    "#### b:"
   ]
  },
  {
   "cell_type": "code",
   "execution_count": 31,
   "id": "09d9882a",
   "metadata": {},
   "outputs": [],
   "source": [
    "# you can use this framework to do training and validation           \n",
    "def train_and_val(model,train_X,train_y,epochs,draw_curve=True):\n",
    "    \"\"\"\n",
    "    Parameters\n",
    "    --------------\n",
    "    model: a PyTorch model\n",
    "    train_X: np.array shape(ndata,nfeatures)\n",
    "    train_y: np.array shape(ndata)\n",
    "    epochs: int\n",
    "    draw_curve: bool\n",
    "    \"\"\"\n",
    "    ### Define your loss function, optimizer. Convert data to torch tensor ###\n",
    "    # Define the loss function and optimizer\n",
    "    loss_func = nn.CrossEntropyLoss()\n",
    "    optimizer = torch.optim.SGD(model.parameters(), lr=5e-4)\n",
    "\n",
    "    # Convert data to torch tensor\n",
    "    train_X_tensor = torch.tensor(train_X, dtype = torch.float)\n",
    "    train_y_tensor = torch.tensor(train_y, dtype = torch.long)\n",
    "    \n",
    "    ### Split training examples further into training and validation ###\n",
    "\n",
    "    train_X, val_X, train_y, val_y = train_test_split(train_X_tensor, train_y_tensor, test_size=0.2)\n",
    "    \n",
    "    val_array=[]\n",
    "    \n",
    "    lowest_val_loss = np.inf\n",
    "    best_model_weight = model.state_dict()\n",
    "    \n",
    "    for epoch in range(epochs):\n",
    "        # Train the model\n",
    "        output = model(train_X)\n",
    "        loss = loss_func(output, train_y)\n",
    "        optimizer.zero_grad()\n",
    "        loss.backward()\n",
    "        optimizer.step()\n",
    "\n",
    "        # Compute validation loss and track the lowest validation loss\n",
    "        val_output = model(val_X)\n",
    "        val_loss = loss_func(val_output, val_y)\n",
    "            \n",
    "        if val_loss.item() < lowest_val_loss:\n",
    "            lowest_val_loss = val_loss\n",
    "            best_model_weight = model.state_dict()\n",
    "\n",
    "        val_array.append(val_loss.item())\n",
    "        \n",
    "\n",
    "                \n",
    "     # The final number of epochs is when the minimum error in validation set occurs    \n",
    "    final_epochs=np.argmin(val_array)+1\n",
    "    print(\"Number of epochs with lowest validation:\",final_epochs)\n",
    "    ### Recover the model weight ###\n",
    "    model.load_state_dict(best_model_weight)\n",
    "\n",
    "    if draw_curve:\n",
    "        plt.figure()\n",
    "        plt.plot(np.arange(len(val_array))+1,val_array,label='Validation loss')\n",
    "        plt.xlabel('Epochs')\n",
    "        plt.ylabel('Loss')\n",
    "        plt.legend()"
   ]
  },
  {
   "cell_type": "code",
   "execution_count": 45,
   "id": "ca16aa95",
   "metadata": {},
   "outputs": [
    {
     "name": "stderr",
     "output_type": "stream",
     "text": [
      "/Users/chongyefeng/opt/anaconda3/envs/msse-python/lib/python3.9/site-packages/torch/nn/modules/container.py:204: UserWarning: Implicit dimension choice for softmax has been deprecated. Change the call to include dim=X as an argument.\n",
      "  input = module(input)\n"
     ]
    },
    {
     "name": "stdout",
     "output_type": "stream",
     "text": [
      "Number of epochs with lowest validation: 50000\n"
     ]
    },
    {
     "name": "stderr",
     "output_type": "stream",
     "text": [
      "/Users/chongyefeng/opt/anaconda3/envs/msse-python/lib/python3.9/site-packages/torch/nn/modules/container.py:204: UserWarning: Implicit dimension choice for softmax has been deprecated. Change the call to include dim=X as an argument.\n",
      "  input = module(input)\n"
     ]
    },
    {
     "name": "stdout",
     "output_type": "stream",
     "text": [
      "Number of epochs with lowest validation: 50000\n"
     ]
    },
    {
     "name": "stderr",
     "output_type": "stream",
     "text": [
      "/Users/chongyefeng/opt/anaconda3/envs/msse-python/lib/python3.9/site-packages/torch/nn/modules/container.py:204: UserWarning: Implicit dimension choice for softmax has been deprecated. Change the call to include dim=X as an argument.\n",
      "  input = module(input)\n"
     ]
    },
    {
     "name": "stdout",
     "output_type": "stream",
     "text": [
      "Number of epochs with lowest validation: 50000\n"
     ]
    },
    {
     "data": {
      "image/png": "[encoded data removed]",
      "text/plain": [
       "<Figure size 432x288 with 1 Axes>"
      ]
     },
     "metadata": {
      "needs_background": "light"
     },
     "output_type": "display_data"
    },
    {
     "data": {
      "image/png": "[encoded data removed]",
      "text/plain": [
       "<Figure size 432x288 with 1 Axes>"
      ]
     },
     "metadata": {
      "needs_background": "light"
     },
     "output_type": "display_data"
    },
    {
     "data": {
      "image/png": "[encoded data removed]",
      "text/plain": [
       "<Figure size 432x288 with 1 Axes>"
      ]
     },
     "metadata": {
      "needs_background": "light"
     },
     "output_type": "display_data"
    }
   ],
   "source": [
    "# Split the data into input features (X) and labels (y)\n",
    "X = wines_norm.iloc[:, :13].values\n",
    "y = wines_norm.iloc[:, 14].values\n",
    "\n",
    "# Encode the labels as integers\n",
    "label_encoder = LabelEncoder()\n",
    "y = label_encoder.fit_transform(y)\n",
    "\n",
    "# Define the Naive Bayes classifier\n",
    "model = WineClassifier(13,3)\n",
    "\n",
    "# Define the cross-validation object\n",
    "cv = StratifiedKFold(n_splits=3, shuffle=True)\n",
    "\n",
    "for train_index, test_index in cv.split(X, y):\n",
    "    # Split the data into training and testing sets for this fold\n",
    "    X_train, X_test = X[train_index], X[test_index]\n",
    "    y_train, y_test = y[train_index], y[test_index]\n",
    "    \n",
    "    # Train the Naive Bayes classifier on the training set\n",
    "    train_and_val(model, X_train, y_train, epochs=50000)\n"
   ]
  },
  {
   "cell_type": "markdown",
   "id": "5a6b53f0",
   "metadata": {},
   "source": [
    "**After dividing the data into 3-fold training and testing groups and further dividing each training fold into 80% training and 20% validation sets, we selected the model with the lowest validation error for each fold. The success rate of classification was used to evaluate the model's performance, and we found that the prediction was quite accurate with a success rate of over 95%. Additionally, the model was able to significantly reduce the loss to 0.6, indicating that it was able to learn the underlying patterns in the data effectively. Overall, these results suggest that the selected model is capable of accurately classifying the target variable and can be used for further analysis or prediction tasks.**"
   ]
  }
 ],
 "metadata": {
  "kernelspec": {
   "display_name": "Python 3",
   "language": "python",
   "name": "python3"
  },
  "language_info": {
   "codemirror_mode": {
    "name": "ipython",
    "version": 3
   },
   "file_extension": ".py",
   "mimetype": "text/x-python",
   "name": "python",
   "nbconvert_exporter": "python",
   "pygments_lexer": "ipython3",
   "version": "3.9.12"
  }
 },
 "nbformat": 4,
 "nbformat_minor": 5
}
