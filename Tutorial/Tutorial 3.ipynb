{
 "cells": [
  {
   "cell_type": "markdown",
   "metadata": {},
   "source": [
    "# Tutorial 3\n",
    "## Outline\n",
    "* Numba\n",
    "* Neural network in matrix notation\n",
    "* Back propagation\n",
    "* Activation functions\n",
    "* Q&A on HW#2\n"
   ]
  },
  {
   "cell_type": "markdown",
   "metadata": {},
   "source": [
    "## Numba and Code Acceleration"
   ]
  },
  {
   "cell_type": "markdown",
   "metadata": {},
   "source": [
    "Numba will pre-compile code so that it can be executed more efficiently.<br>\n",
    "[Numba documentation](http://numba.pydata.org/numba-doc/latest/user/index.html)"
   ]
  },
  {
   "cell_type": "code",
   "execution_count": 2,
   "metadata": {},
   "outputs": [],
   "source": [
    "import numba\n",
    "import numpy as np\n"
   ]
  },
  {
   "cell_type": "code",
   "execution_count": 3,
   "metadata": {
    "jupyter": {
     "outputs_hidden": false
    }
   },
   "outputs": [
    {
     "name": "stdout",
     "output_type": "stream",
     "text": [
      "4.52 ms ± 42.5 µs per loop (mean ± std. dev. of 7 runs, 100 loops each)\n"
     ]
    }
   ],
   "source": [
    "# @numba.jit(nopython=True)\n",
    "def test():\n",
    "    i=0\n",
    "    for a in range(100000):\n",
    "        i+=a\n",
    "    return i\n",
    "\n",
    "%timeit test()"
   ]
  },
  {
   "cell_type": "code",
   "execution_count": 4,
   "metadata": {},
   "outputs": [
    {
     "name": "stdout",
     "output_type": "stream",
     "text": [
      "The slowest run took 15.31 times longer than the fastest. This could mean that an intermediate result is being cached.\n",
      "512 ns ± 829 ns per loop (mean ± std. dev. of 7 runs, 1 loop each)\n"
     ]
    }
   ],
   "source": [
    "@numba.jit(nopython=True)\n",
    "def test():\n",
    "    i=0\n",
    "    for a in range(100000):\n",
    "        i+=a\n",
    "    return i\n",
    "\n",
    "%timeit test()"
   ]
  },
  {
   "cell_type": "code",
   "execution_count": 5,
   "metadata": {},
   "outputs": [
    {
     "name": "stdout",
     "output_type": "stream",
     "text": [
      "29 µs ± 1.14 µs per loop (mean ± std. dev. of 7 runs, 1 loop each)\n"
     ]
    }
   ],
   "source": [
    "@numba.jit(nopython=True)\n",
    "def test():\n",
    "    return np.sum(np.arange(1,100000))\n",
    "\n",
    "%timeit test()"
   ]
  },
  {
   "cell_type": "markdown",
   "metadata": {},
   "source": [
    "## Neural network in matrix notation\n",
    "![Neural network](http://colah.github.io/posts/2014-03-NN-Manifolds-Topology/img/example_network.svg) <br>\n",
    "\n"
   ]
  },
  {
   "cell_type": "markdown",
   "metadata": {},
   "source": [
    "$${h_j^l} = \\sum_{i=0}^{n^{l-1}} w_{ij}^{l-1} h_{i}^{l-1}$$"
   ]
  },
  {
   "cell_type": "markdown",
   "metadata": {},
   "source": [
    "$$h^l = h^{l-1} W^{l-1} + b$$"
   ]
  },
  {
   "cell_type": "markdown",
   "metadata": {},
   "source": [
    "\n",
    "### Back propagation formula\n",
    "The four equations for doing back propagation:\n",
    "$$\\begin{eqnarray}\\delta^L&=&\\nabla_aC\\odot\\sigma'(z^L) \\\\\n",
    "\\delta^l&=&((w^{l+1})^T\\delta^{l+1})\\odot\\sigma'(z^l) \\\\ \\frac{\\partial C}{\\partial b_j^l}&=&\\delta_j^l \\\\\n",
    "\\frac{\\partial C}{\\partial w_{jk}^l}&=&a_k^{l-1}\\delta_j^l\n",
    "\\end{eqnarray}$$\n",
    "\n",
    "Credit: [Neural Networks and Deep Learning, Ch. 2](http://neuralnetworksanddeeplearning.com/chap2.html)"
   ]
  },
  {
   "cell_type": "code",
   "execution_count": 13,
   "metadata": {},
   "outputs": [],
   "source": [
    "import numpy as np\n",
    "\n",
    "[3,4,2]\n",
    "\n",
    "class NN():\n",
    "    def __init__(self, architecture, learning_rate, activation):\n",
    "        #initializing the model\n",
    "        self.arch = architecture\n",
    "        self.activation = activation\n",
    "        self.learning_rate = learning_rate\n",
    "        self.depth = len(architecture)\n",
    "        \n",
    "    def init_weight(self):\n",
    "        self.weights = []\n",
    "        self.biases = []\n",
    "        for l in range(self.depth - 1):\n",
    "            prev_layer_num = self.arch[l]\n",
    "            current_layer_num = self.arch[l+1]\n",
    "            # generate randomizing matrix of size ((current_layer_num, prev_layer_num))\n",
    "            self.weights.append(np.zeros((current_layer_num, prev_layer_num)))\n",
    "            self.biases.append(np.zeros(current_layer_num))\n",
    "            \n",
    "    def calc_error(self, y, activation_grad):\n",
    "        self.errors = []\n",
    "        # To_Do\n",
    "        return\n",
    "        \n",
    "    def calc_grad(self):\n",
    "        # To_DO\n",
    "        return\n",
    "        \n",
    "    def back_prop(self):\n",
    "        for l in range(self.depth - 1):\n",
    "            self.weights[l] = self.weights[l] - self.learning_rate * self.weights_grad[l]\n",
    "            self.biases[l]  = self.biases[l]  - self.learning_rate * self.biases_grad[l]\n",
    "            \n",
    "    def feed_forward(self, x):\n",
    "        self.z_s = []\n",
    "        self.a_s = [x]\n",
    "        for l in range(self.depth - 1):\n",
    "            z_l = self.weights[l].dor(self.a_s[l-1]) + self.biases[l]\n",
    "            a_l = self.activation(z_l)\n",
    "            self.z_s.append(z_l)\n",
    "            self.a_s.append(a_l)\n",
    "            \n",
    "    def fit(self, x, y):\n",
    "        self.feed_forward(x)\n",
    "        self.calc_error(y, activation_grad)\n",
    "        self.calc_grad()\n",
    "        \n",
    "    def predict(self, x):\n",
    "        return self.feed_forward(x)\n",
    "            \n",
    "            "
   ]
  },
  {
   "cell_type": "code",
   "execution_count": 11,
   "metadata": {},
   "outputs": [],
   "source": [
    "class NN():\n",
    "    def __init__(self, architecture, learning_rate, activation):\n",
    "        # initializing the model\n",
    "        self.arch = architecture\n",
    "        self.activation = activation\n",
    "        self.learning_rate = learning_rate\n",
    "        self.depth = len(architecture)\n",
    "        self.init_weight()\n",
    "        \n",
    "    def init_weight(self):\n",
    "        self.weights = []\n",
    "        self.biases = []\n",
    "        for l in range(self.depth - 1):\n",
    "            prev_layer_num = self.arch[l]\n",
    "            current_layer_num = self.arch[l+1]\n",
    "            # initialize weights randomly with values between 0 and 1.0\n",
    "            self.weights.append(np.random.rand(current_layer_num, prev_layer_num))\n",
    "            self.biases.append(np.zeros(current_layer_num))\n",
    "            \n",
    "    def calc_error(self, y, activation_grad):\n",
    "        self.errors = []\n",
    "        # calculate the error of the output layer\n",
    "        delta = (self.a_s[-1] - y) * activation_grad(self.z_s[-1])\n",
    "        self.errors.append(delta)\n",
    "        # propagate the error backwards to previous layers\n",
    "        for l in range(self.depth - 2, 0, -1):\n",
    "            delta = (self.weights[l].T @ delta) * activation_grad(self.z_s[l-1])\n",
    "            self.errors.append(delta)\n",
    "        # reverse the errors to match the layer order\n",
    "        self.errors = self.errors[::-1]\n",
    "        \n",
    "    def calc_grad(self):\n",
    "        self.weights_grad = []\n",
    "        self.biases_grad = []\n",
    "        # calculate the gradients for each layer\n",
    "        for l in range(self.depth - 1):\n",
    "            weight_grad = np.outer(self.errors[l], self.a_s[l])\n",
    "            bias_grad = self.errors[l]\n",
    "            self.weights_grad.append(weight_grad)\n",
    "            self.biases_grad.append(bias_grad)\n",
    "            \n",
    "    def back_prop(self):\n",
    "        # update the weights and biases using the gradients and learning rate\n",
    "        for l in range(self.depth - 1):\n",
    "            self.weights[l] = self.weights[l] - self.learning_rate * self.weights_grad[l]\n",
    "            self.biases[l] = self.biases[l] - self.learning_rate * self.biases_grad[l]\n",
    "            \n",
    "    def feed_forward(self, x):\n",
    "        self.z_s = []\n",
    "        self.a_s = [x]\n",
    "        for l in range(self.depth - 1):\n",
    "            z_l = self.weights[l] @ self.a_s[l] + self.biases[l]\n",
    "            a_l = self.activation(z_l)\n",
    "            self.z_s.append(z_l)\n",
    "            self.a_s.append(a_l)\n",
    "            \n",
    "    def fit(self, x, y):\n",
    "        self.feed_forward(x)\n",
    "        self.calc_error(y, self.activation_grad)\n",
    "        self.calc_grad()\n",
    "        self.back_prop()\n",
    "        \n",
    "    def predict(self, x):\n",
    "        self.feed_forward(x)\n",
    "        return self.a_s[-1]\n",
    "    \n",
    "    def activation_grad(self, z):\n",
    "        # calculate the derivative of the activation function\n",
    "        if self.activation == 'sigmoid':\n",
    "            return self.activation(z) * (1 - self.activation(z))\n",
    "        elif self.activation == 'relu':\n",
    "            return np.where(z > 0, 1, 0)\n",
    "        else:\n",
    "            return None\n"
   ]
  },
  {
   "cell_type": "code",
   "execution_count": 12,
   "metadata": {},
   "outputs": [
    {
     "ename": "TypeError",
     "evalue": "__init__() missing 1 required positional argument: 'learning_rate'",
     "output_type": "error",
     "traceback": [
      "\u001b[0;31m---------------------------------------------------------------------------\u001b[0m",
      "\u001b[0;31mTypeError\u001b[0m                                 Traceback (most recent call last)",
      "\u001b[0;32m/var/folders/6q/smykmypd05gg6vjb3hf14sdh0000gn/T/ipykernel_12448/1645352824.py\u001b[0m in \u001b[0;36m<module>\u001b[0;34m\u001b[0m\n\u001b[1;32m      1\u001b[0m \u001b[0mnp\u001b[0m\u001b[0;34m.\u001b[0m\u001b[0mrandom\u001b[0m\u001b[0;34m.\u001b[0m\u001b[0mseed\u001b[0m\u001b[0;34m(\u001b[0m\u001b[0;36m0\u001b[0m\u001b[0;34m)\u001b[0m\u001b[0;34m\u001b[0m\u001b[0;34m\u001b[0m\u001b[0m\n\u001b[0;32m----> 2\u001b[0;31m \u001b[0mnn\u001b[0m \u001b[0;34m=\u001b[0m \u001b[0mNN\u001b[0m\u001b[0;34m(\u001b[0m\u001b[0;34m[\u001b[0m\u001b[0;36m6\u001b[0m\u001b[0;34m,\u001b[0m\u001b[0;36m2\u001b[0m\u001b[0;34m,\u001b[0m\u001b[0;36m2\u001b[0m\u001b[0;34m]\u001b[0m\u001b[0;34m,\u001b[0m \u001b[0mactivation\u001b[0m\u001b[0;34m=\u001b[0m\u001b[0;34m'tanh'\u001b[0m\u001b[0;34m)\u001b[0m\u001b[0;34m\u001b[0m\u001b[0;34m\u001b[0m\u001b[0m\n\u001b[0m\u001b[1;32m      3\u001b[0m \u001b[0mnn\u001b[0m\u001b[0;34m.\u001b[0m\u001b[0minit_wights\u001b[0m\u001b[0;34m(\u001b[0m\u001b[0;34m)\u001b[0m\u001b[0;34m\u001b[0m\u001b[0;34m\u001b[0m\u001b[0m\n\u001b[1;32m      4\u001b[0m \u001b[0mprint\u001b[0m\u001b[0;34m(\u001b[0m\u001b[0;34m'Initialized prediction:'\u001b[0m\u001b[0;34m,\u001b[0m \u001b[0mnn\u001b[0m\u001b[0;34m.\u001b[0m\u001b[0mpredict\u001b[0m\u001b[0;34m(\u001b[0m\u001b[0mx\u001b[0m\u001b[0;34m)\u001b[0m\u001b[0;34m)\u001b[0m\u001b[0;34m\u001b[0m\u001b[0;34m\u001b[0m\u001b[0m\n\u001b[1;32m      5\u001b[0m \u001b[0mnn\u001b[0m\u001b[0;34m.\u001b[0m\u001b[0mfit\u001b[0m\u001b[0;34m(\u001b[0m\u001b[0mx\u001b[0m\u001b[0;34m,\u001b[0m \u001b[0my\u001b[0m\u001b[0;34m,\u001b[0m \u001b[0mtanh_grad\u001b[0m\u001b[0;34m)\u001b[0m\u001b[0;34m\u001b[0m\u001b[0;34m\u001b[0m\u001b[0m\n",
      "\u001b[0;31mTypeError\u001b[0m: __init__() missing 1 required positional argument: 'learning_rate'"
     ]
    }
   ],
   "source": [
    "np.random.seed(0)\n",
    "nn = NN([6,2,2], activation='tanh')\n",
    "nn.init_wights()\n",
    "print('Initialized prediction:', nn.predict(x))\n",
    "nn.fit(x, y, tanh_grad)\n",
    "print('Error in nodes', nn.errors)\n",
    "print('Prediction after fitting once', nn.predict(x))\n"
   ]
  },
  {
   "cell_type": "markdown",
   "metadata": {},
   "source": [
    "## Activation functions\n",
    "### Linear\n",
    "$y=x$\n",
    "<br>$y'=1$ <br>"
   ]
  },
  {
   "cell_type": "code",
   "execution_count": 5,
   "metadata": {
    "jupyter": {
     "outputs_hidden": false
    }
   },
   "outputs": [
    {
     "data": {
      "image/png": "[encoded data removed]",
      "text/plain": [
       "<Figure size 432x288 with 1 Axes>"
      ]
     },
     "metadata": {
      "needs_background": "light"
     },
     "output_type": "display_data"
    }
   ],
   "source": [
    "import matplotlib.pyplot as plt\n",
    "%matplotlib inline\n",
    "x=np.linspace(-5,5,2000)\n",
    "y=x\n",
    "plt.plot(x,y)\n",
    "plt.title(\"Linear activation\");"
   ]
  },
  {
   "cell_type": "markdown",
   "metadata": {},
   "source": [
    "### tanh\n",
    "$y=\\tanh(x)$\n",
    "<br>$y\\in(-1,1)$\n",
    "<br>$y'=1-y^2$\n",
    "\n"
   ]
  },
  {
   "cell_type": "code",
   "execution_count": 9,
   "metadata": {},
   "outputs": [],
   "source": [
    "def tanh_grad(x):\n",
    "    return 1 - np.tanh(x)**2"
   ]
  },
  {
   "cell_type": "code",
   "execution_count": 6,
   "metadata": {
    "jupyter": {
     "outputs_hidden": false
    }
   },
   "outputs": [
    {
     "data": {
      "image/png": "[encoded data removed]",
      "text/plain": [
       "<Figure size 432x288 with 1 Axes>"
      ]
     },
     "metadata": {
      "needs_background": "light"
     },
     "output_type": "display_data"
    }
   ],
   "source": [
    "x=np.linspace(-5,5,2000)\n",
    "y=np.tanh(x)\n",
    "plt.plot(x,y)\n",
    "plt.title(\"tanh\");"
   ]
  },
  {
   "cell_type": "markdown",
   "metadata": {},
   "source": [
    "### sigmoid\n",
    "$y={\\displaystyle \\frac{1}{1+e^{-x}} }$\n",
    "<br><br>$y\\in(0,1)$\n",
    "<br>$y'=y(1-y)$<br>"
   ]
  },
  {
   "cell_type": "code",
   "execution_count": 7,
   "metadata": {
    "jupyter": {
     "outputs_hidden": false
    }
   },
   "outputs": [
    {
     "data": {
      "image/png": "[encoded data removed]",
      "text/plain": [
       "<Figure size 432x288 with 1 Axes>"
      ]
     },
     "metadata": {
      "needs_background": "light"
     },
     "output_type": "display_data"
    }
   ],
   "source": [
    "x=np.linspace(-5,5,2000)\n",
    "y=1/(1+np.exp(-x))\n",
    "plt.plot(x,y)\n",
    "plt.title(\"sigmoid\");"
   ]
  },
  {
   "cell_type": "markdown",
   "metadata": {},
   "source": [
    "### ReLU\n",
    "$y={\\displaystyle \\begin{equation}\n",
    "\\begin{cases} &x \\:\\:\\: x\\geqslant0 \\\\\n",
    "& 0 \\:\\:\\: x<0\n",
    "\\end{cases}\n",
    "\\end{equation}}$\n",
    "<br><br>$y\\in[0,\\infty)$\n",
    "<br><br>$y'=\\begin{equation}\n",
    "\\begin{cases}\n",
    "& 1\\:\\:\\: x\\geqslant0 \\\\\n",
    "& 0\\:\\:\\: x<0\n",
    "\\end{cases}\n",
    "\\end{equation}$\n"
   ]
  },
  {
   "cell_type": "code",
   "execution_count": 8,
   "metadata": {
    "jupyter": {
     "outputs_hidden": false
    }
   },
   "outputs": [
    {
     "data": {
      "image/png": "[encoded data removed]",
      "text/plain": [
       "<Figure size 432x288 with 1 Axes>"
      ]
     },
     "metadata": {
      "needs_background": "light"
     },
     "output_type": "display_data"
    }
   ],
   "source": [
    "x=np.linspace(-5,5,2000)\n",
    "y=x*(x>=0)\n",
    "plt.plot(x,y)\n",
    "plt.title(\"ReLU (Rectified Linear Unit)\");"
   ]
  },
  {
   "cell_type": "markdown",
   "metadata": {},
   "source": [
    "### softmax\n",
    "$y_i=f_i(\\vec{x})={\\displaystyle \\frac{e^{x_i}}{\\sum_{j=1}^J e^{x_j}}}$\n",
    "<br>$y_i\\in[0,1]$\n",
    "<br><br>${\\displaystyle \\frac{\\partial y_i}{\\partial x_j}=y_i(\\delta_{ij}-y_j)}$\n",
    "\n",
    "\n",
    "### Many more activation functions\n",
    "[Check here](https://en.wikipedia.org/wiki/Activation_function)"
   ]
  },
  {
   "cell_type": "markdown",
   "metadata": {},
   "source": [
    "## Some useful materials for better understanding NN\n",
    "[Neural Networks, Manifolds, and Topology - Colah's blog](http://colah.github.io/posts/2014-03-NN-Manifolds-Topology/)<br>\n",
    "[How the backpropagation algorithm works - Neural Networks and Deep Learning](http://neuralnetworksanddeeplearning.com/chap2.html\n",
    ")"
   ]
  }
 ],
 "metadata": {
  "anaconda-cloud": {},
  "kernelspec": {
   "display_name": "Python 3",
   "language": "python",
   "name": "python3"
  },
  "language_info": {
   "codemirror_mode": {
    "name": "ipython",
    "version": 3
   },
   "file_extension": ".py",
   "mimetype": "text/x-python",
   "name": "python",
   "nbconvert_exporter": "python",
   "pygments_lexer": "ipython3",
   "version": "3.9.12"
  }
 },
 "nbformat": 4,
 "nbformat_minor": 4
}
