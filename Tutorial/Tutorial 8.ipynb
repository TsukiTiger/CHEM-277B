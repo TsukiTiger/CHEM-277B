{
 "cells": [
  {
   "cell_type": "markdown",
   "metadata": {},
   "source": [
    "# Tutorial 8\n",
    "## Outline\n",
    "* Tensorboard for monitoring training progress\n",
    "* Convolutional neural networks\n",
    "    * Parameters of convolution: units, kernel size, stride, padding & dilation\n",
    "    * Calculation of output shape from input shape and convolution parameters\n",
    "    * Pooling operations\n",
    "    * building a CNN using PyTorch\n",
    "* Q&A on HW#7"
   ]
  },
  {
   "cell_type": "markdown",
   "metadata": {},
   "source": [
    "## Tensorboard for monitoring training progress"
   ]
  },
  {
   "cell_type": "markdown",
   "metadata": {},
   "source": [
    "You may need to install the following packages: <br>\n",
    "**conda install -c conda-forge tensorboard** <br>\n",
    "**pip install torch-summary**"
   ]
  },
  {
   "cell_type": "markdown",
   "metadata": {},
   "source": [
    "Let's retry the HW5 problem:"
   ]
  },
  {
   "cell_type": "code",
   "execution_count": 4,
   "metadata": {},
   "outputs": [
    {
     "data": {
      "text/html": [
       "<div>\n",
       "<style scoped>\n",
       "    .dataframe tbody tr th:only-of-type {\n",
       "        vertical-align: middle;\n",
       "    }\n",
       "\n",
       "    .dataframe tbody tr th {\n",
       "        vertical-align: top;\n",
       "    }\n",
       "\n",
       "    .dataframe thead th {\n",
       "        text-align: right;\n",
       "    }\n",
       "</style>\n",
       "<table border=\"1\" class=\"dataframe\">\n",
       "  <thead>\n",
       "    <tr style=\"text-align: right;\">\n",
       "      <th></th>\n",
       "      <th>Alcohol %</th>\n",
       "      <th>Malic Acid</th>\n",
       "      <th>Ash</th>\n",
       "      <th>Alkalinity</th>\n",
       "      <th>Mg</th>\n",
       "      <th>Phenols</th>\n",
       "      <th>Flavanoids</th>\n",
       "      <th>Phenols.1</th>\n",
       "      <th>Proantho-cyanins</th>\n",
       "      <th>Color intensity</th>\n",
       "      <th>Hue</th>\n",
       "      <th>OD280 315</th>\n",
       "      <th>Proline</th>\n",
       "      <th>Start assignment</th>\n",
       "      <th>ranking</th>\n",
       "    </tr>\n",
       "  </thead>\n",
       "  <tbody>\n",
       "    <tr>\n",
       "      <th>0</th>\n",
       "      <td>14.23</td>\n",
       "      <td>1.71</td>\n",
       "      <td>2.43</td>\n",
       "      <td>15.6</td>\n",
       "      <td>127</td>\n",
       "      <td>2.8</td>\n",
       "      <td>3.06</td>\n",
       "      <td>0.28</td>\n",
       "      <td>2.29</td>\n",
       "      <td>5.64</td>\n",
       "      <td>1.04</td>\n",
       "      <td>3.92</td>\n",
       "      <td>1065</td>\n",
       "      <td>1</td>\n",
       "      <td>1</td>\n",
       "    </tr>\n",
       "    <tr>\n",
       "      <th>1</th>\n",
       "      <td>13.24</td>\n",
       "      <td>2.59</td>\n",
       "      <td>2.87</td>\n",
       "      <td>21.0</td>\n",
       "      <td>118</td>\n",
       "      <td>2.8</td>\n",
       "      <td>2.69</td>\n",
       "      <td>0.39</td>\n",
       "      <td>1.82</td>\n",
       "      <td>4.32</td>\n",
       "      <td>1.04</td>\n",
       "      <td>2.93</td>\n",
       "      <td>735</td>\n",
       "      <td>1</td>\n",
       "      <td>1</td>\n",
       "    </tr>\n",
       "    <tr>\n",
       "      <th>2</th>\n",
       "      <td>14.83</td>\n",
       "      <td>1.64</td>\n",
       "      <td>2.17</td>\n",
       "      <td>14.0</td>\n",
       "      <td>97</td>\n",
       "      <td>2.8</td>\n",
       "      <td>2.98</td>\n",
       "      <td>0.29</td>\n",
       "      <td>1.98</td>\n",
       "      <td>5.20</td>\n",
       "      <td>1.08</td>\n",
       "      <td>2.85</td>\n",
       "      <td>1045</td>\n",
       "      <td>1</td>\n",
       "      <td>1</td>\n",
       "    </tr>\n",
       "    <tr>\n",
       "      <th>3</th>\n",
       "      <td>14.12</td>\n",
       "      <td>1.48</td>\n",
       "      <td>2.32</td>\n",
       "      <td>16.8</td>\n",
       "      <td>95</td>\n",
       "      <td>2.2</td>\n",
       "      <td>2.43</td>\n",
       "      <td>0.26</td>\n",
       "      <td>1.57</td>\n",
       "      <td>5.00</td>\n",
       "      <td>1.17</td>\n",
       "      <td>2.82</td>\n",
       "      <td>1280</td>\n",
       "      <td>1</td>\n",
       "      <td>1</td>\n",
       "    </tr>\n",
       "    <tr>\n",
       "      <th>4</th>\n",
       "      <td>13.75</td>\n",
       "      <td>1.73</td>\n",
       "      <td>2.41</td>\n",
       "      <td>16.0</td>\n",
       "      <td>89</td>\n",
       "      <td>2.6</td>\n",
       "      <td>2.76</td>\n",
       "      <td>0.29</td>\n",
       "      <td>1.81</td>\n",
       "      <td>5.60</td>\n",
       "      <td>1.15</td>\n",
       "      <td>2.90</td>\n",
       "      <td>1320</td>\n",
       "      <td>1</td>\n",
       "      <td>1</td>\n",
       "    </tr>\n",
       "  </tbody>\n",
       "</table>\n",
       "</div>"
      ],
      "text/plain": [
       "   Alcohol %  Malic Acid   Ash  Alkalinity   Mg  Phenols  Flavanoids  \\\n",
       "0      14.23        1.71  2.43        15.6  127      2.8        3.06   \n",
       "1      13.24        2.59  2.87        21.0  118      2.8        2.69   \n",
       "2      14.83        1.64  2.17        14.0   97      2.8        2.98   \n",
       "3      14.12        1.48  2.32        16.8   95      2.2        2.43   \n",
       "4      13.75        1.73  2.41        16.0   89      2.6        2.76   \n",
       "\n",
       "   Phenols.1  Proantho-cyanins  Color intensity   Hue  OD280 315  Proline  \\\n",
       "0       0.28              2.29             5.64  1.04       3.92     1065   \n",
       "1       0.39              1.82             4.32  1.04       2.93      735   \n",
       "2       0.29              1.98             5.20  1.08       2.85     1045   \n",
       "3       0.26              1.57             5.00  1.17       2.82     1280   \n",
       "4       0.29              1.81             5.60  1.15       2.90     1320   \n",
       "\n",
       "   Start assignment  ranking  \n",
       "0                 1        1  \n",
       "1                 1        1  \n",
       "2                 1        1  \n",
       "3                 1        1  \n",
       "4                 1        1  "
      ]
     },
     "execution_count": 4,
     "metadata": {},
     "output_type": "execute_result"
    }
   ],
   "source": [
    "import pandas as pd\n",
    "import numpy as np\n",
    "data=pd.read_csv(\"./../HW-02/wines.csv\")\n",
    "data.head()"
   ]
  },
  {
   "cell_type": "code",
   "execution_count": 5,
   "metadata": {},
   "outputs": [
    {
     "name": "stdout",
     "output_type": "stream",
     "text": [
      "(178, 13)\n"
     ]
    }
   ],
   "source": [
    "from sklearn.preprocessing import StandardScaler\n",
    "\n",
    "x=data.drop([\"Start assignment\",\"ranking\"],axis=1).values\n",
    "y=data['ranking'].values\n",
    "\n",
    "scaler=StandardScaler()\n",
    "x_norm=scaler.fit_transform(x)\n",
    "# y=y.reshape(-1,1)\n",
    "print(x_norm.shape)"
   ]
  },
  {
   "cell_type": "code",
   "execution_count": 6,
   "metadata": {},
   "outputs": [],
   "source": [
    "from pylab import *\n",
    "from tqdm import tqdm\n",
    "from sklearn.model_selection import train_test_split\n",
    "\n",
    "def train_and_val(model,train_X,train_y,epochs,draw_curve=False,tensorboard_logger=None):\n",
    "    \"\"\"\n",
    "    Parameters\n",
    "    --------------\n",
    "    model: a PyTorch model\n",
    "    train_X: np.array shape(ndata,nfeatures)\n",
    "    train_y: np.array shape(ndata)\n",
    "    epochs: int\n",
    "    draw_curve: bool\n",
    "    \"\"\"\n",
    "    loss_func = nn.CrossEntropyLoss()\n",
    "    optimizer = torch.optim.Adam(model.parameters(), lr=5e-4)\n",
    "    train_X = torch.tensor(train_X, dtype=torch.float)\n",
    "    train_y = torch.tensor(train_y, dtype=torch.long)\n",
    "    val_array=[]\n",
    "    \n",
    "    # Split training examples further into training and validation\n",
    "    train_X,val_X,train_y,val_y=train_test_split(train_X,train_y,test_size=0.2)\n",
    "    weights = model.state_dict()\n",
    "    lowest_val_loss = np.inf\n",
    "    \n",
    "    for i in tqdm(range(epochs)):\n",
    "        pred = model(train_X)\n",
    "        # in order to work with cross entropy loss, we shift the classes from [1,2,3] to [0,1,2]\n",
    "        loss = loss_func(pred, train_y-1)\n",
    "        optimizer.zero_grad()\n",
    "        loss.backward()\n",
    "        optimizer.step()\n",
    "        \n",
    "        #validation\n",
    "        with torch.no_grad():\n",
    "            pred = model(val_X)\n",
    "            val_loss = loss_func(pred, val_y-1)\n",
    "        val_array.append(val_loss.item())\n",
    "        \n",
    "        if val_loss < lowest_val_loss:\n",
    "                lowest_val_loss = val_loss\n",
    "                weights = model.state_dict()\n",
    "        \n",
    "        acc = calculate_accuracy_NN(model,train_X,train_y)\n",
    "        val_acc = calculate_accuracy_NN(model,val_X,val_y)\n",
    "        if tensorboard_logger is not None:\n",
    "                tensorboard_logger.add_scalar(\"losses\", loss, i + 1)\n",
    "                tensorboard_logger.add_scalar(\"accuracies\", acc, i + 1)\n",
    "                tensorboard_logger.add_scalar(\"val_losses\", val_loss, i + 1)\n",
    "                tensorboard_logger.add_scalar(\"val_accuracies\", val_acc, i + 1)\n",
    "                \n",
    "     # The final number of epochs is when the minimum error in validation set occurs    \n",
    "    final_epochs=np.argmin(val_array)+1\n",
    "    print(\"Number of epochs with lowest validation:\",final_epochs)\n",
    "    # Recover the model weight, and train with full training data (including validation data)\n",
    "    model.load_state_dict(weights)\n",
    "\n",
    "    if draw_curve:\n",
    "        plt.figure()\n",
    "        plt.plot(np.arange(len(val_array))+1,val_array,label='Validation loss')\n",
    "        plt.xlabel('Epochs')\n",
    "        plt.ylabel('Loss')\n",
    "        plt.legend()\n",
    "\n",
    "def calculate_accuracy_NN(model,xs,ys):\n",
    "    with torch.no_grad():\n",
    "        if not torch.is_tensor(xs):\n",
    "            xs = torch.tensor(xs,dtype=torch.float)\n",
    "        pred = model(xs)\n",
    "        pred= torch.argmax(pred,dim=1)\n",
    "    pred = pred.detach().numpy()  \n",
    "    if torch.is_tensor(ys):\n",
    "        ys = ys.detach().numpy()  \n",
    "    return np.sum(ys==pred+1)/len(ys)"
   ]
  },
  {
   "cell_type": "code",
   "execution_count": 7,
   "metadata": {},
   "outputs": [],
   "source": [
    "import torch\n",
    "from torch import nn\n",
    "class MLPNet(nn.Module):\n",
    "    def __init__(self):\n",
    "        super(MLPNet, self).__init__()\n",
    "        self.fc = nn.ModuleList([nn.Linear(13,20), nn.Linear(20,10), nn.Linear(10,3)])\n",
    "        self.activation = nn.Tanh()\n",
    "        \n",
    "    def forward(self, x):\n",
    "        for i in range(2):\n",
    "            x = self.activation(self.fc[i](x))\n",
    "        x = nn.Softmax(dim=-1)(self.fc[-1](x))\n",
    "        return x"
   ]
  },
  {
   "cell_type": "markdown",
   "metadata": {},
   "source": [
    "We can use torch summary to visulize the structure and number of parameters in a model"
   ]
  },
  {
   "cell_type": "code",
   "execution_count": 8,
   "metadata": {},
   "outputs": [
    {
     "name": "stdout",
     "output_type": "stream",
     "text": [
      "==========================================================================================\n",
      "Layer (type:depth-idx)                   Output Shape              Param #\n",
      "==========================================================================================\n",
      "├─ModuleList: 1                          []                        --\n",
      "|    └─Linear: 2-1                       [-1, 1, 20]               280\n",
      "├─Tanh: 1-1                              [-1, 1, 20]               --\n",
      "├─ModuleList: 1                          []                        --\n",
      "|    └─Linear: 2-2                       [-1, 1, 10]               210\n",
      "├─Tanh: 1-2                              [-1, 1, 10]               --\n",
      "├─ModuleList: 1                          []                        --\n",
      "|    └─Linear: 2-3                       [-1, 1, 3]                33\n",
      "==========================================================================================\n",
      "Total params: 523\n",
      "Trainable params: 523\n",
      "Non-trainable params: 0\n",
      "Total mult-adds (M): 0.00\n",
      "==========================================================================================\n",
      "Input size (MB): 0.00\n",
      "Forward/backward pass size (MB): 0.00\n",
      "Params size (MB): 0.00\n",
      "Estimated Total Size (MB): 0.00\n",
      "==========================================================================================\n"
     ]
    },
    {
     "data": {
      "text/plain": [
       "==========================================================================================\n",
       "Layer (type:depth-idx)                   Output Shape              Param #\n",
       "==========================================================================================\n",
       "├─ModuleList: 1                          []                        --\n",
       "|    └─Linear: 2-1                       [-1, 1, 20]               280\n",
       "├─Tanh: 1-1                              [-1, 1, 20]               --\n",
       "├─ModuleList: 1                          []                        --\n",
       "|    └─Linear: 2-2                       [-1, 1, 10]               210\n",
       "├─Tanh: 1-2                              [-1, 1, 10]               --\n",
       "├─ModuleList: 1                          []                        --\n",
       "|    └─Linear: 2-3                       [-1, 1, 3]                33\n",
       "==========================================================================================\n",
       "Total params: 523\n",
       "Trainable params: 523\n",
       "Non-trainable params: 0\n",
       "Total mult-adds (M): 0.00\n",
       "==========================================================================================\n",
       "Input size (MB): 0.00\n",
       "Forward/backward pass size (MB): 0.00\n",
       "Params size (MB): 0.00\n",
       "Estimated Total Size (MB): 0.00\n",
       "=========================================================================================="
      ]
     },
     "execution_count": 8,
     "metadata": {},
     "output_type": "execute_result"
    }
   ],
   "source": [
    "from torchsummary import summary\n",
    "model = MLPNet()\n",
    "summary(model, (1,13))"
   ]
  },
  {
   "cell_type": "markdown",
   "metadata": {},
   "source": [
    "Tensorboard: https://pytorch.org/docs/stable/tensorboard.html"
   ]
  },
  {
   "cell_type": "code",
   "execution_count": 10,
   "metadata": {},
   "outputs": [],
   "source": [
    "from torch.utils.tensorboard import SummaryWriter\n",
    "mlp_logger = SummaryWriter(log_dir=\"MLP\")\n",
    "mlp_logger.flush()"
   ]
  },
  {
   "cell_type": "code",
   "execution_count": 11,
   "metadata": {},
   "outputs": [
    {
     "name": "stderr",
     "output_type": "stream",
     "text": [
      "100%|██████████| 1000/1000 [00:01<00:00, 581.97it/s]"
     ]
    },
    {
     "name": "stdout",
     "output_type": "stream",
     "text": [
      "Number of epochs with lowest validation: 1000\n"
     ]
    },
    {
     "name": "stderr",
     "output_type": "stream",
     "text": [
      "\n"
     ]
    }
   ],
   "source": [
    "train_and_val(model, x_norm, y, 1000, tensorboard_logger=mlp_logger)"
   ]
  },
  {
   "cell_type": "markdown",
   "metadata": {},
   "source": [
    "To view training curves on Tensorboard, go to command line and run: <br>\n",
    "**tensorboard --logdir=path-to-notebook** <br>\n",
    "Then open the url in your browser"
   ]
  },
  {
   "cell_type": "code",
   "execution_count": 13,
   "metadata": {},
   "outputs": [],
   "source": [
    "# tensorboard --logdir=MLP  "
   ]
  },
  {
   "cell_type": "markdown",
   "metadata": {},
   "source": [
    "# CNN\n",
    "\n"
   ]
  },
  {
   "cell_type": "markdown",
   "metadata": {},
   "source": [
    "\n",
    "## CNN general architechture\n",
    "![](https://cdn-images-1.medium.com/max/800/1*lvvWF48t7cyRWqct13eU0w.jpeg)\n",
    "\n",
    "\n",
    "## Convolution Filters help extract features\n",
    "![](https://qph.fs.quoracdn.net/main-qimg-50915e66f98186a786b3d0344eea9aba-pjlq)\n",
    "## Calculating convolution output shape\n",
    "Here is a [visualiztion](https://github.com/vdumoulin/conv_arithmetic/blob/master/README.md) for padding, stride and dilation\n",
    "$$\n",
    "H_{\\text {out }}=\\left[\\frac{H_{\\text {in }}+2 \\times \\text { padding }-\\operatorname{dilation} \\times(\\text { kernel_size }-1)-1}{\\text { stride }}+1\\right]\n",
    "$$\n",
    "\n",
    "\n",
    "### LeNet architecture\n",
    "LeCun, Y.; Bottou, L.; Bengio, Y. & Haffner, P. (1998). Gradient-based learning applied to document recognition.Proceedings of the IEEE. 86(11): 2278 - 2324. ([Link](http://yann.lecun.com/exdb/publis/pdf/lecun-01a.pdf))\n",
    "\n",
    "|Layer No.|Layer type|#units|Kernel size|Stride|Activation|\n",
    "|---|---|---|---|---|---|\n",
    "|1|2D Convolution|6|5|1|tanh|\n",
    "|2|Average pooling|6|2|2|\\\\|\n",
    "|3|2D Convolution|16|5|1|tanh|\n",
    "|4|Average pooling|16|2|2|\\\\|\n",
    "|5|2D Convolution|120|5|1|tanh|\n",
    "|6|Flatten|\\\\|\\\\|\\\\|\\\\|\n",
    "|7|Fully connected|84|\\\\|\\\\|tanh|\n",
    "|8|Fully connected|10|\\\\|\\\\|softmax|\n",
    "\n",
    "\n",
    "#neurons in each layer: 1024->256->84->10\n",
    "\n",
    "activation: tanh"
   ]
  },
  {
   "cell_type": "code",
   "execution_count": 14,
   "metadata": {},
   "outputs": [],
   "source": [
    "from torch import nn\n",
    "import torch\n",
    "class LeNet(nn.Module):\n",
    "    def __init__(self):\n",
    "        super(LeNet, self).__init__()\n",
    "        self.conv = nn.ModuleList([\n",
    "            nn.Conv2d(1,    6, kernel_size=5, stride=1),   # (B, 6,   28, 28) -> (B, 6,   14, 14)\n",
    "            nn.Conv2d(6,   16, kernel_size=5, stride=1),   # (B, 16,  10, 10) -> (B, 16,  5,   5)\n",
    "            nn.Conv2d(16, 120, kernel_size=5, stride=1)    # (B, 120, 1 ,  1)\n",
    "        ])\n",
    "        \n",
    "        self.pooling = nn.AvgPool2d(kernel_size=2)\n",
    "        \n",
    "        self.fc = nn.ModuleList([\n",
    "            nn.Linear(120, 84),\n",
    "            nn.Linear(84, 10)\n",
    "        ])\n",
    "        \n",
    "        self.activation = nn.Tanh()\n",
    "        \n",
    "    def forward(self, x):\n",
    "        for i in range(2):\n",
    "            x = self.pooling(self.activation(self.conv[i](x)))\n",
    "        x = self.activation(self.conv[-1](x))\n",
    "        x = nn.Flatten()(x)\n",
    "        x = self.activation(self.fc[0](x))\n",
    "        x = nn.Softmax(dim=-1)(self.fc[1](x))\n",
    "        return x\n",
    "    \n"
   ]
  },
  {
   "cell_type": "code",
   "execution_count": 17,
   "metadata": {},
   "outputs": [
    {
     "name": "stdout",
     "output_type": "stream",
     "text": [
      "==========================================================================================\n",
      "Layer (type:depth-idx)                   Output Shape              Param #\n",
      "==========================================================================================\n",
      "├─ModuleList: 1                          []                        --\n",
      "|    └─Conv2d: 2-1                       [-1, 6, 28, 28]           156\n",
      "├─Tanh: 1-1                              [-1, 6, 28, 28]           --\n",
      "├─AvgPool2d: 1-2                         [-1, 6, 14, 14]           --\n",
      "├─ModuleList: 1                          []                        --\n",
      "|    └─Conv2d: 2-2                       [-1, 16, 10, 10]          2,416\n",
      "├─Tanh: 1-3                              [-1, 16, 10, 10]          --\n",
      "├─AvgPool2d: 1-4                         [-1, 16, 5, 5]            --\n",
      "├─ModuleList: 1                          []                        --\n",
      "|    └─Conv2d: 2-3                       [-1, 120, 1, 1]           48,120\n",
      "├─Tanh: 1-5                              [-1, 120, 1, 1]           --\n",
      "├─ModuleList: 1                          []                        --\n",
      "|    └─Linear: 2-4                       [-1, 84]                  10,164\n",
      "├─Tanh: 1-6                              [-1, 84]                  --\n",
      "├─ModuleList: 1                          []                        --\n",
      "|    └─Linear: 2-5                       [-1, 10]                  850\n",
      "==========================================================================================\n",
      "Total params: 61,706\n",
      "Trainable params: 61,706\n",
      "Non-trainable params: 0\n",
      "Total mult-adds (M): 0.42\n",
      "==========================================================================================\n",
      "Input size (MB): 0.00\n",
      "Forward/backward pass size (MB): 0.05\n",
      "Params size (MB): 0.24\n",
      "Estimated Total Size (MB): 0.29\n",
      "==========================================================================================\n"
     ]
    },
    {
     "data": {
      "text/plain": [
       "==========================================================================================\n",
       "Layer (type:depth-idx)                   Output Shape              Param #\n",
       "==========================================================================================\n",
       "├─ModuleList: 1                          []                        --\n",
       "|    └─Conv2d: 2-1                       [-1, 6, 28, 28]           156\n",
       "├─Tanh: 1-1                              [-1, 6, 28, 28]           --\n",
       "├─AvgPool2d: 1-2                         [-1, 6, 14, 14]           --\n",
       "├─ModuleList: 1                          []                        --\n",
       "|    └─Conv2d: 2-2                       [-1, 16, 10, 10]          2,416\n",
       "├─Tanh: 1-3                              [-1, 16, 10, 10]          --\n",
       "├─AvgPool2d: 1-4                         [-1, 16, 5, 5]            --\n",
       "├─ModuleList: 1                          []                        --\n",
       "|    └─Conv2d: 2-3                       [-1, 120, 1, 1]           48,120\n",
       "├─Tanh: 1-5                              [-1, 120, 1, 1]           --\n",
       "├─ModuleList: 1                          []                        --\n",
       "|    └─Linear: 2-4                       [-1, 84]                  10,164\n",
       "├─Tanh: 1-6                              [-1, 84]                  --\n",
       "├─ModuleList: 1                          []                        --\n",
       "|    └─Linear: 2-5                       [-1, 10]                  850\n",
       "==========================================================================================\n",
       "Total params: 61,706\n",
       "Trainable params: 61,706\n",
       "Non-trainable params: 0\n",
       "Total mult-adds (M): 0.42\n",
       "==========================================================================================\n",
       "Input size (MB): 0.00\n",
       "Forward/backward pass size (MB): 0.05\n",
       "Params size (MB): 0.24\n",
       "Estimated Total Size (MB): 0.29\n",
       "=========================================================================================="
      ]
     },
     "execution_count": 17,
     "metadata": {},
     "output_type": "execute_result"
    }
   ],
   "source": [
    "model_conv = LeNet()\n",
    "summary(model_conv, (1,32,32))"
   ]
  },
  {
   "cell_type": "code",
   "execution_count": null,
   "metadata": {},
   "outputs": [],
   "source": []
  }
 ],
 "metadata": {
  "kernelspec": {
   "display_name": "Python 3",
   "language": "python",
   "name": "python3"
  },
  "language_info": {
   "codemirror_mode": {
    "name": "ipython",
    "version": 3
   },
   "file_extension": ".py",
   "mimetype": "text/x-python",
   "name": "python",
   "nbconvert_exporter": "python",
   "pygments_lexer": "ipython3",
   "version": "3.9.12"
  }
 },
 "nbformat": 4,
 "nbformat_minor": 4
}
