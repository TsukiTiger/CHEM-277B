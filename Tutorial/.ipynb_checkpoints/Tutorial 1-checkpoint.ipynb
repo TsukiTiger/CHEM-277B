{
 "cells": [
  {
   "cell_type": "markdown",
   "metadata": {},
   "source": [
    "# Tutorial 1\n",
    "\n",
    "## Outline:\n",
    "* Jupyter notebooks\n",
    "* Visualizing univariate and multivariate functions\n",
    "* Minimization using CG/BFGS \n",
    "* Time your function\n",
    "* Golden section example"
   ]
  },
  {
   "cell_type": "markdown",
   "metadata": {},
   "source": [
    "## Visualizing univariate and multivariate functions\n",
    "\n",
    "### Univariate function\n"
   ]
  },
  {
   "cell_type": "code",
   "execution_count": 1,
   "metadata": {},
   "outputs": [],
   "source": [
    "# These are some imports generally needed for scientific computing\n",
    "from pylab import *\n",
    "\n",
    "# to show figures inline\n",
    "%matplotlib inline  "
   ]
  },
  {
   "cell_type": "code",
   "execution_count": 2,
   "metadata": {},
   "outputs": [],
   "source": [
    "def func(x):\n",
    "    f=x**3-3*x+2\n",
    "    return f\n"
   ]
  },
  {
   "cell_type": "code",
   "execution_count": null,
   "metadata": {},
   "outputs": [],
   "source": []
  },
  {
   "cell_type": "markdown",
   "metadata": {},
   "source": [
    "### Multivariate function\n",
    "\n",
    "I want to know what function $f(x,y)=x^4-x^2+y^2-2xy-2$ looks like. How to do this?"
   ]
  },
  {
   "cell_type": "code",
   "execution_count": 3,
   "metadata": {},
   "outputs": [],
   "source": [
    "# To plot 3D graphs, you need to use 3D axes\n",
    "from mpl_toolkits.mplot3d import Axes3D"
   ]
  },
  {
   "cell_type": "markdown",
   "metadata": {},
   "source": [
    "## Minimization using CG/BFGS\n",
    "\n",
    "The multivariate Rosenbrock function is given below:\n",
    "$f(\\vec{x})=\\sum_{i=1}^{N-1}100(x_{i+1}-x_i^2)^2+(1-x_i^2)^2$ \\\n",
    "Use x0=np.array([1.3,0.7,0.8,1.9,1.2]) as starting porint and find minimum"
   ]
  },
  {
   "cell_type": "code",
   "execution_count": 4,
   "metadata": {},
   "outputs": [],
   "source": [
    "from scipy.optimize import minimize"
   ]
  },
  {
   "cell_type": "markdown",
   "metadata": {},
   "source": [
    "More on optimization: [Scipy tutorial on optimization](https://docs.scipy.org/doc/scipy/reference/generated/scipy.optimize.minimize.html)"
   ]
  },
  {
   "cell_type": "markdown",
   "metadata": {},
   "source": [
    "## Time your function\n",
    "using decorator!"
   ]
  },
  {
   "cell_type": "code",
   "execution_count": 13,
   "metadata": {},
   "outputs": [],
   "source": [
    "import time\n",
    "\n",
    "def timeit(f):\n",
    "\n",
    "    def timed(*args, **kw):\n",
    "\n",
    "        ts = time.time()\n",
    "        result = f(*args, **kw)\n",
    "        te = time.time()\n",
    "\n",
    "        print('func:%r took: %2.4f sec' % (f.__name__,  te-ts))\n",
    "        return result\n",
    "\n",
    "    return timed"
   ]
  },
  {
   "cell_type": "markdown",
   "metadata": {},
   "source": [
    "## Golden section example\n",
    "\n",
    "Given the following function, can you find its minimum value in range $[0,9]$ using golden section?"
   ]
  },
  {
   "cell_type": "code",
   "execution_count": 4,
   "metadata": {},
   "outputs": [],
   "source": [
    "def func(x):\n",
    "    isarray=type(x) is np.ndarray\n",
    "    coefs=np.array([8.001371477,\n",
    "-24.06731415,\n",
    "37.076044,\n",
    "0,\n",
    "-43.86909846,\n",
    "44.42701101,\n",
    "-22.0126204,\n",
    "6.536434989,\n",
    "-1.248082478,\n",
    "0.157159012,\n",
    "-0.012990941,\n",
    "0.000678657,\n",
    "-2.03269E-05,\n",
    "2.66065E-07\n",
    "])\n",
    "    base=np.zeros((len(x) if isarray else 1,14))\n",
    "    for i in range(1,14):\n",
    "        base[:,i]+=x**i\n",
    "    result=base.dot(coefs)\n",
    "    return result if isarray else sum(result)"
   ]
  },
  {
   "cell_type": "code",
   "execution_count": 5,
   "metadata": {},
   "outputs": [],
   "source": [
    "def golden_section(func,start,end,reference,tol):\n",
    "    ..."
   ]
  },
  {
   "cell_type": "code",
   "execution_count": null,
   "metadata": {},
   "outputs": [],
   "source": []
  }
 ],
 "metadata": {
  "anaconda-cloud": {},
  "kernelspec": {
   "display_name": "Python 3 (ipykernel)",
   "language": "python",
   "name": "python3"
  },
  "language_info": {
   "codemirror_mode": {
    "name": "ipython",
    "version": 3
   },
   "file_extension": ".py",
   "mimetype": "text/x-python",
   "name": "python",
   "nbconvert_exporter": "python",
   "pygments_lexer": "ipython3",
   "version": "3.9.7"
  }
 },
 "nbformat": 4,
 "nbformat_minor": 4
}
