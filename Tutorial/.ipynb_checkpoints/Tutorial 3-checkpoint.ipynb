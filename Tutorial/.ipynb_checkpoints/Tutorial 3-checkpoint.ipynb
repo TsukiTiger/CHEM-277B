{
 "cells": [
  {
   "cell_type": "markdown",
   "metadata": {},
   "source": [
    "# Tutorial 3\n",
    "## Outline\n",
    "* Numba\n",
    "* Neural network in matrix notation\n",
    "* Back propagation\n",
    "* Activation functions\n",
    "* Q&A on HW#2\n"
   ]
  },
  {
   "cell_type": "markdown",
   "metadata": {},
   "source": [
    "## Numba and Code Acceleration"
   ]
  },
  {
   "cell_type": "markdown",
   "metadata": {},
   "source": [
    "Numba will pre-compile code so that it can be executed more efficiently.<br>\n",
    "[Numba documentation](http://numba.pydata.org/numba-doc/latest/user/index.html)"
   ]
  },
  {
   "cell_type": "code",
   "execution_count": 1,
   "metadata": {},
   "outputs": [
    {
     "ename": "ModuleNotFoundError",
     "evalue": "No module named 'numba'",
     "output_type": "error",
     "traceback": [
      "\u001b[0;31m---------------------------------------------------------------------------\u001b[0m",
      "\u001b[0;31mModuleNotFoundError\u001b[0m                       Traceback (most recent call last)",
      "Input \u001b[0;32mIn [1]\u001b[0m, in \u001b[0;36m<cell line: 1>\u001b[0;34m()\u001b[0m\n\u001b[0;32m----> 1\u001b[0m \u001b[38;5;28;01mimport\u001b[39;00m \u001b[38;5;21;01mnumba\u001b[39;00m\n\u001b[1;32m      2\u001b[0m \u001b[38;5;28;01mimport\u001b[39;00m \u001b[38;5;21;01mnumpy\u001b[39;00m \u001b[38;5;28;01mas\u001b[39;00m \u001b[38;5;21;01mnp\u001b[39;00m\n",
      "\u001b[0;31mModuleNotFoundError\u001b[0m: No module named 'numba'"
     ]
    }
   ],
   "source": [
    "import numba\n",
    "import numpy as np\n"
   ]
  },
  {
   "cell_type": "code",
   "execution_count": 3,
   "metadata": {
    "jupyter": {
     "outputs_hidden": false
    }
   },
   "outputs": [
    {
     "name": "stdout",
     "output_type": "stream",
     "text": [
      "2.51 ms ± 27.7 µs per loop (mean ± std. dev. of 7 runs, 100 loops each)\n"
     ]
    }
   ],
   "source": [
    "# @numba.jit(nopython=True)\n",
    "def test():\n",
    "    i=0\n",
    "    for a in range(100000):\n",
    "        i+=a\n",
    "    return i\n",
    "\n",
    "%timeit test()"
   ]
  },
  {
   "cell_type": "code",
   "execution_count": 4,
   "metadata": {},
   "outputs": [
    {
     "name": "stdout",
     "output_type": "stream",
     "text": [
      "38.4 ns ± 0.379 ns per loop (mean ± std. dev. of 7 runs, 10,000,000 loops each)\n"
     ]
    }
   ],
   "source": [
    "@numba.jit(nopython=True)\n",
    "def test():\n",
    "    i=0\n",
    "    for a in range(100000):\n",
    "        i+=a\n",
    "    return i\n",
    "\n",
    "%timeit test()"
   ]
  },
  {
   "cell_type": "code",
   "execution_count": 5,
   "metadata": {},
   "outputs": [
    {
     "name": "stdout",
     "output_type": "stream",
     "text": [
      "43.9 µs ± 404 ns per loop (mean ± std. dev. of 7 runs, 10,000 loops each)\n"
     ]
    }
   ],
   "source": [
    "@numba.jit(nopython=True)\n",
    "def test():\n",
    "    return np.sum(np.arange(1,100000))\n",
    "\n",
    "%timeit test()"
   ]
  },
  {
   "cell_type": "markdown",
   "metadata": {},
   "source": [
    "## Neural network in matrix notation\n",
    "![Neural network](http://colah.github.io/posts/2014-03-NN-Manifolds-Topology/img/example_network.svg) <br>\n",
    "\n"
   ]
  },
  {
   "cell_type": "markdown",
   "metadata": {},
   "source": [
    "$${h_j^l} = \\sum_{i=0}^{n^{l-1}} w_{ij}^{l-1} h_{i}^{l-1}$$"
   ]
  },
  {
   "cell_type": "markdown",
   "metadata": {},
   "source": [
    "$$h^l = h^{l-1} W^{l-1} + b$$"
   ]
  },
  {
   "cell_type": "markdown",
   "metadata": {},
   "source": [
    "\n",
    "### Back propagation formula\n",
    "The four equations for doing back propagation:\n",
    "$$\\begin{eqnarray}\\delta^L&=&\\nabla_aC\\odot\\sigma'(z^L) \\\\\n",
    "\\delta^l&=&((w^{l+1})^T\\delta^{l+1})\\odot\\sigma'(z^l) \\\\ \\frac{\\partial C}{\\partial b_j^l}&=&\\delta_j^l \\\\\n",
    "\\frac{\\partial C}{\\partial w_{jk}^l}&=&a_k^{l-1}\\delta_j^l\n",
    "\\end{eqnarray}$$\n",
    "\n",
    "Credit: [Neural Networks and Deep Learning, Ch. 2](http://neuralnetworksanddeeplearning.com/chap2.html)"
   ]
  },
  {
   "cell_type": "code",
   "execution_count": 4,
   "metadata": {},
   "outputs": [],
   "source": [
    "import numpy as np\n",
    "\n",
    "[3,4,2]\n",
    "\n",
    "class NN():\n",
    "    def __init__(self, architecture, learning_rate, activation):\n",
    "        #initializing the model\n",
    "        self.arch = architecture\n",
    "        self.activation = activation\n",
    "        self.learning_rate = learning_rate\n",
    "        self.depth = len(architecture)\n",
    "        \n",
    "    def init_weight(self):\n",
    "        self.weights = []\n",
    "        self.biases = []\n",
    "        for l in range(self.depth - 1):\n",
    "            prev_layer_num = self.arch[l]\n",
    "            current_layer_num = self.arch[l+1]\n",
    "            # generate randomizing matrix of size ((current_layer_num, prev_layer_num))\n",
    "            self.weights.append(np.zeros((current_layer_num, prev_layer_num)))\n",
    "            self.biases.append(np.zeros(current_layer_num))\n",
    "            \n",
    "    def calc_error(self, y, activation_grad):\n",
    "        self.errors = []\n",
    "        # To_Do\n",
    "        return\n",
    "        \n",
    "    def calc_grad(self):\n",
    "        # To_DO\n",
    "        return\n",
    "        \n",
    "    def back_prop(self):\n",
    "        for l in range(self.depth - 1):\n",
    "            self.weights[l] = self.weights[l] - self.learning_rate * self.weights_grad[l]\n",
    "            self.biases[l] = self.biases[l] - self.learning_rate * self.biases_grad[l]\n",
    "            \n",
    "    def feed_forward(self, x):\n",
    "        self.z_s = []\n",
    "        self.a_s = [x]\n",
    "        for l in range(self.depth - 1):\n",
    "            z_l = self.weights[l].dor(self.a_s[l-1]) + self.biases[l]\n",
    "            a_l = self.activation(z_l)\n",
    "            self.z_s.append(z_l)\n",
    "            self.a_s.append(a_l)\n",
    "            \n",
    "    def fit(self, x, y):\n",
    "        self.feed_forward(x)\n",
    "        self.calc_error(y, activation_grad)\n",
    "        self.calc_grad()\n",
    "        \n",
    "    def predict(self, x):\n",
    "        return self.feed_forward(x)\n",
    "            \n",
    "            "
   ]
  },
  {
   "cell_type": "code",
   "execution_count": null,
   "metadata": {},
   "outputs": [],
   "source": [
    "np.random.seed(0)\n",
    "nn == NN([6,2,2], activation=tanh)\n",
    "nn.init_wights()\n",
    "print('Initialized prediction:', nn.predict(x))\n",
    "nn.fit(x, y, tanh_grad)\n",
    "print('Error in nodes', nn.errors)\n",
    "print('Prediction after fitting once', nn.predict(x))\n"
   ]
  },
  {
   "cell_type": "markdown",
   "metadata": {},
   "source": [
    "## Activation functions\n",
    "### Linear\n",
    "$y=x$\n",
    "<br>$y'=1$ <br>"
   ]
  },
  {
   "cell_type": "code",
   "execution_count": 5,
   "metadata": {
    "jupyter": {
     "outputs_hidden": false
    }
   },
   "outputs": [
    {
     "data": {
      "image/png": "[encoded data removed]",
      "text/plain": [
       "<Figure size 432x288 with 1 Axes>"
      ]
     },
     "metadata": {
      "needs_background": "light"
     },
     "output_type": "display_data"
    }
   ],
   "source": [
    "import matplotlib.pyplot as plt\n",
    "%matplotlib inline\n",
    "x=np.linspace(-5,5,2000)\n",
    "y=x\n",
    "plt.plot(x,y)\n",
    "plt.title(\"Linear activation\");"
   ]
  },
  {
   "cell_type": "markdown",
   "metadata": {},
   "source": [
    "### tanh\n",
    "$y=\\tanh(x)$\n",
    "<br>$y\\in(-1,1)$\n",
    "<br>$y'=1-y^2$\n",
    "\n"
   ]
  },
  {
   "cell_type": "code",
   "execution_count": null,
   "metadata": {
    "jupyter": {
     "outputs_hidden": false
    }
   },
   "outputs": [],
   "source": [
    "x=np.linspace(-5,5,2000)\n",
    "y=np.tanh(x)\n",
    "plt.plot(x,y)\n",
    "plt.title(\"tanh\");"
   ]
  },
  {
   "cell_type": "markdown",
   "metadata": {},
   "source": [
    "### sigmoid\n",
    "$y={\\displaystyle \\frac{1}{1+e^{-x}} }$\n",
    "<br><br>$y\\in(0,1)$\n",
    "<br>$y'=y(1-y)$<br>"
   ]
  },
  {
   "cell_type": "code",
   "execution_count": null,
   "metadata": {
    "jupyter": {
     "outputs_hidden": false
    }
   },
   "outputs": [],
   "source": [
    "x=np.linspace(-5,5,2000)\n",
    "y=1/(1+np.exp(-x))\n",
    "plt.plot(x,y)\n",
    "plt.title(\"sigmoid\");"
   ]
  },
  {
   "cell_type": "markdown",
   "metadata": {},
   "source": [
    "### ReLU\n",
    "$y={\\displaystyle \\begin{equation}\n",
    "\\begin{cases} &x \\:\\:\\: x\\geqslant0 \\\\\n",
    "& 0 \\:\\:\\: x<0\n",
    "\\end{cases}\n",
    "\\end{equation}}$\n",
    "<br><br>$y\\in[0,\\infty)$\n",
    "<br><br>$y'=\\begin{equation}\n",
    "\\begin{cases}\n",
    "& 1\\:\\:\\: x\\geqslant0 \\\\\n",
    "& 0\\:\\:\\: x<0\n",
    "\\end{cases}\n",
    "\\end{equation}$\n"
   ]
  },
  {
   "cell_type": "code",
   "execution_count": null,
   "metadata": {
    "jupyter": {
     "outputs_hidden": false
    }
   },
   "outputs": [],
   "source": [
    "x=np.linspace(-5,5,2000)\n",
    "y=x*(x>=0)\n",
    "plt.plot(x,y)\n",
    "plt.title(\"ReLU (Rectified Linear Unit)\");"
   ]
  },
  {
   "cell_type": "markdown",
   "metadata": {},
   "source": [
    "### softmax\n",
    "$y_i=f_i(\\vec{x})={\\displaystyle \\frac{e^{x_i}}{\\sum_{j=1}^J e^{x_j}}}$\n",
    "<br>$y_i\\in[0,1]$\n",
    "<br><br>${\\displaystyle \\frac{\\partial y_i}{\\partial x_j}=y_i(\\delta_{ij}-y_j)}$\n",
    "\n",
    "\n",
    "### Many more activation functions\n",
    "[Check here](https://en.wikipedia.org/wiki/Activation_function)"
   ]
  },
  {
   "cell_type": "markdown",
   "metadata": {},
   "source": [
    "## Some useful materials for better understanding NN\n",
    "[Neural Networks, Manifolds, and Topology - Colah's blog](http://colah.github.io/posts/2014-03-NN-Manifolds-Topology/)<br>\n",
    "[How the backpropagation algorithm works - Neural Networks and Deep Learning](http://neuralnetworksanddeeplearning.com/chap2.html\n",
    ")"
   ]
  }
 ],
 "metadata": {
  "anaconda-cloud": {},
  "kernelspec": {
   "display_name": "Python 3",
   "language": "python",
   "name": "python3"
  },
  "language_info": {
   "codemirror_mode": {
    "name": "ipython",
    "version": 3
   },
   "file_extension": ".py",
   "mimetype": "text/x-python",
   "name": "python",
   "nbconvert_exporter": "python",
   "pygments_lexer": "ipython3",
   "version": "3.9.12"
  }
 },
 "nbformat": 4,
 "nbformat_minor": 4
}
