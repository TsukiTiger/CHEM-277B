{
 "cells": [
  {
   "cell_type": "markdown",
   "id": "5d0c3ceb",
   "metadata": {},
   "source": [
    "# Homework #3 Answers\n",
    "\n",
    "## Chongye Feng\n"
   ]
  },
  {
   "cell_type": "markdown",
   "id": "fcd8c868",
   "metadata": {},
   "source": [
    "---"
   ]
  },
  {
   "cell_type": "code",
   "execution_count": 1,
   "id": "137306c5",
   "metadata": {},
   "outputs": [],
   "source": [
    "# importing libraries\n",
    "import numba\n",
    "import numpy as np\n",
    "import pandas as pd\n",
    "from pylab import *\n",
    "from mpl_toolkits.mplot3d import axes3d\n",
    "from scipy.optimize import minimize"
   ]
  },
  {
   "cell_type": "code",
   "execution_count": 2,
   "id": "045c40e7",
   "metadata": {},
   "outputs": [],
   "source": [
    "# setting the random seed\n",
    "np.random.seed(0)"
   ]
  },
  {
   "cell_type": "markdown",
   "id": "8e3c15d0",
   "metadata": {},
   "source": [
    "### Q1:"
   ]
  },
  {
   "cell_type": "markdown",
   "id": "ad733c11",
   "metadata": {},
   "source": [
    "#### a:"
   ]
  },
  {
   "cell_type": "markdown",
   "id": "ef9326cd",
   "metadata": {},
   "source": [
    "For $f(x) > 27$:"
   ]
  },
  {
   "cell_type": "markdown",
   "id": "2b21fd49",
   "metadata": {},
   "source": [
    "| Encoding A |         |        |\n",
    "|------------|---------|--------|\n",
    "| Solution   | Fitness | Vector |\n",
    "| 3          | 30      | 1000   |\n",
    "| 4          | 31      | 0010   |\n",
    "| 5          | 30      | 0001   |\n",
    "|            |         |        |\n",
    "| Schema     |         | * 0 **   |\n",
    "| Order      |         | 1      |\n",
    "| Length     | =2-2    | 0      |"
   ]
  },
  {
   "cell_type": "markdown",
   "id": "10088712",
   "metadata": {},
   "source": [
    "| Encoding B |         |        |\n",
    "|------------|---------|--------|\n",
    "| Solution   | Fitness | Vector |\n",
    "| 3          | 30      | 1101   |\n",
    "| 4          | 31      | 1011   |\n",
    "| 5          | 30      | 1111   |\n",
    "|            |         |        |\n",
    "| Schema     |         | 1 ** 1   |\n",
    "| Order      |         | 2      |\n",
    "| Length     | =4-1    | 3      |"
   ]
  },
  {
   "cell_type": "markdown",
   "id": "4bed38b2",
   "metadata": {},
   "source": [
    "The well-encoded schema is the one with short length and low order. So I will choose Encoding A."
   ]
  },
  {
   "cell_type": "markdown",
   "id": "a9be17fd",
   "metadata": {},
   "source": [
    "#### b:"
   ]
  },
  {
   "cell_type": "markdown",
   "id": "2512220e",
   "metadata": {},
   "source": [
    "| Encoding A |         |        |\n",
    "|------------|---------|--------|\n",
    "| Solution   | Fitness | Vector |\n",
    "| 6          | 27      | 0000   |\n",
    "| 15         | -90     | 1111   |\n",
    "|            |         |        |\n",
    "| 1          | 22      | 0011   |\n",
    "| 10         | -5      | 0101   |\n",
    "|            |         |        |\n",
    "| 9          | 6       | 1100   |\n",
    "| 0          | 15      | 1011   |"
   ]
  },
  {
   "cell_type": "markdown",
   "id": "37364b92",
   "metadata": {},
   "source": [
    "#### c:"
   ]
  },
  {
   "cell_type": "markdown",
   "id": "93c6f8f1",
   "metadata": {},
   "source": [
    " | Encoding A |          |      |                |               |\n",
    "|------------|----------|------|----------------|---------------|\n",
    "| Parents    | Children | New? | Child-Solution | Child-Fitness |\n",
    "| 0000       | 0111     | Y    | 12             | -33           |\n",
    "| 1111       | 1000     | Y    | 3              | 30            |\n",
    "|            |          |      |                |               |\n",
    "| 0011       | 0101     | N    |                |               |\n",
    "| 0101       | 0011     | N    |                |               |\n",
    "|            |          |      |                |               |\n",
    "| 1100       | 1011     | N    |                |               |\n",
    "| 1011       | 1100     | N    |                |               |"
   ]
  },
  {
   "cell_type": "markdown",
   "id": "2fbebb68",
   "metadata": {},
   "source": [
    "The population increased by two more individuals. Since the fitness of a population is the sum of the fitnesses of the individual population members. The net fitness of a population changes by (-33) + (30) = -3, so the fitness of a population is decreasing by 3. The best solution would be 3, with a fitness of 30."
   ]
  },
  {
   "cell_type": "markdown",
   "id": "fc5b8767",
   "metadata": {},
   "source": [
    "#### d:"
   ]
  },
  {
   "cell_type": "markdown",
   "id": "6304cd8e",
   "metadata": {},
   "source": [
    "| Encoding A |          |      |                |               |\n",
    "|------------|----------|------|----------------|---------------|\n",
    "| Parents    | Children | New? | Child-Solution | Child-Fitness |\n",
    "| 0000       | 0010     | Y    | 4              | 31            |\n",
    "| 1111       | 1101     | Y    | 13             | -50           |\n",
    "| 0111       | 0101     | N    |                |               |\n",
    "| 0011       | 0001     | Y    | 5              | 30            |\n",
    "| 0101       | 0111     | N    |                |               |\n",
    "| 1000       | 1010     | Y    | 7              | 22            |\n",
    "| 1100       | 1110     | Y    | 14             | -69           |\n",
    "| 1011       | 1001     | Y    | 2              | 27            |"
   ]
  },
  {
   "cell_type": "markdown",
   "id": "89a1da6c",
   "metadata": {},
   "source": [
    "The population increased by six more individuals. The net fitness of a population changes by (31) + (-50) + (30) + (22) + (-69) + (27) = -9, so the fitness of a population is decreasing by 9 from the population of 1c. The best solution would be 4, with a fitness of 31."
   ]
  },
  {
   "cell_type": "markdown",
   "id": "20b0c08c",
   "metadata": {},
   "source": [
    "#### e:"
   ]
  },
  {
   "cell_type": "markdown",
   "id": "8f6519c6",
   "metadata": {},
   "source": [
    "| Encoding A |         |           |               |\n",
    "|------------|---------|-----------|---------------|\n",
    "| Solution   | Fitness | Replacing | New-Vector    |\n",
    "| 0          | 15      | N         | 1011          |\n",
    "| 1          | 22      | N         | 0011          |\n",
    "| 2          | 27      | N         | 1001          |\n",
    "| 3          | 30      | N         | 1000          |\n",
    "| 4          | 31      | N         | 0010          |\n",
    "| 5          | 30      | N         | 0001          |\n",
    "| 6          | 27      | N         | 0000          |\n",
    "| 7          | 22      | N         | 1010          |\n",
    "| 9          | 6       | N         | 1100          |\n",
    "| 10         | -5      | N         | 0101          |\n",
    "| 12         | -33     | N         | 0111          |\n",
    "| 13         | -50     | N         | 1101          |\n",
    "| 14         | -69     | N         | 1110          |\n",
    "| 15         | -90     | Y         | 0010 (Cloned) |"
   ]
  },
  {
   "cell_type": "markdown",
   "id": "c569027b",
   "metadata": {},
   "source": [
    "| Encoding A       |          |      |          |         |\n",
    "|------------------|----------|------|----------|---------|\n",
    "| Parents (paired) | Children | New? | Solution | Fitness |\n",
    "| 0010             | 0110     | Y    | 11       | -18     |\n",
    "| 1110             | 1010     | N    |          |         |\n",
    "| 0010             | 0100     | Y    | 8        | 15      |\n",
    "| 1101             | 1011     | N    |          |         |\n",
    "| 1000             | 1110     | N    |          |         |\n",
    "| 0111             | 0001     | N    |          |         |\n",
    "| 0001             | 0101     | N    |          |         |\n",
    "| 0101             | 0001     | N    |          |         |\n",
    "| 1001             | 1101     | N    |          |         |\n",
    "| 1100             | 1000     | N    |          |         |\n",
    "| 0000             | 0010     | N    |          |         |\n",
    "| 1011             | 1001     | N    |          |         |\n",
    "| 0011             | 0011     | N    |          |         |\n",
    "| 1010             | 1010     | N    |          |         |"
   ]
  },
  {
   "cell_type": "markdown",
   "id": "a65e2735",
   "metadata": {},
   "source": [
    "The population increased by two more individuals. The net fitness of a population changes by (-18) + (15) = -3, so the fitness of a population is decreasing by 3 from the population of 1d. The best solution would still be 4, with a fitness of 31."
   ]
  },
  {
   "cell_type": "markdown",
   "id": "a22b758c",
   "metadata": {},
   "source": [
    "#### f:"
   ]
  },
  {
   "cell_type": "markdown",
   "id": "36271c19",
   "metadata": {},
   "source": [
    "There are 16 individuals of the population right now, and the total amount of possible solutions is 16 = 2^4. So, there would be no more new solution would be generated in this step."
   ]
  },
  {
   "cell_type": "markdown",
   "id": "5731951a",
   "metadata": {},
   "source": [
    "Below is the example of the cross-over operation between the fittest (0010) and the least-fit (1110, ps. where 1111 is replaced by cloning the fittest):"
   ]
  },
  {
   "cell_type": "markdown",
   "id": "961cd8fb",
   "metadata": {},
   "source": [
    "| Encoding A       | 1f Cross Over Example |      |\n",
    "|------------------|-----------------------|------|\n",
    "| Parents (paired) | Children              | New? |\n",
    "| 001-0            | 111-0                 | N    |\n",
    "| 111-0            | 001-0                 | N    |"
   ]
  },
  {
   "cell_type": "markdown",
   "id": "814e09b3",
   "metadata": {},
   "source": [
    "The population increased by no more individuals. The net fitness of a population would not be changed. The best solution would still be 4, with a fitness of 31."
   ]
  },
  {
   "cell_type": "markdown",
   "id": "f7cdfeaa",
   "metadata": {},
   "source": [
    "#### g:"
   ]
  },
  {
   "cell_type": "markdown",
   "id": "000431a4",
   "metadata": {},
   "source": [
    "I think the encoding \"type-A\" is adequate of the solution space. 1) The encoding accuately represent all possible solutions in the solution space. 2) New solutions are easily generated by the mutation and cross-over operations from limited parents population. 3) After 1c, 1d and 1e operations, all of the possible solutions are generated from just 6 original parental population. 4) The global maximum, 4, was found by just two generations."
   ]
  },
  {
   "cell_type": "markdown",
   "id": "bf16c302",
   "metadata": {},
   "source": [
    "---"
   ]
  },
  {
   "cell_type": "markdown",
   "id": "4cf78e67",
   "metadata": {},
   "source": [
    "### Q2:"
   ]
  },
  {
   "cell_type": "code",
   "execution_count": 3,
   "id": "2f360b27",
   "metadata": {},
   "outputs": [],
   "source": [
    "# activation function and its derivative\n",
    "def tanh(x):\n",
    "    return np.tanh(x);\n",
    "\n",
    "def tanh_prime(x):\n",
    "    return 1-np.tanh(x)**2;"
   ]
  },
  {
   "cell_type": "code",
   "execution_count": 4,
   "id": "9f2a1356",
   "metadata": {},
   "outputs": [],
   "source": [
    "class NN():\n",
    "    def __init__(self, architecture, learning_rate, activation=tanh):\n",
    "        # initializing the model\n",
    "        self.arch = architecture\n",
    "        self.activation = activation\n",
    "        self.learning_rate = learning_rate\n",
    "        self.depth = len(architecture)\n",
    "        self.init_weight()\n",
    "        \n",
    "    def init_weight(self):\n",
    "        self.weights = []\n",
    "        self.biases = []\n",
    "        for l in range(self.depth - 1):\n",
    "            prev_layer_num = self.arch[l]\n",
    "            current_layer_num = self.arch[l+1]\n",
    "            # initialize weights randomly with values between 0 and 1.0\n",
    "            self.weights.append(np.random.rand(current_layer_num, prev_layer_num))\n",
    "            self.biases.append(np.zeros(current_layer_num))\n",
    "            \n",
    "    def calc_error(self, y, activation_grad=tanh_prime):\n",
    "        self.errors = []\n",
    "        # calculate the error of the output layer\n",
    "        delta = (self.a_s[-1] - y) * activation_grad(self.z_s[-1])\n",
    "        self.errors.append(delta)\n",
    "        # propagate the error backwards to previous layers\n",
    "        for l in range(self.depth - 2, 0, -1):\n",
    "            delta = (self.weights[l].T @ delta) * activation_grad(self.z_s[l-1])\n",
    "            self.errors.append(delta)\n",
    "        # reverse the errors to match the layer order\n",
    "        self.errors = self.errors[::-1]\n",
    "        \n",
    "    def calc_grad(self):\n",
    "        self.weights_grad = []\n",
    "        self.biases_grad = []\n",
    "        # calculate the gradients for each layer\n",
    "        for l in range(self.depth - 1):\n",
    "            weight_grad = np.inner(nn.errors[l],nn.a_s[l])\n",
    "            bias_grad = self.errors[l]\n",
    "            self.weights_grad.append(weight_grad)\n",
    "            self.biases_grad.append(bias_grad)\n",
    "            \n",
    "    def back_prop(self):\n",
    "        # update the weights and biases using the gradients and learning rate\n",
    "        for l in range(self.depth - 1):\n",
    "            self.weights[l] = self.weights[l] - self.learning_rate * self.weights_grad[l]\n",
    "            self.biases[l] = self.biases[l] - self.learning_rate * self.biases_grad[l]\n",
    "            \n",
    "    def feed_forward(self, x):\n",
    "        self.z_s = []\n",
    "        self.a_s = [x]\n",
    "        for l in range(self.depth - 1):\n",
    "            z_l = self.weights[l] @ self.a_s[l] + self.biases[l]\n",
    "            a_l = self.activation(z_l)\n",
    "            self.z_s.append(z_l)\n",
    "            self.a_s.append(a_l)\n",
    "            \n",
    "    def fit(self, x, y):\n",
    "        self.feed_forward(x)\n",
    "        self.calc_error(y)\n",
    "        self.calc_grad()\n",
    "        self.back_prop()\n",
    "        \n",
    "    def predict(self, x):\n",
    "        self.feed_forward(x)\n",
    "        return self.a_s[-1]\n"
   ]
  },
  {
   "cell_type": "code",
   "execution_count": 5,
   "id": "36aec8ba",
   "metadata": {},
   "outputs": [],
   "source": [
    "nn = NN(architecture=[6, 2, 2], learning_rate=0.1)"
   ]
  },
  {
   "cell_type": "markdown",
   "id": "3bf2e005",
   "metadata": {},
   "source": [
    "#### a:"
   ]
  },
  {
   "cell_type": "code",
   "execution_count": 6,
   "id": "1d42bb99",
   "metadata": {},
   "outputs": [],
   "source": [
    "nn.init_weight()"
   ]
  },
  {
   "cell_type": "code",
   "execution_count": 7,
   "id": "4ffe2863",
   "metadata": {},
   "outputs": [
    {
     "data": {
      "text/plain": [
       "[array([[0.0202184 , 0.83261985, 0.77815675, 0.87001215, 0.97861834,\n",
       "         0.79915856],\n",
       "        [0.46147936, 0.78052918, 0.11827443, 0.63992102, 0.14335329,\n",
       "         0.94466892]]),\n",
       " array([[0.52184832, 0.41466194],\n",
       "        [0.26455561, 0.77423369]])]"
      ]
     },
     "execution_count": 7,
     "metadata": {},
     "output_type": "execute_result"
    }
   ],
   "source": [
    "nn.weights"
   ]
  },
  {
   "cell_type": "markdown",
   "id": "750139f9",
   "metadata": {},
   "source": [
    "The weights of each layer were initialized."
   ]
  },
  {
   "cell_type": "markdown",
   "id": "9f42bfe4",
   "metadata": {},
   "source": [
    "#### b:"
   ]
  },
  {
   "cell_type": "code",
   "execution_count": 8,
   "id": "a46d1e20",
   "metadata": {},
   "outputs": [],
   "source": [
    "x = np.array([[-1, 1], [-1, -1], [0, 0], [0, 0], [0, 0],[1, -1]])"
   ]
  },
  {
   "cell_type": "code",
   "execution_count": 9,
   "id": "152295ea",
   "metadata": {
    "scrolled": true
   },
   "outputs": [
    {
     "data": {
      "text/plain": [
       "array([[-0.14670542, -0.68325685],\n",
       "       [-0.23345948, -0.71824085]])"
      ]
     },
     "execution_count": 9,
     "metadata": {},
     "output_type": "execute_result"
    }
   ],
   "source": [
    "nn.predict(x)"
   ]
  },
  {
   "cell_type": "markdown",
   "id": "6273f48e",
   "metadata": {},
   "source": [
    "It looks like the first prediction is closed to (-0.2, -0.7) which is a coil. But it is just an initial guess, and our model needs to be fitted."
   ]
  },
  {
   "cell_type": "markdown",
   "id": "5741384d",
   "metadata": {},
   "source": [
    "#### c:"
   ]
  },
  {
   "cell_type": "code",
   "execution_count": 10,
   "id": "679e97cd",
   "metadata": {},
   "outputs": [],
   "source": [
    "observe = np.array([-1,-1])"
   ]
  },
  {
   "cell_type": "code",
   "execution_count": 11,
   "id": "da9c9a7c",
   "metadata": {},
   "outputs": [],
   "source": [
    "nn.calc_error(observe)"
   ]
  },
  {
   "cell_type": "code",
   "execution_count": 12,
   "id": "ebab5b0f",
   "metadata": {
    "scrolled": true
   },
   "outputs": [
    {
     "data": {
      "text/plain": [
       "[array([[0.6256418 , 0.01830307],\n",
       "        [0.83163061, 0.04811582]]),\n",
       " array([[0.83492957, 0.1688748 ],\n",
       "        [0.72476151, 0.13640808]])]"
      ]
     },
     "execution_count": 12,
     "metadata": {},
     "output_type": "execute_result"
    }
   ],
   "source": [
    "nn.errors"
   ]
  },
  {
   "cell_type": "markdown",
   "id": "d2309154",
   "metadata": {},
   "source": [
    "It shows the error here."
   ]
  },
  {
   "cell_type": "markdown",
   "id": "53d247de",
   "metadata": {},
   "source": [
    "#### d:"
   ]
  },
  {
   "cell_type": "code",
   "execution_count": 13,
   "id": "d8852905",
   "metadata": {},
   "outputs": [],
   "source": [
    "nn.fit(x,observe)"
   ]
  },
  {
   "cell_type": "code",
   "execution_count": 14,
   "id": "e23453ae",
   "metadata": {},
   "outputs": [
    {
     "data": {
      "text/plain": [
       "[array([[0.08095227, 0.89701433, 0.77815675, 0.87001215, 0.97861834,\n",
       "         0.73842469],\n",
       "        [0.53983084, 0.86850382, 0.11827443, 0.63992102, 0.14335329,\n",
       "         0.86631744]]),\n",
       " array([[0.54191963, 0.45317065],\n",
       "        [0.28103817, 0.80679346]])]"
      ]
     },
     "execution_count": 14,
     "metadata": {},
     "output_type": "execute_result"
    }
   ],
   "source": [
    "nn.weights"
   ]
  },
  {
   "cell_type": "code",
   "execution_count": 15,
   "id": "ba9e3b95",
   "metadata": {},
   "outputs": [
    {
     "data": {
      "text/plain": [
       "array([[-0.45721908, -0.71159509],\n",
       "       [-0.5387804 , -0.73672515]])"
      ]
     },
     "execution_count": 15,
     "metadata": {},
     "output_type": "execute_result"
    }
   ],
   "source": [
    "nn.predict(x)"
   ]
  },
  {
   "cell_type": "markdown",
   "id": "be7bf85a",
   "metadata": {},
   "source": [
    "After one fitting, the prediction is close to (-0.5,-0.7), which is closer to our observation. It seems that our model has been trained properly."
   ]
  }
 ],
 "metadata": {
  "kernelspec": {
   "display_name": "Python 3",
   "language": "python",
   "name": "python3"
  },
  "language_info": {
   "codemirror_mode": {
    "name": "ipython",
    "version": 3
   },
   "file_extension": ".py",
   "mimetype": "text/x-python",
   "name": "python",
   "nbconvert_exporter": "python",
   "pygments_lexer": "ipython3",
   "version": "3.9.12"
  }
 },
 "nbformat": 4,
 "nbformat_minor": 5
}
