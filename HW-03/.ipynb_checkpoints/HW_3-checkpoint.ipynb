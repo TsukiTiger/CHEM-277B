{
 "cells": [
  {
   "cell_type": "markdown",
   "id": "5d0c3ceb",
   "metadata": {},
   "source": [
    "# Homework #3 Answers\n",
    "\n",
    "## Chongye Feng\n"
   ]
  },
  {
   "cell_type": "markdown",
   "id": "fcd8c868",
   "metadata": {},
   "source": [
    "---"
   ]
  },
  {
   "cell_type": "code",
   "execution_count": 1,
   "id": "137306c5",
   "metadata": {},
   "outputs": [],
   "source": [
    "# importing libraries\n",
    "import numba\n",
    "import numpy as np\n",
    "import pandas as pd\n",
    "from pylab import *\n",
    "from mpl_toolkits.mplot3d import axes3d\n",
    "from scipy.optimize import minimize"
   ]
  },
  {
   "cell_type": "code",
   "execution_count": 2,
   "id": "045c40e7",
   "metadata": {},
   "outputs": [],
   "source": [
    "# setting the random seed\n",
    "np.random.seed(0)"
   ]
  },
  {
   "cell_type": "markdown",
   "id": "8e3c15d0",
   "metadata": {},
   "source": [
    "### Q1:"
   ]
  },
  {
   "cell_type": "markdown",
   "id": "ad733c11",
   "metadata": {},
   "source": [
    "#### a:"
   ]
  },
  {
   "cell_type": "markdown",
   "id": "39729a08",
   "metadata": {},
   "source": [
    "For $$f(x) > 27$$:"
   ]
  },
  {
   "cell_type": "markdown",
   "id": "b14bea5a",
   "metadata": {},
   "source": [
    "| Encoding A |         |        |\n",
    "|------------|---------|--------|\n",
    "| Solution   | Fitness | Vector |\n",
    "| 3          | 30      | 1000   |\n",
    "| 4          | 31      | 0010   |\n",
    "| 5          | 30      | 0001   |"
   ]
  },
  {
   "cell_type": "markdown",
   "id": "75491af4",
   "metadata": {},
   "source": [
    "| Encoding B |         |        |\n",
    "|------------|---------|--------|\n",
    "| Solution   | Fitness | Vector |\n",
    "| 3          | 30      | 1101   |\n",
    "| 4          | 31      | 1011   |\n",
    "| 5          | 30      | 1111   |"
   ]
  },
  {
   "cell_type": "code",
   "execution_count": null,
   "id": "78c1cf98",
   "metadata": {},
   "outputs": [],
   "source": []
  }
 ],
 "metadata": {
  "kernelspec": {
   "display_name": "Python 3",
   "language": "python",
   "name": "python3"
  },
  "language_info": {
   "codemirror_mode": {
    "name": "ipython",
    "version": 3
   },
   "file_extension": ".py",
   "mimetype": "text/x-python",
   "name": "python",
   "nbconvert_exporter": "python",
   "pygments_lexer": "ipython3",
   "version": "3.9.12"
  }
 },
 "nbformat": 4,
 "nbformat_minor": 5
}
