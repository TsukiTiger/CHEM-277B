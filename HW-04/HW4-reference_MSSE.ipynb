{
 "cells": [
  {
   "cell_type": "markdown",
   "metadata": {},
   "source": [
    "#  Q1"
   ]
  },
  {
   "cell_type": "markdown",
   "metadata": {},
   "source": [
    "## Reference code for a simple perceptron"
   ]
  },
  {
   "cell_type": "code",
   "execution_count": 24,
   "metadata": {
    "collapsed": true,
    "jupyter": {
     "outputs_hidden": true
    }
   },
   "outputs": [],
   "source": [
    "class simple_perceptron():\n",
    "    def __init__(self,input_dim,output_dim,learning_rate=0.01,activation=lambda x:x,activation_grad=lambda x:1):\n",
    "        \n",
    "        self.input_dim=input_dim\n",
    "        self.output_dim=output_dim\n",
    "        self.activation=activation\n",
    "        self.activation_grad=activation_grad\n",
    "        self.lr=learning_rate\n",
    "        ### initialize parameters ###\n",
    "        self.weights=...\n",
    "        self.biases=...\n",
    "\n",
    "    def predict(self,X):\n",
    "        if len(X.shape)==1:\n",
    "            X=X.reshape((1,-1))\n",
    "        dim=X.shape[1]\n",
    "        # Check that the dimension of accepted input data is the same as expected\n",
    "        if not dim==self.input_dim:\n",
    "            raise Exception(\"Expected input size %d, accepted %d!\"%(self.input_dim,dim))\n",
    "        ### Calculate logit and activation ###\n",
    "        self.z = ...             #shape(X.shape[0],1)\n",
    "        self.a = ...             #shape(X.shape[0],1)\n",
    "        return self.a\n",
    "    \n",
    "    def fit(self,X,y):\n",
    "        # Transform the single-sample data into 2-dimensional, for the convenience of matrix multiplication\n",
    "        if len(X.shape)==1:\n",
    "            X=X.reshape((1,-1))\n",
    "        if len(y.shape)==1:\n",
    "            y=y.reshape((1,-1))\n",
    "        self.predict(X)\n",
    "        errors=(self.a-y)*self.activation_grad(self.z)\n",
    "        weights_grad=errors.T.dot(X)\n",
    "        bias_grad=np.sum(errors,axis=0)\n",
    "        ### Update weights and biases from the gradient ###\n",
    "        self.weights -=...\n",
    "        self.biases -=...\n",
    "\n",
    "        \n",
    "    def train_on_epoch(self,X,y,batch_size=32):\n",
    "        # Every time select batch_size samples from the training set, until all data in the training set has been trained once\n",
    "        order=list(range(X.shape[0]))\n",
    "        random.shuffle(order)\n",
    "        n=0\n",
    "        while n<math.ceil(len(order)/batch_size)-1: # Parts that can fill one batch\n",
    "            self.fit(X[order[n*batch_size:(n+1)*batch_size]],y[order[n*batch_size:(n+1)*batch_size]])\n",
    "            n+=1\n",
    "        # Parts that cannot fill one batch\n",
    "        self.fit(X[order[n*batch_size:]],y[order[n*batch_size:]])\n",
    "        \n",
    "    def evaluate(self,X,y):\n",
    "         # Transform the single-sample data into 2-dimensional\n",
    "        if len(X.shape)==1:\n",
    "            X=X.reshape((1,-1))\n",
    "        if len(y.shape)==1:\n",
    "            y=y.reshape((1,-1))\n",
    "        ### means square error ###\n",
    "        return ...\n",
    "    \n",
    "    def get_weights(self):\n",
    "        return (self.weights,self.biases)\n",
    "    \n",
    "    def set_weights(self,weights):\n",
    "        self.weights=weights[0]\n",
    "        self.biases=weights[1]"
   ]
  },
  {
   "cell_type": "code",
   "execution_count": 45,
   "metadata": {
    "jupyter": {
     "outputs_hidden": false
    }
   },
   "outputs": [],
   "source": [
    "from sklearn.model_selection import train_test_split,KFold\n",
    "\n",
    "\n",
    "def Kfold(k,Xs,ys,epochs,learning_rate=0.0001,draw_curve=True):\n",
    "    # The total number of examples for training the network\n",
    "    total_num=len(Xs)\n",
    "    \n",
    "    # Built in K-fold function in Sci-Kit Learn\n",
    "    kf=KFold(n_splits=k,shuffle=True)\n",
    "    # record error for each model\n",
    "    train_error_all=[]\n",
    "    test_error_all=[]\n",
    "    \n",
    "    for train_selector,test_selector in kf.split(range(total_num)):\n",
    "        ### Decide training examples and testing examples for this fold ###\n",
    "        train_Xs=...\n",
    "        test_Xs=...\n",
    "        train_ys=...\n",
    "        test_ys=...\n",
    "        \n",
    "\n",
    "        val_array=[]\n",
    "        # Split training examples further into training and validation\n",
    "        train_in,val_in,train_real,val_real=train_test_split(train_Xs,train_ys)\n",
    "        \n",
    "        ### Establish the model for simple perceptron here ###\n",
    "        model=...\n",
    "        \n",
    "        # Save the lowest weights, so that we can recover the best model\n",
    "        weights = model.get_weights()\n",
    "        lowest_val_err = np.inf\n",
    "        for _ in range(epochs):\n",
    "            # Train model on a number of epochs, and test performance in the validation set\n",
    "            model.train_on_epoch(train_in,train_real)\n",
    "            val_err = model.evaluate(val_in,val_real)\n",
    "            val_array.append(val_err)\n",
    "            if val_err < lowest_val_err:\n",
    "                lowest_val_err = val_err\n",
    "                weights = model.get_weights()\n",
    "\n",
    "        # The final number of epochs is when the minimum error in validation set occurs    \n",
    "        final_epochs=...\n",
    "        print(\"Number of epochs with lowest validation:\",final_epochs)\n",
    "        # Recover the model weight\n",
    "        model.set_weights(weights)\n",
    "\n",
    "        # Report result for this fold\n",
    "        train_error=...\n",
    "        train_error_all.append(train_error)\n",
    "        test_error=...\n",
    "        test_error_all.append(test_error)\n",
    "        print(\"Train error:\",train_error)\n",
    "        print(\"Test error:\",test_error)\n",
    "        \n",
    "        if draw_curve:\n",
    "            plt.figure()\n",
    "            plt.plot(np.arange(len(val_array))+1,val_array,label='Validation loss')\n",
    "            plt.xlabel('Epochs')\n",
    "            plt.ylabel('Loss')\n",
    "            plt.legend()\n",
    "            \n",
    "    print(\"Final results:\")\n",
    "    print(\"Training error:%f+-%f\"%(np.average(train_error_all),np.std(train_error_all)))\n",
    "    print(\"Testing error:%f+-%f\"%(np.average(test_error_all),np.std(test_error_all)))\n",
    "    \n",
    "    # return the last model\n",
    "    return model\n"
   ]
  },
  {
   "cell_type": "markdown",
   "metadata": {},
   "source": [
    "## A funtion that plots the correlation between your prediction and the groud truth"
   ]
  },
  {
   "cell_type": "code",
   "execution_count": 8,
   "metadata": {
    "jupyter": {
     "outputs_hidden": false
    }
   },
   "outputs": [],
   "source": [
    "def show_correlation(xs,ys):\n",
    "    plt.figure()\n",
    "    plt.scatter(xs,ys,s=0.5)\n",
    "    r = [np.min([np.min(xs),np.min(ys)]),np.max([np.max(xs),np.max(ys)])]\n",
    "    plt.plot(r,r,'r')\n",
    "    plt.xlabel(\"Predictions\")\n",
    "    plt.ylabel(\"Ground truth\")\n",
    "    corr=np.corrcoef([xs,ys])[1,0]\n",
    "    print(\"Correlation coefficient:\",corr)\n",
    "\n"
   ]
  },
  {
   "cell_type": "markdown",
   "metadata": {},
   "source": [
    "# Q3"
   ]
  },
  {
   "cell_type": "code",
   "execution_count": 19,
   "metadata": {},
   "outputs": [],
   "source": [
    "import matplotlib.pyplot as plt\n",
    "from mpl_toolkits.mplot3d import Axes3D\n",
    "\n",
    "def generate_X(number):\n",
    "    xs=(np.random.random(number)*2-1)*10\n",
    "    return xs\n",
    "    \n",
    "def generate_data(number,stochascity=0.05):\n",
    "    xs=generate_X(number)\n",
    "    fs=3*np.sin(xs)-5\n",
    "    stochastic_ratio=(np.random.random(number)*2-1)*stochascity+1\n",
    "    return xs,fs*stochastic_ratio"
   ]
  },
  {
   "cell_type": "markdown",
   "metadata": {},
   "source": [
    "This is your training data:"
   ]
  },
  {
   "cell_type": "code",
   "execution_count": 20,
   "metadata": {},
   "outputs": [
    {
     "data": {
      "text/plain": [
       "<matplotlib.collections.PathCollection at 0x7fe42c7bcdd8>"
      ]
     },
     "execution_count": 20,
     "metadata": {},
     "output_type": "execute_result"
    },
    {
     "data": {
      "image/png": "[encoded data removed]",
      "text/plain": [
       "<Figure size 432x288 with 1 Axes>"
      ]
     },
     "metadata": {
      "needs_background": "light"
     },
     "output_type": "display_data"
    }
   ],
   "source": [
    "x,y=generate_data(5000,0.1)\n",
    "plt.scatter(x,y,s=0.1)"
   ]
  },
  {
   "cell_type": "markdown",
   "metadata": {},
   "source": [
    "## (b)\n",
    "\n",
    "Here we use the Multi-layer Perceptron regressor built-in from sklearn as a simple ANN <br>\n",
    "[MLP regressor](https://scikit-learn.org/stable/modules/generated/sklearn.neural_network.MLPRegressor.html)"
   ]
  },
  {
   "cell_type": "code",
   "execution_count": 26,
   "metadata": {},
   "outputs": [],
   "source": [
    "from sklearn.neural_network import MLPRegressor\n",
    "\n",
    "def KFold_NN(k,Xs,ys,hidden_layers,epochs=1000,lr=0.001,):\n",
    "    # The total number of examples for training the network\n",
    "    total_num=len(Xs)\n",
    "\n",
    "    # Built in K-fold function in Sci-Kit Learn\n",
    "    kf=KFold(n_splits=k,shuffle=True)\n",
    "    train_error_all=[]\n",
    "    test_error_all=[]\n",
    "    for train_selector,test_selector in kf.split(range(total_num)):\n",
    "        # Decide training examples and testing examples for this fold\n",
    "        ...\n",
    "        \n",
    "        # Establish the model here\n",
    "        model = MLPRegressor(max_iter=epochs, activation='tanh', early_stopping=True, \n",
    "                             validation_fraction=0.25, learning_rate='constant', learning_rate_init=lr,\n",
    "                             hidden_layer_sizes=hidden_layers).fit(train_Xs, train_ys)\n",
    "        \n",
    "        ### Report result for this fold ##\n",
    "        train_error=...\n",
    "        train_error_all.append(train_error)\n",
    "        test_error=...\n",
    "        test_error_all.append(test_error)\n",
    "        print(\"Train error:\",train_error)\n",
    "        print(\"Test error:\",test_error)\n",
    "\n",
    "    print(\"Final results:\")\n",
    "    print(\"Training error:%f+-%f\"%(np.average(train_error_all),np.std(train_error_all)))\n",
    "    print(\"Testing error:%f+-%f\"%(np.average(test_error_all),np.std(test_error_all)))\n",
    "    \n",
    "    # return the last model\n",
    "    return model\n"
   ]
  }
 ],
 "metadata": {
  "anaconda-cloud": {},
  "kernelspec": {
   "display_name": "Python 3 (ipykernel)",
   "language": "python",
   "name": "python3"
  },
  "language_info": {
   "codemirror_mode": {
    "name": "ipython",
    "version": 3
   },
   "file_extension": ".py",
   "mimetype": "text/x-python",
   "name": "python",
   "nbconvert_exporter": "python",
   "pygments_lexer": "ipython3",
   "version": "3.9.12"
  }
 },
 "nbformat": 4,
 "nbformat_minor": 4
}
