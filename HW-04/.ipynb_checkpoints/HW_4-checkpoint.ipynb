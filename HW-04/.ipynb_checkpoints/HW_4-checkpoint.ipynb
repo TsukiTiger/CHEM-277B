{
 "cells": [
  {
   "cell_type": "markdown",
   "id": "c4bbdf02",
   "metadata": {},
   "source": [
    "# Homework #4 Answers\n",
    "\n",
    "## Chongye Feng"
   ]
  },
  {
   "cell_type": "markdown",
   "id": "e427e511",
   "metadata": {},
   "source": [
    "---"
   ]
  },
  {
   "cell_type": "code",
   "execution_count": 1,
   "id": "7e0546d0",
   "metadata": {},
   "outputs": [],
   "source": [
    "# importing libraries\n",
    "import numba\n",
    "import numpy as np\n",
    "import pandas as pd\n",
    "from pylab import *\n",
    "from mpl_toolkits.mplot3d import axes3d\n",
    "from scipy.optimize import minimize\n",
    "\n",
    "# setting the random seed\n",
    "np.random.seed(0)"
   ]
  },
  {
   "cell_type": "code",
   "execution_count": 2,
   "id": "45dfd335",
   "metadata": {},
   "outputs": [],
   "source": [
    "def show_correlation(xs,ys):\n",
    "    plt.figure()\n",
    "    plt.scatter(xs,ys,s=0.5)\n",
    "    r = [np.min([np.min(xs),np.min(ys)]),np.max([np.max(xs),np.max(ys)])]\n",
    "    plt.plot(r,r,'r')\n",
    "    plt.xlabel(\"Predictions\")\n",
    "    plt.ylabel(\"Ground truth\")\n",
    "    corr=np.corrcoef([xs,ys])[1,0]\n",
    "    print(\"Correlation coefficient:\",corr)"
   ]
  },
  {
   "cell_type": "code",
   "execution_count": 3,
   "id": "8bcc2fb0",
   "metadata": {},
   "outputs": [],
   "source": [
    "import time\n",
    "\n",
    "def timeit(func):\n",
    "    def wrapper(*args, **kwargs):\n",
    "        start_time = time.time()\n",
    "        result = func(*args, **kwargs)\n",
    "        end_time = time.time()\n",
    "        elapsed_time = end_time - start_time\n",
    "        print(\"Elapsed time: {:.6f} seconds\".format(elapsed_time))\n",
    "        return result\n",
    "    return wrapper"
   ]
  },
  {
   "cell_type": "markdown",
   "id": "2ba4bea2",
   "metadata": {},
   "source": [
    "---"
   ]
  },
  {
   "cell_type": "markdown",
   "id": "9dcf3421",
   "metadata": {},
   "source": [
    "### Q1"
   ]
  },
  {
   "cell_type": "code",
   "execution_count": 4,
   "id": "2a5e4c3a",
   "metadata": {},
   "outputs": [],
   "source": [
    "admissions = pd.read_csv('Admission_Predict_Ver1.1.csv')"
   ]
  },
  {
   "cell_type": "code",
   "execution_count": 5,
   "id": "aec03826",
   "metadata": {},
   "outputs": [
    {
     "data": {
      "text/plain": [
       "(500, 9)"
      ]
     },
     "execution_count": 5,
     "metadata": {},
     "output_type": "execute_result"
    }
   ],
   "source": [
    "admissions.shape"
   ]
  },
  {
   "cell_type": "code",
   "execution_count": 6,
   "id": "7d800e57",
   "metadata": {},
   "outputs": [
    {
     "data": {
      "text/html": [
       "<div>\n",
       "<style scoped>\n",
       "    .dataframe tbody tr th:only-of-type {\n",
       "        vertical-align: middle;\n",
       "    }\n",
       "\n",
       "    .dataframe tbody tr th {\n",
       "        vertical-align: top;\n",
       "    }\n",
       "\n",
       "    .dataframe thead th {\n",
       "        text-align: right;\n",
       "    }\n",
       "</style>\n",
       "<table border=\"1\" class=\"dataframe\">\n",
       "  <thead>\n",
       "    <tr style=\"text-align: right;\">\n",
       "      <th></th>\n",
       "      <th>Serial No.</th>\n",
       "      <th>GRE Score</th>\n",
       "      <th>TOEFL Score</th>\n",
       "      <th>University Rating</th>\n",
       "      <th>SOP</th>\n",
       "      <th>LOR</th>\n",
       "      <th>CGPA</th>\n",
       "      <th>Research</th>\n",
       "      <th>Chance of Admit</th>\n",
       "    </tr>\n",
       "  </thead>\n",
       "  <tbody>\n",
       "    <tr>\n",
       "      <th>0</th>\n",
       "      <td>1</td>\n",
       "      <td>337</td>\n",
       "      <td>118</td>\n",
       "      <td>4</td>\n",
       "      <td>4.5</td>\n",
       "      <td>4.5</td>\n",
       "      <td>9.65</td>\n",
       "      <td>1</td>\n",
       "      <td>0.92</td>\n",
       "    </tr>\n",
       "    <tr>\n",
       "      <th>1</th>\n",
       "      <td>2</td>\n",
       "      <td>324</td>\n",
       "      <td>107</td>\n",
       "      <td>4</td>\n",
       "      <td>4.0</td>\n",
       "      <td>4.5</td>\n",
       "      <td>8.87</td>\n",
       "      <td>1</td>\n",
       "      <td>0.76</td>\n",
       "    </tr>\n",
       "    <tr>\n",
       "      <th>2</th>\n",
       "      <td>3</td>\n",
       "      <td>316</td>\n",
       "      <td>104</td>\n",
       "      <td>3</td>\n",
       "      <td>3.0</td>\n",
       "      <td>3.5</td>\n",
       "      <td>8.00</td>\n",
       "      <td>1</td>\n",
       "      <td>0.72</td>\n",
       "    </tr>\n",
       "  </tbody>\n",
       "</table>\n",
       "</div>"
      ],
      "text/plain": [
       "   Serial No.  GRE Score  TOEFL Score  University Rating  SOP  LOR   CGPA  \\\n",
       "0           1        337          118                  4  4.5   4.5  9.65   \n",
       "1           2        324          107                  4  4.0   4.5  8.87   \n",
       "2           3        316          104                  3  3.0   3.5  8.00   \n",
       "\n",
       "   Research  Chance of Admit   \n",
       "0         1              0.92  \n",
       "1         1              0.76  \n",
       "2         1              0.72  "
      ]
     },
     "execution_count": 6,
     "metadata": {},
     "output_type": "execute_result"
    }
   ],
   "source": [
    "admissions.head(3)"
   ]
  },
  {
   "cell_type": "markdown",
   "id": "00b55309",
   "metadata": {},
   "source": [
    "#### a:"
   ]
  },
  {
   "cell_type": "code",
   "execution_count": 7,
   "id": "82f4ad20",
   "metadata": {},
   "outputs": [
    {
     "data": {
      "text/plain": [
       "0.97"
      ]
     },
     "execution_count": 7,
     "metadata": {},
     "output_type": "execute_result"
    }
   ],
   "source": [
    "chance_max = admissions[\"Chance of Admit \"].max()\n",
    "chance_max"
   ]
  },
  {
   "cell_type": "code",
   "execution_count": 8,
   "id": "bf9d0250",
   "metadata": {},
   "outputs": [
    {
     "data": {
      "text/plain": [
       "0.34"
      ]
     },
     "execution_count": 8,
     "metadata": {},
     "output_type": "execute_result"
    }
   ],
   "source": [
    "chance_min = admissions[\"Chance of Admit \"].min()\n",
    "chance_min"
   ]
  },
  {
   "cell_type": "code",
   "execution_count": 9,
   "id": "2a62daab",
   "metadata": {},
   "outputs": [],
   "source": [
    "# Using the max and min to normalize the 'Chance of Admit '\n",
    "admissions['Chance'] = (admissions[\"Chance of Admit \"] - chance_min) / (chance_max - chance_min)"
   ]
  },
  {
   "cell_type": "code",
   "execution_count": 10,
   "id": "197b69f2",
   "metadata": {},
   "outputs": [
    {
     "data": {
      "text/html": [
       "<div>\n",
       "<style scoped>\n",
       "    .dataframe tbody tr th:only-of-type {\n",
       "        vertical-align: middle;\n",
       "    }\n",
       "\n",
       "    .dataframe tbody tr th {\n",
       "        vertical-align: top;\n",
       "    }\n",
       "\n",
       "    .dataframe thead th {\n",
       "        text-align: right;\n",
       "    }\n",
       "</style>\n",
       "<table border=\"1\" class=\"dataframe\">\n",
       "  <thead>\n",
       "    <tr style=\"text-align: right;\">\n",
       "      <th></th>\n",
       "      <th>Serial No.</th>\n",
       "      <th>GRE Score</th>\n",
       "      <th>TOEFL Score</th>\n",
       "      <th>University Rating</th>\n",
       "      <th>SOP</th>\n",
       "      <th>LOR</th>\n",
       "      <th>CGPA</th>\n",
       "      <th>Research</th>\n",
       "      <th>Chance of Admit</th>\n",
       "      <th>Chance</th>\n",
       "    </tr>\n",
       "  </thead>\n",
       "  <tbody>\n",
       "    <tr>\n",
       "      <th>0</th>\n",
       "      <td>1</td>\n",
       "      <td>337</td>\n",
       "      <td>118</td>\n",
       "      <td>4</td>\n",
       "      <td>4.5</td>\n",
       "      <td>4.5</td>\n",
       "      <td>9.65</td>\n",
       "      <td>1</td>\n",
       "      <td>0.92</td>\n",
       "      <td>0.920635</td>\n",
       "    </tr>\n",
       "    <tr>\n",
       "      <th>1</th>\n",
       "      <td>2</td>\n",
       "      <td>324</td>\n",
       "      <td>107</td>\n",
       "      <td>4</td>\n",
       "      <td>4.0</td>\n",
       "      <td>4.5</td>\n",
       "      <td>8.87</td>\n",
       "      <td>1</td>\n",
       "      <td>0.76</td>\n",
       "      <td>0.666667</td>\n",
       "    </tr>\n",
       "    <tr>\n",
       "      <th>2</th>\n",
       "      <td>3</td>\n",
       "      <td>316</td>\n",
       "      <td>104</td>\n",
       "      <td>3</td>\n",
       "      <td>3.0</td>\n",
       "      <td>3.5</td>\n",
       "      <td>8.00</td>\n",
       "      <td>1</td>\n",
       "      <td>0.72</td>\n",
       "      <td>0.603175</td>\n",
       "    </tr>\n",
       "  </tbody>\n",
       "</table>\n",
       "</div>"
      ],
      "text/plain": [
       "   Serial No.  GRE Score  TOEFL Score  University Rating  SOP  LOR   CGPA  \\\n",
       "0           1        337          118                  4  4.5   4.5  9.65   \n",
       "1           2        324          107                  4  4.0   4.5  8.87   \n",
       "2           3        316          104                  3  3.0   3.5  8.00   \n",
       "\n",
       "   Research  Chance of Admit     Chance  \n",
       "0         1              0.92  0.920635  \n",
       "1         1              0.76  0.666667  \n",
       "2         1              0.72  0.603175  "
      ]
     },
     "execution_count": 10,
     "metadata": {},
     "output_type": "execute_result"
    }
   ],
   "source": [
    "admissions.head(3)"
   ]
  },
  {
   "cell_type": "markdown",
   "id": "63ce7a85",
   "metadata": {},
   "source": [
    " **Column 'Chance' was created as the nomalized chance of admit.**"
   ]
  },
  {
   "cell_type": "code",
   "execution_count": 11,
   "id": "2b5db355",
   "metadata": {},
   "outputs": [
    {
     "data": {
      "image/png": "[encoded data removed]",
      "text/plain": [
       "<Figure size 432x288 with 1 Axes>"
      ]
     },
     "metadata": {
      "needs_background": "light"
     },
     "output_type": "display_data"
    }
   ],
   "source": [
    "plt.hist(x=admissions['Chance'], bins=100)\n",
    "plt.xlabel('Chance_normalized')\n",
    "plt.ylabel('Count')\n",
    "plt.title('Distribution of Chance of Admit (normalized)')\n",
    "plt.show()"
   ]
  },
  {
   "cell_type": "markdown",
   "id": "e766a75b",
   "metadata": {},
   "source": [
    "In the same way, each parameters could be normalized."
   ]
  },
  {
   "cell_type": "code",
   "execution_count": 12,
   "id": "dd332472",
   "metadata": {},
   "outputs": [
    {
     "data": {
      "text/plain": [
       "Index(['Serial No.', 'GRE Score', 'TOEFL Score', 'University Rating', 'SOP',\n",
       "       'LOR ', 'CGPA', 'Research', 'Chance of Admit ', 'Chance'],\n",
       "      dtype='object')"
      ]
     },
     "execution_count": 12,
     "metadata": {},
     "output_type": "execute_result"
    }
   ],
   "source": [
    "admissions.columns"
   ]
  },
  {
   "cell_type": "code",
   "execution_count": 13,
   "id": "4f974a57",
   "metadata": {},
   "outputs": [],
   "source": [
    "admissions['GRE Score'] = (admissions[\"GRE Score\"] - admissions[\"GRE Score\"].min()) / (admissions[\"GRE Score\"].max() - admissions[\"GRE Score\"].min())\n",
    "admissions['TOEFL Score'] = (admissions[\"TOEFL Score\"] - admissions[\"TOEFL Score\"].min()) / (admissions[\"TOEFL Score\"].max() - admissions[\"TOEFL Score\"].min())\n",
    "admissions['University Rating'] = (admissions[\"University Rating\"] - admissions[\"University Rating\"].min()) / (admissions[\"University Rating\"].max() - admissions[\"University Rating\"].min())\n",
    "admissions['SOP'] = (admissions[\"SOP\"] - admissions[\"SOP\"].min()) / (admissions[\"SOP\"].max() - admissions[\"SOP\"].min())\n",
    "admissions['LOR '] = (admissions[\"LOR \"] - admissions[\"LOR \"].min()) / (admissions[\"LOR \"].max() - admissions[\"LOR \"].min())\n",
    "admissions['CGPA'] = (admissions[\"CGPA\"] - admissions[\"CGPA\"].min()) / (admissions[\"CGPA\"].max() - admissions[\"CGPA\"].min())\n",
    "admissions['Research'] = (admissions[\"Research\"] - admissions[\"Research\"].min()) / (admissions[\"Research\"].max() - admissions[\"Research\"].min())"
   ]
  },
  {
   "cell_type": "code",
   "execution_count": 14,
   "id": "726f540f",
   "metadata": {},
   "outputs": [
    {
     "data": {
      "text/html": [
       "<div>\n",
       "<style scoped>\n",
       "    .dataframe tbody tr th:only-of-type {\n",
       "        vertical-align: middle;\n",
       "    }\n",
       "\n",
       "    .dataframe tbody tr th {\n",
       "        vertical-align: top;\n",
       "    }\n",
       "\n",
       "    .dataframe thead th {\n",
       "        text-align: right;\n",
       "    }\n",
       "</style>\n",
       "<table border=\"1\" class=\"dataframe\">\n",
       "  <thead>\n",
       "    <tr style=\"text-align: right;\">\n",
       "      <th></th>\n",
       "      <th>Serial No.</th>\n",
       "      <th>GRE Score</th>\n",
       "      <th>TOEFL Score</th>\n",
       "      <th>University Rating</th>\n",
       "      <th>SOP</th>\n",
       "      <th>LOR</th>\n",
       "      <th>CGPA</th>\n",
       "      <th>Research</th>\n",
       "      <th>Chance of Admit</th>\n",
       "      <th>Chance</th>\n",
       "    </tr>\n",
       "  </thead>\n",
       "  <tbody>\n",
       "    <tr>\n",
       "      <th>0</th>\n",
       "      <td>1</td>\n",
       "      <td>0.94</td>\n",
       "      <td>0.928571</td>\n",
       "      <td>0.75</td>\n",
       "      <td>0.875</td>\n",
       "      <td>0.875</td>\n",
       "      <td>0.913462</td>\n",
       "      <td>1.0</td>\n",
       "      <td>0.92</td>\n",
       "      <td>0.920635</td>\n",
       "    </tr>\n",
       "    <tr>\n",
       "      <th>1</th>\n",
       "      <td>2</td>\n",
       "      <td>0.68</td>\n",
       "      <td>0.535714</td>\n",
       "      <td>0.75</td>\n",
       "      <td>0.750</td>\n",
       "      <td>0.875</td>\n",
       "      <td>0.663462</td>\n",
       "      <td>1.0</td>\n",
       "      <td>0.76</td>\n",
       "      <td>0.666667</td>\n",
       "    </tr>\n",
       "    <tr>\n",
       "      <th>2</th>\n",
       "      <td>3</td>\n",
       "      <td>0.52</td>\n",
       "      <td>0.428571</td>\n",
       "      <td>0.50</td>\n",
       "      <td>0.500</td>\n",
       "      <td>0.625</td>\n",
       "      <td>0.384615</td>\n",
       "      <td>1.0</td>\n",
       "      <td>0.72</td>\n",
       "      <td>0.603175</td>\n",
       "    </tr>\n",
       "  </tbody>\n",
       "</table>\n",
       "</div>"
      ],
      "text/plain": [
       "   Serial No.  GRE Score  TOEFL Score  University Rating    SOP   LOR   \\\n",
       "0           1       0.94     0.928571               0.75  0.875  0.875   \n",
       "1           2       0.68     0.535714               0.75  0.750  0.875   \n",
       "2           3       0.52     0.428571               0.50  0.500  0.625   \n",
       "\n",
       "       CGPA  Research  Chance of Admit     Chance  \n",
       "0  0.913462       1.0              0.92  0.920635  \n",
       "1  0.663462       1.0              0.76  0.666667  \n",
       "2  0.384615       1.0              0.72  0.603175  "
      ]
     },
     "execution_count": 14,
     "metadata": {},
     "output_type": "execute_result"
    }
   ],
   "source": [
    "admissions.head(3)"
   ]
  },
  {
   "cell_type": "markdown",
   "id": "71b101ef",
   "metadata": {},
   "source": [
    "#### b:"
   ]
  },
  {
   "cell_type": "code",
   "execution_count": 15,
   "id": "2342e5bb",
   "metadata": {},
   "outputs": [],
   "source": [
    "import random\n",
    "\n",
    "class simple_perceptron():\n",
    "    def __init__(self,input_dim,output_dim,learning_rate=0.01,activation=lambda x:x,activation_grad=lambda x:1):\n",
    "        \n",
    "        self.input_dim=input_dim\n",
    "        self.output_dim=output_dim\n",
    "        self.activation=activation\n",
    "        self.activation_grad=activation_grad\n",
    "        self.lr=learning_rate\n",
    "        ### initialize parameters ###\n",
    "        # Weight and bias are between 0 and 0.05\n",
    "        self.weights= np.random.rand(output_dim,input_dim) / 20 \n",
    "        self.biases= np.random.rand(1,output_dim) / 20\n",
    "\n",
    "    def predict(self,X):\n",
    "        if len(X.shape)==1:\n",
    "            X=X.reshape((-1,1))\n",
    "        dim=X.shape[1]\n",
    "        # Check that the dimension of accepted input data is the same as expected\n",
    "        if not dim==self.input_dim:\n",
    "            raise Exception(\"Expected input size %d, accepted %d!\"%(self.input_dim,dim))\n",
    "        ### Calculate logit and activation ###\n",
    "        self.z = X @ self.weights.T + self.biases            #shape(X.shape[0],1)\n",
    "        self.a = self.activation(self.z)                                #shape(X.shape[0],1)\n",
    "        return self.a\n",
    "    \n",
    "    def fit(self,X,y):\n",
    "        # Transform the single-sample data into 2-dimensional, for the convenience of matrix multiplication\n",
    "        if len(X.shape)==1:\n",
    "            X=X.reshape((-1,1))\n",
    "        if len(y.shape)==1:\n",
    "            y=y.reshape((-1,1))\n",
    "        self.predict(X)\n",
    "        errors=(self.a-y)*self.activation_grad(self.z)\n",
    "        weights_grad=errors.T.dot(X)\n",
    "        bias_grad=np.sum(errors,axis=0)\n",
    "        ### Update weights and biases from the gradient ###\n",
    "        self.weights -= self.lr * weights_grad\n",
    "        self.biases -= self.lr * bias_grad\n",
    "\n",
    "        \n",
    "    def train_on_epoch(self,X,y,batch_size=32):\n",
    "        # Every time select batch_size samples from the training set, until all data in the training set has been trained once\n",
    "        order=list(range(X.shape[0]))\n",
    "        random.shuffle(order)\n",
    "        n=0\n",
    "        while n<math.ceil(len(order)/batch_size)-1: # Parts that can fill one batch\n",
    "            self.fit(X[order[n*batch_size:(n+1)*batch_size]],y[order[n*batch_size:(n+1)*batch_size]])\n",
    "            n+=1\n",
    "        # Parts that cannot fill one batch\n",
    "        self.fit(X[order[n*batch_size:]],y[order[n*batch_size:]])\n",
    "        \n",
    "    def evaluate(self,X,y):\n",
    "         # Transform the single-sample data into 2-dimensional\n",
    "        if len(X.shape)==1:\n",
    "            X=X.reshape((1,-1))\n",
    "        if len(y.shape)==1:\n",
    "            y=y.reshape((1,-1))\n",
    "        ### means square error ###\n",
    "        return np.mean(np.square(self.predict(X) - y))\n",
    "    \n",
    "    def get_weights(self):\n",
    "        return (self.weights,self.biases)\n",
    "    \n",
    "    def set_weights(self,weights):\n",
    "        self.weights=weights[0]\n",
    "        self.biases=weights[1]"
   ]
  },
  {
   "cell_type": "markdown",
   "id": "8c70ca2a",
   "metadata": {},
   "source": [
    "#### c:"
   ]
  },
  {
   "cell_type": "code",
   "execution_count": 16,
   "id": "76f4f405",
   "metadata": {},
   "outputs": [],
   "source": [
    "from sklearn.model_selection import train_test_split,KFold\n",
    "\n",
    "\n",
    "def Kfold(k,Xs,ys,epochs,learning_rate=0.0001,draw_curve=True):\n",
    "    # The total number of examples for training the network\n",
    "    total_num=len(Xs)\n",
    "    \n",
    "    # Built in K-fold function in Sci-Kit Learn\n",
    "    kf=KFold(n_splits=k,shuffle=True)\n",
    "    # record error for each model\n",
    "    train_error_all=[]\n",
    "    test_error_all=[]\n",
    "    \n",
    "    for train_selector,test_selector in kf.split(range(total_num)):\n",
    "        ### Decide training examples and testing examples for this fold ###\n",
    "        train_Xs = Xs[train_selector]\n",
    "        test_Xs = Xs[test_selector]\n",
    "        train_ys = ys[train_selector]\n",
    "        test_ys = ys[test_selector]\n",
    "        \n",
    "\n",
    "        val_array=[]\n",
    "        # Split training examples further into training and validation\n",
    "        train_in,val_in,train_real,val_real=train_test_split(train_Xs,train_ys)\n",
    "        \n",
    "        ### Establish the model for simple perceptron here ###\n",
    "        model=simple_perceptron(Xs.shape[1], ys.shape[1], learning_rate)\n",
    "        \n",
    "        # Save the lowest weights, so that we can recover the best model\n",
    "        weights = model.get_weights()\n",
    "        lowest_val_err = np.inf\n",
    "        for _ in range(epochs):\n",
    "            # Train model on a number of epochs, and test performance in the validation set\n",
    "            model.train_on_epoch(train_in,train_real)\n",
    "            val_err = model.evaluate(val_in,val_real)\n",
    "            val_array.append(val_err)\n",
    "            if val_err < lowest_val_err:\n",
    "                lowest_val_err = val_err\n",
    "                weights = model.get_weights()\n",
    "\n",
    "        # The final number of epochs is when the minimum error in validation set occurs    \n",
    "        final_epochs= epochs + 1\n",
    "        print(\"Number of epochs with lowest validation:\",final_epochs)\n",
    "        # Recover the model weight\n",
    "        model.set_weights(weights)\n",
    "\n",
    "        # Report result for this fold\n",
    "        train_error=model.evaluate(train_Xs, train_ys)\n",
    "        train_error_all.append(train_error)\n",
    "        test_error=model.evaluate(test_Xs, test_ys)\n",
    "        test_error_all.append(test_error)\n",
    "        print(\"Train error:\",train_error)\n",
    "        print(\"Test error:\",test_error)\n",
    "        \n",
    "        if draw_curve:\n",
    "            plt.figure()\n",
    "            plt.plot(np.arange(len(val_array))+1,val_array,label='Validation loss')\n",
    "            plt.xlabel('Epochs')\n",
    "            plt.ylabel('Loss')\n",
    "            plt.legend()\n",
    "            \n",
    "    print(\"Final results:\")\n",
    "    print(\"Training error:%f+-%f\"%(np.average(train_error_all),np.std(train_error_all)))\n",
    "    print(\"Testing error:%f+-%f\"%(np.average(test_error_all),np.std(test_error_all)))\n",
    "    \n",
    "    # return the last model\n",
    "    return model\n"
   ]
  },
  {
   "cell_type": "code",
   "execution_count": 17,
   "id": "89e08fd2",
   "metadata": {},
   "outputs": [
    {
     "data": {
      "text/plain": [
       "Index(['Serial No.', 'GRE Score', 'TOEFL Score', 'University Rating', 'SOP',\n",
       "       'LOR ', 'CGPA', 'Research', 'Chance of Admit ', 'Chance'],\n",
       "      dtype='object')"
      ]
     },
     "execution_count": 17,
     "metadata": {},
     "output_type": "execute_result"
    }
   ],
   "source": [
    "admissions.columns"
   ]
  },
  {
   "cell_type": "code",
   "execution_count": 18,
   "id": "02fccbcf",
   "metadata": {},
   "outputs": [
    {
     "data": {
      "text/plain": [
       "(500, 7)"
      ]
     },
     "execution_count": 18,
     "metadata": {},
     "output_type": "execute_result"
    }
   ],
   "source": [
    "X = admissions.loc[:,['GRE Score', 'TOEFL Score', 'University Rating', 'SOP', 'LOR ', 'CGPA', 'Research']].to_numpy()\n",
    "X.shape"
   ]
  },
  {
   "cell_type": "code",
   "execution_count": 19,
   "id": "49dde8c3",
   "metadata": {},
   "outputs": [
    {
     "data": {
      "text/plain": [
       "(500, 6)"
      ]
     },
     "execution_count": 19,
     "metadata": {},
     "output_type": "execute_result"
    }
   ],
   "source": [
    "X_no_GRE = admissions.loc[:,['TOEFL Score', 'University Rating', 'SOP', 'LOR ', 'CGPA', 'Research']].to_numpy()\n",
    "X_no_GRE.shape"
   ]
  },
  {
   "cell_type": "code",
   "execution_count": 20,
   "id": "1077a780",
   "metadata": {},
   "outputs": [
    {
     "data": {
      "text/plain": [
       "(500, 1)"
      ]
     },
     "execution_count": 20,
     "metadata": {},
     "output_type": "execute_result"
    }
   ],
   "source": [
    "y = admissions[['Chance']].to_numpy()\n",
    "y.shape"
   ]
  },
  {
   "cell_type": "code",
   "execution_count": 21,
   "id": "f5531956",
   "metadata": {},
   "outputs": [
    {
     "name": "stdout",
     "output_type": "stream",
     "text": [
      "Number of epochs with lowest validation: 101\n",
      "Train error: 0.011964759612224487\n",
      "Test error: 0.012290975549225364\n",
      "Number of epochs with lowest validation: 101\n",
      "Train error: 0.012729968049578218\n",
      "Test error: 0.012748203360374329\n",
      "Number of epochs with lowest validation: 101\n",
      "Train error: 0.013359712570870819\n",
      "Test error: 0.012041614906070641\n",
      "Number of epochs with lowest validation: 101\n",
      "Train error: 0.012694540968836286\n",
      "Test error: 0.012592473576736842\n",
      "Number of epochs with lowest validation: 101\n",
      "Train error: 0.012888242565825792\n",
      "Test error: 0.01504562105106593\n",
      "Final results:\n",
      "Training error:0.012727+-0.000449\n",
      "Testing error:0.012944+-0.001079\n"
     ]
    },
    {
     "data": {
      "text/plain": [
       "<__main__.simple_perceptron at 0x7fe008969fd0>"
      ]
     },
     "execution_count": 21,
     "metadata": {},
     "output_type": "execute_result"
    },
    {
     "data": {
      "image/png": "[encoded data removed]",
      "text/plain": [
       "<Figure size 432x288 with 1 Axes>"
      ]
     },
     "metadata": {
      "needs_background": "light"
     },
     "output_type": "display_data"
    },
    {
     "data": {
      "image/png": "[encoded data removed]",
      "text/plain": [
       "<Figure size 432x288 with 1 Axes>"
      ]
     },
     "metadata": {
      "needs_background": "light"
     },
     "output_type": "display_data"
    },
    {
     "data": {
      "image/png": "[encoded data removed]",
      "text/plain": [
       "<Figure size 432x288 with 1 Axes>"
      ]
     },
     "metadata": {
      "needs_background": "light"
     },
     "output_type": "display_data"
    },
    {
     "data": {
      "image/png": "[encoded data removed]",
      "text/plain": [
       "<Figure size 432x288 with 1 Axes>"
      ]
     },
     "metadata": {
      "needs_background": "light"
     },
     "output_type": "display_data"
    },
    {
     "data": {
      "image/png": "[encoded data removed]",
      "text/plain": [
       "<Figure size 432x288 with 1 Axes>"
      ]
     },
     "metadata": {
      "needs_background": "light"
     },
     "output_type": "display_data"
    }
   ],
   "source": [
    "\n",
    "Kfold(k=5, Xs=X, ys=y, epochs=100, learning_rate=0.0001, draw_curve=True)"
   ]
  },
  {
   "cell_type": "code",
   "execution_count": 22,
   "id": "4f50b6a7",
   "metadata": {},
   "outputs": [
    {
     "name": "stdout",
     "output_type": "stream",
     "text": [
      "Number of epochs with lowest validation: 101\n",
      "Train error: 0.01286871985367504\n",
      "Test error: 0.01556288653660874\n",
      "Number of epochs with lowest validation: 101\n",
      "Train error: 0.014257661147348707\n",
      "Test error: 0.014051898618966677\n",
      "Number of epochs with lowest validation: 101\n",
      "Train error: 0.014561702175504919\n",
      "Test error: 0.011150138023280947\n",
      "Number of epochs with lowest validation: 101\n",
      "Train error: 0.014305633510406462\n",
      "Test error: 0.01144074509548585\n",
      "Number of epochs with lowest validation: 101\n",
      "Train error: 0.01286280638754163\n",
      "Test error: 0.01682012305716432\n",
      "Final results:\n",
      "Training error:0.013771+-0.000747\n",
      "Testing error:0.013805+-0.002231\n"
     ]
    },
    {
     "data": {
      "text/plain": [
       "<__main__.simple_perceptron at 0x7fe00884ee20>"
      ]
     },
     "execution_count": 22,
     "metadata": {},
     "output_type": "execute_result"
    },
    {
     "data": {
      "image/png": "[encoded data removed]",
      "text/plain": [
       "<Figure size 432x288 with 1 Axes>"
      ]
     },
     "metadata": {
      "needs_background": "light"
     },
     "output_type": "display_data"
    },
    {
     "data": {
      "image/png": "[encoded data removed]",
      "text/plain": [
       "<Figure size 432x288 with 1 Axes>"
      ]
     },
     "metadata": {
      "needs_background": "light"
     },
     "output_type": "display_data"
    },
    {
     "data": {
      "image/png": "[encoded data removed]",
      "text/plain": [
       "<Figure size 432x288 with 1 Axes>"
      ]
     },
     "metadata": {
      "needs_background": "light"
     },
     "output_type": "display_data"
    },
    {
     "data": {
      "image/png": "[encoded data removed]",
      "text/plain": [
       "<Figure size 432x288 with 1 Axes>"
      ]
     },
     "metadata": {
      "needs_background": "light"
     },
     "output_type": "display_data"
    },
    {
     "data": {
      "image/png": "[encoded data removed]",
      "text/plain": [
       "<Figure size 432x288 with 1 Axes>"
      ]
     },
     "metadata": {
      "needs_background": "light"
     },
     "output_type": "display_data"
    }
   ],
   "source": [
    "Kfold(k=5, Xs=X_no_GRE, ys=y, epochs=100, learning_rate=0.0001, draw_curve=True)"
   ]
  },
  {
   "cell_type": "markdown",
   "id": "42e87845",
   "metadata": {},
   "source": [
    "**It shows that the 7 features are indicators of getting into graduate school. With all 7 features, the final test error would be 0.0126. With only 6 features (excluding the GRE score), the final test error would be 0.0139. Both errors are very small (around 1%), and it appears that the GRE score is not a very important feature.**"
   ]
  },
  {
   "cell_type": "markdown",
   "id": "de9d98e4",
   "metadata": {},
   "source": [
    "---"
   ]
  },
  {
   "cell_type": "markdown",
   "id": "dd1cab94",
   "metadata": {},
   "source": [
    "### Q2"
   ]
  },
  {
   "cell_type": "code",
   "execution_count": 23,
   "id": "ecb484c2",
   "metadata": {},
   "outputs": [],
   "source": [
    "titanic = pd.read_csv('titantic.csv')"
   ]
  },
  {
   "cell_type": "code",
   "execution_count": 24,
   "id": "bf249413",
   "metadata": {},
   "outputs": [
    {
     "data": {
      "text/html": [
       "<div>\n",
       "<style scoped>\n",
       "    .dataframe tbody tr th:only-of-type {\n",
       "        vertical-align: middle;\n",
       "    }\n",
       "\n",
       "    .dataframe tbody tr th {\n",
       "        vertical-align: top;\n",
       "    }\n",
       "\n",
       "    .dataframe thead th {\n",
       "        text-align: right;\n",
       "    }\n",
       "</style>\n",
       "<table border=\"1\" class=\"dataframe\">\n",
       "  <thead>\n",
       "    <tr style=\"text-align: right;\">\n",
       "      <th></th>\n",
       "      <th>PassengerId</th>\n",
       "      <th>Survived</th>\n",
       "      <th>Pclass</th>\n",
       "      <th>Name</th>\n",
       "      <th>Sex</th>\n",
       "      <th>Age</th>\n",
       "      <th>SibSp</th>\n",
       "      <th>Parch</th>\n",
       "      <th>Ticket</th>\n",
       "      <th>Fare</th>\n",
       "      <th>Cabin</th>\n",
       "      <th>Embarked</th>\n",
       "    </tr>\n",
       "  </thead>\n",
       "  <tbody>\n",
       "    <tr>\n",
       "      <th>0</th>\n",
       "      <td>1</td>\n",
       "      <td>0</td>\n",
       "      <td>3</td>\n",
       "      <td>Braund, Mr. Owen Harris</td>\n",
       "      <td>male</td>\n",
       "      <td>22.0</td>\n",
       "      <td>1</td>\n",
       "      <td>0</td>\n",
       "      <td>A/5 21171</td>\n",
       "      <td>7.2500</td>\n",
       "      <td>NaN</td>\n",
       "      <td>S</td>\n",
       "    </tr>\n",
       "    <tr>\n",
       "      <th>1</th>\n",
       "      <td>2</td>\n",
       "      <td>1</td>\n",
       "      <td>1</td>\n",
       "      <td>Cumings, Mrs. John Bradley (Florence Briggs Th...</td>\n",
       "      <td>female</td>\n",
       "      <td>38.0</td>\n",
       "      <td>1</td>\n",
       "      <td>0</td>\n",
       "      <td>PC 17599</td>\n",
       "      <td>71.2833</td>\n",
       "      <td>C85</td>\n",
       "      <td>C</td>\n",
       "    </tr>\n",
       "    <tr>\n",
       "      <th>2</th>\n",
       "      <td>3</td>\n",
       "      <td>1</td>\n",
       "      <td>3</td>\n",
       "      <td>Heikkinen, Miss. Laina</td>\n",
       "      <td>female</td>\n",
       "      <td>26.0</td>\n",
       "      <td>0</td>\n",
       "      <td>0</td>\n",
       "      <td>STON/O2. 3101282</td>\n",
       "      <td>7.9250</td>\n",
       "      <td>NaN</td>\n",
       "      <td>S</td>\n",
       "    </tr>\n",
       "  </tbody>\n",
       "</table>\n",
       "</div>"
      ],
      "text/plain": [
       "   PassengerId  Survived  Pclass  \\\n",
       "0            1         0       3   \n",
       "1            2         1       1   \n",
       "2            3         1       3   \n",
       "\n",
       "                                                Name     Sex   Age  SibSp  \\\n",
       "0                            Braund, Mr. Owen Harris    male  22.0      1   \n",
       "1  Cumings, Mrs. John Bradley (Florence Briggs Th...  female  38.0      1   \n",
       "2                             Heikkinen, Miss. Laina  female  26.0      0   \n",
       "\n",
       "   Parch            Ticket     Fare Cabin Embarked  \n",
       "0      0         A/5 21171   7.2500   NaN        S  \n",
       "1      0          PC 17599  71.2833   C85        C  \n",
       "2      0  STON/O2. 3101282   7.9250   NaN        S  "
      ]
     },
     "execution_count": 24,
     "metadata": {},
     "output_type": "execute_result"
    }
   ],
   "source": [
    "titanic.head(3)"
   ]
  },
  {
   "cell_type": "code",
   "execution_count": 25,
   "id": "f21fa408",
   "metadata": {},
   "outputs": [
    {
     "data": {
      "text/plain": [
       "Index(['PassengerId', 'Survived', 'Pclass', 'Name', 'Sex', 'Age', 'SibSp',\n",
       "       'Parch', 'Ticket', 'Fare', 'Cabin', 'Embarked'],\n",
       "      dtype='object')"
      ]
     },
     "execution_count": 25,
     "metadata": {},
     "output_type": "execute_result"
    }
   ],
   "source": [
    "titanic.columns"
   ]
  },
  {
   "cell_type": "code",
   "execution_count": 26,
   "id": "1a6e2e0d",
   "metadata": {},
   "outputs": [
    {
     "data": {
      "text/plain": [
       "(891, 12)"
      ]
     },
     "execution_count": 26,
     "metadata": {},
     "output_type": "execute_result"
    }
   ],
   "source": [
    "titanic.shape"
   ]
  },
  {
   "cell_type": "code",
   "execution_count": 27,
   "id": "3cd46fe3",
   "metadata": {},
   "outputs": [
    {
     "data": {
      "text/plain": [
       "(712, 12)"
      ]
     },
     "execution_count": 27,
     "metadata": {},
     "output_type": "execute_result"
    }
   ],
   "source": [
    "titanic_filtered = titanic.dropna(subset=['Age', 'Embarked'])\n",
    "titanic_filtered.shape"
   ]
  },
  {
   "cell_type": "markdown",
   "id": "f999c483",
   "metadata": {},
   "source": [
    "**I think the column 'Name' and 'Ticket' could be dropped since they are some identificational information and hard to be in a factor of survival.**"
   ]
  },
  {
   "cell_type": "code",
   "execution_count": 28,
   "id": "22fa712a",
   "metadata": {},
   "outputs": [
    {
     "data": {
      "text/html": [
       "<div>\n",
       "<style scoped>\n",
       "    .dataframe tbody tr th:only-of-type {\n",
       "        vertical-align: middle;\n",
       "    }\n",
       "\n",
       "    .dataframe tbody tr th {\n",
       "        vertical-align: top;\n",
       "    }\n",
       "\n",
       "    .dataframe thead th {\n",
       "        text-align: right;\n",
       "    }\n",
       "</style>\n",
       "<table border=\"1\" class=\"dataframe\">\n",
       "  <thead>\n",
       "    <tr style=\"text-align: right;\">\n",
       "      <th></th>\n",
       "      <th>Survived</th>\n",
       "      <th>Pclass</th>\n",
       "      <th>Sex</th>\n",
       "      <th>Age</th>\n",
       "      <th>SibSp</th>\n",
       "      <th>Parch</th>\n",
       "      <th>Fare</th>\n",
       "      <th>Embarked</th>\n",
       "    </tr>\n",
       "  </thead>\n",
       "  <tbody>\n",
       "    <tr>\n",
       "      <th>0</th>\n",
       "      <td>0</td>\n",
       "      <td>3</td>\n",
       "      <td>male</td>\n",
       "      <td>22.0</td>\n",
       "      <td>1</td>\n",
       "      <td>0</td>\n",
       "      <td>7.2500</td>\n",
       "      <td>S</td>\n",
       "    </tr>\n",
       "    <tr>\n",
       "      <th>1</th>\n",
       "      <td>1</td>\n",
       "      <td>1</td>\n",
       "      <td>female</td>\n",
       "      <td>38.0</td>\n",
       "      <td>1</td>\n",
       "      <td>0</td>\n",
       "      <td>71.2833</td>\n",
       "      <td>C</td>\n",
       "    </tr>\n",
       "    <tr>\n",
       "      <th>2</th>\n",
       "      <td>1</td>\n",
       "      <td>3</td>\n",
       "      <td>female</td>\n",
       "      <td>26.0</td>\n",
       "      <td>0</td>\n",
       "      <td>0</td>\n",
       "      <td>7.9250</td>\n",
       "      <td>S</td>\n",
       "    </tr>\n",
       "    <tr>\n",
       "      <th>3</th>\n",
       "      <td>1</td>\n",
       "      <td>1</td>\n",
       "      <td>female</td>\n",
       "      <td>35.0</td>\n",
       "      <td>1</td>\n",
       "      <td>0</td>\n",
       "      <td>53.1000</td>\n",
       "      <td>S</td>\n",
       "    </tr>\n",
       "    <tr>\n",
       "      <th>4</th>\n",
       "      <td>0</td>\n",
       "      <td>3</td>\n",
       "      <td>male</td>\n",
       "      <td>35.0</td>\n",
       "      <td>0</td>\n",
       "      <td>0</td>\n",
       "      <td>8.0500</td>\n",
       "      <td>S</td>\n",
       "    </tr>\n",
       "    <tr>\n",
       "      <th>...</th>\n",
       "      <td>...</td>\n",
       "      <td>...</td>\n",
       "      <td>...</td>\n",
       "      <td>...</td>\n",
       "      <td>...</td>\n",
       "      <td>...</td>\n",
       "      <td>...</td>\n",
       "      <td>...</td>\n",
       "    </tr>\n",
       "    <tr>\n",
       "      <th>885</th>\n",
       "      <td>0</td>\n",
       "      <td>3</td>\n",
       "      <td>female</td>\n",
       "      <td>39.0</td>\n",
       "      <td>0</td>\n",
       "      <td>5</td>\n",
       "      <td>29.1250</td>\n",
       "      <td>Q</td>\n",
       "    </tr>\n",
       "    <tr>\n",
       "      <th>886</th>\n",
       "      <td>0</td>\n",
       "      <td>2</td>\n",
       "      <td>male</td>\n",
       "      <td>27.0</td>\n",
       "      <td>0</td>\n",
       "      <td>0</td>\n",
       "      <td>13.0000</td>\n",
       "      <td>S</td>\n",
       "    </tr>\n",
       "    <tr>\n",
       "      <th>887</th>\n",
       "      <td>1</td>\n",
       "      <td>1</td>\n",
       "      <td>female</td>\n",
       "      <td>19.0</td>\n",
       "      <td>0</td>\n",
       "      <td>0</td>\n",
       "      <td>30.0000</td>\n",
       "      <td>S</td>\n",
       "    </tr>\n",
       "    <tr>\n",
       "      <th>889</th>\n",
       "      <td>1</td>\n",
       "      <td>1</td>\n",
       "      <td>male</td>\n",
       "      <td>26.0</td>\n",
       "      <td>0</td>\n",
       "      <td>0</td>\n",
       "      <td>30.0000</td>\n",
       "      <td>C</td>\n",
       "    </tr>\n",
       "    <tr>\n",
       "      <th>890</th>\n",
       "      <td>0</td>\n",
       "      <td>3</td>\n",
       "      <td>male</td>\n",
       "      <td>32.0</td>\n",
       "      <td>0</td>\n",
       "      <td>0</td>\n",
       "      <td>7.7500</td>\n",
       "      <td>Q</td>\n",
       "    </tr>\n",
       "  </tbody>\n",
       "</table>\n",
       "<p>712 rows × 8 columns</p>\n",
       "</div>"
      ],
      "text/plain": [
       "     Survived  Pclass     Sex   Age  SibSp  Parch     Fare Embarked\n",
       "0           0       3    male  22.0      1      0   7.2500        S\n",
       "1           1       1  female  38.0      1      0  71.2833        C\n",
       "2           1       3  female  26.0      0      0   7.9250        S\n",
       "3           1       1  female  35.0      1      0  53.1000        S\n",
       "4           0       3    male  35.0      0      0   8.0500        S\n",
       "..        ...     ...     ...   ...    ...    ...      ...      ...\n",
       "885         0       3  female  39.0      0      5  29.1250        Q\n",
       "886         0       2    male  27.0      0      0  13.0000        S\n",
       "887         1       1  female  19.0      0      0  30.0000        S\n",
       "889         1       1    male  26.0      0      0  30.0000        C\n",
       "890         0       3    male  32.0      0      0   7.7500        Q\n",
       "\n",
       "[712 rows x 8 columns]"
      ]
     },
     "execution_count": 28,
     "metadata": {},
     "output_type": "execute_result"
    }
   ],
   "source": [
    "titanic_filtered = titanic_filtered.drop(['PassengerId', 'Name', 'Ticket', 'Cabin'], axis=1)\n",
    "titanic_filtered.reindex()"
   ]
  },
  {
   "cell_type": "markdown",
   "id": "828fe2d6",
   "metadata": {},
   "source": [
    "**Normalizing the 'Age', 'sibsp', 'parch' and 'Fare' column**"
   ]
  },
  {
   "cell_type": "code",
   "execution_count": 29,
   "id": "5b1950d6",
   "metadata": {},
   "outputs": [
    {
     "data": {
      "text/html": [
       "<div>\n",
       "<style scoped>\n",
       "    .dataframe tbody tr th:only-of-type {\n",
       "        vertical-align: middle;\n",
       "    }\n",
       "\n",
       "    .dataframe tbody tr th {\n",
       "        vertical-align: top;\n",
       "    }\n",
       "\n",
       "    .dataframe thead th {\n",
       "        text-align: right;\n",
       "    }\n",
       "</style>\n",
       "<table border=\"1\" class=\"dataframe\">\n",
       "  <thead>\n",
       "    <tr style=\"text-align: right;\">\n",
       "      <th></th>\n",
       "      <th>Survived</th>\n",
       "      <th>Pclass</th>\n",
       "      <th>Sex</th>\n",
       "      <th>Age</th>\n",
       "      <th>SibSp</th>\n",
       "      <th>Parch</th>\n",
       "      <th>Fare</th>\n",
       "      <th>Embarked</th>\n",
       "    </tr>\n",
       "  </thead>\n",
       "  <tbody>\n",
       "    <tr>\n",
       "      <th>0</th>\n",
       "      <td>0</td>\n",
       "      <td>3</td>\n",
       "      <td>male</td>\n",
       "      <td>0.271174</td>\n",
       "      <td>0.2</td>\n",
       "      <td>0.0</td>\n",
       "      <td>0.014151</td>\n",
       "      <td>S</td>\n",
       "    </tr>\n",
       "    <tr>\n",
       "      <th>1</th>\n",
       "      <td>1</td>\n",
       "      <td>1</td>\n",
       "      <td>female</td>\n",
       "      <td>0.472229</td>\n",
       "      <td>0.2</td>\n",
       "      <td>0.0</td>\n",
       "      <td>0.139136</td>\n",
       "      <td>C</td>\n",
       "    </tr>\n",
       "    <tr>\n",
       "      <th>2</th>\n",
       "      <td>1</td>\n",
       "      <td>3</td>\n",
       "      <td>female</td>\n",
       "      <td>0.321438</td>\n",
       "      <td>0.0</td>\n",
       "      <td>0.0</td>\n",
       "      <td>0.015469</td>\n",
       "      <td>S</td>\n",
       "    </tr>\n",
       "  </tbody>\n",
       "</table>\n",
       "</div>"
      ],
      "text/plain": [
       "   Survived  Pclass     Sex       Age  SibSp  Parch      Fare Embarked\n",
       "0         0       3    male  0.271174    0.2    0.0  0.014151        S\n",
       "1         1       1  female  0.472229    0.2    0.0  0.139136        C\n",
       "2         1       3  female  0.321438    0.0    0.0  0.015469        S"
      ]
     },
     "execution_count": 29,
     "metadata": {},
     "output_type": "execute_result"
    }
   ],
   "source": [
    "titanic_filtered['Age'] = (titanic_filtered[\"Age\"] - titanic_filtered[\"Age\"].min()) / (titanic_filtered[\"Age\"].max() - titanic_filtered[\"Age\"].min())\n",
    "titanic_filtered['Fare'] = (titanic_filtered[\"Fare\"] - titanic_filtered[\"Fare\"].min()) / (titanic_filtered[\"Fare\"].max() - titanic_filtered[\"Fare\"].min())\n",
    "titanic_filtered['SibSp'] = (titanic_filtered[\"SibSp\"] - titanic_filtered[\"SibSp\"].min()) / (titanic_filtered[\"SibSp\"].max() - titanic_filtered[\"SibSp\"].min())\n",
    "titanic_filtered['Parch'] = (titanic_filtered[\"Parch\"] - titanic_filtered[\"Parch\"].min()) / (titanic_filtered[\"Parch\"].max() - titanic_filtered[\"Parch\"].min())\n",
    "\n",
    "titanic_filtered.head(3)"
   ]
  },
  {
   "cell_type": "code",
   "execution_count": 30,
   "id": "4e66a54e",
   "metadata": {},
   "outputs": [
    {
     "data": {
      "text/html": [
       "<div>\n",
       "<style scoped>\n",
       "    .dataframe tbody tr th:only-of-type {\n",
       "        vertical-align: middle;\n",
       "    }\n",
       "\n",
       "    .dataframe tbody tr th {\n",
       "        vertical-align: top;\n",
       "    }\n",
       "\n",
       "    .dataframe thead th {\n",
       "        text-align: right;\n",
       "    }\n",
       "</style>\n",
       "<table border=\"1\" class=\"dataframe\">\n",
       "  <thead>\n",
       "    <tr style=\"text-align: right;\">\n",
       "      <th></th>\n",
       "      <th>Age</th>\n",
       "      <th>Fare</th>\n",
       "      <th>SibSp</th>\n",
       "      <th>Parch</th>\n",
       "    </tr>\n",
       "  </thead>\n",
       "  <tbody>\n",
       "    <tr>\n",
       "      <th>0</th>\n",
       "      <td>0.271174</td>\n",
       "      <td>0.014151</td>\n",
       "      <td>0.2</td>\n",
       "      <td>0.000000</td>\n",
       "    </tr>\n",
       "    <tr>\n",
       "      <th>1</th>\n",
       "      <td>0.472229</td>\n",
       "      <td>0.139136</td>\n",
       "      <td>0.2</td>\n",
       "      <td>0.000000</td>\n",
       "    </tr>\n",
       "    <tr>\n",
       "      <th>2</th>\n",
       "      <td>0.321438</td>\n",
       "      <td>0.015469</td>\n",
       "      <td>0.0</td>\n",
       "      <td>0.000000</td>\n",
       "    </tr>\n",
       "    <tr>\n",
       "      <th>3</th>\n",
       "      <td>0.434531</td>\n",
       "      <td>0.103644</td>\n",
       "      <td>0.2</td>\n",
       "      <td>0.000000</td>\n",
       "    </tr>\n",
       "    <tr>\n",
       "      <th>4</th>\n",
       "      <td>0.434531</td>\n",
       "      <td>0.015713</td>\n",
       "      <td>0.0</td>\n",
       "      <td>0.000000</td>\n",
       "    </tr>\n",
       "    <tr>\n",
       "      <th>...</th>\n",
       "      <td>...</td>\n",
       "      <td>...</td>\n",
       "      <td>...</td>\n",
       "      <td>...</td>\n",
       "    </tr>\n",
       "    <tr>\n",
       "      <th>885</th>\n",
       "      <td>0.484795</td>\n",
       "      <td>0.056848</td>\n",
       "      <td>0.0</td>\n",
       "      <td>0.833333</td>\n",
       "    </tr>\n",
       "    <tr>\n",
       "      <th>886</th>\n",
       "      <td>0.334004</td>\n",
       "      <td>0.025374</td>\n",
       "      <td>0.0</td>\n",
       "      <td>0.000000</td>\n",
       "    </tr>\n",
       "    <tr>\n",
       "      <th>887</th>\n",
       "      <td>0.233476</td>\n",
       "      <td>0.058556</td>\n",
       "      <td>0.0</td>\n",
       "      <td>0.000000</td>\n",
       "    </tr>\n",
       "    <tr>\n",
       "      <th>889</th>\n",
       "      <td>0.321438</td>\n",
       "      <td>0.058556</td>\n",
       "      <td>0.0</td>\n",
       "      <td>0.000000</td>\n",
       "    </tr>\n",
       "    <tr>\n",
       "      <th>890</th>\n",
       "      <td>0.396833</td>\n",
       "      <td>0.015127</td>\n",
       "      <td>0.0</td>\n",
       "      <td>0.000000</td>\n",
       "    </tr>\n",
       "  </tbody>\n",
       "</table>\n",
       "<p>712 rows × 4 columns</p>\n",
       "</div>"
      ],
      "text/plain": [
       "          Age      Fare  SibSp     Parch\n",
       "0    0.271174  0.014151    0.2  0.000000\n",
       "1    0.472229  0.139136    0.2  0.000000\n",
       "2    0.321438  0.015469    0.0  0.000000\n",
       "3    0.434531  0.103644    0.2  0.000000\n",
       "4    0.434531  0.015713    0.0  0.000000\n",
       "..        ...       ...    ...       ...\n",
       "885  0.484795  0.056848    0.0  0.833333\n",
       "886  0.334004  0.025374    0.0  0.000000\n",
       "887  0.233476  0.058556    0.0  0.000000\n",
       "889  0.321438  0.058556    0.0  0.000000\n",
       "890  0.396833  0.015127    0.0  0.000000\n",
       "\n",
       "[712 rows x 4 columns]"
      ]
     },
     "execution_count": 30,
     "metadata": {},
     "output_type": "execute_result"
    }
   ],
   "source": [
    "categorical_feats = titanic_filtered[['Pclass', 'Sex','Embarked']]\n",
    "continuous_feats = titanic_filtered[['Age', 'Fare', 'SibSp', 'Parch']]\n",
    "continuous_feats"
   ]
  },
  {
   "cell_type": "markdown",
   "id": "1344726a",
   "metadata": {},
   "source": [
    "**Encoding categorical features**"
   ]
  },
  {
   "cell_type": "code",
   "execution_count": 31,
   "id": "f5eca802",
   "metadata": {},
   "outputs": [
    {
     "data": {
      "text/plain": [
       "(712, 8)"
      ]
     },
     "execution_count": 31,
     "metadata": {},
     "output_type": "execute_result"
    }
   ],
   "source": [
    "from sklearn.preprocessing import OneHotEncoder\n",
    "\n",
    "encoder = OneHotEncoder()\n",
    "encoder.fit(categorical_feats)\n",
    "input_cate_feats = encoder.transform(categorical_feats).toarray()\n",
    "input_cate_feats.shape"
   ]
  },
  {
   "cell_type": "markdown",
   "id": "201441d0",
   "metadata": {},
   "source": [
    "['Pclass' : 3, 'Sex': 2,'Embarked': 3]"
   ]
  },
  {
   "cell_type": "code",
   "execution_count": 32,
   "id": "9b7268b8",
   "metadata": {},
   "outputs": [
    {
     "data": {
      "text/plain": [
       "array([[0., 0., 1., ..., 0., 0., 1.],\n",
       "       [1., 0., 0., ..., 1., 0., 0.],\n",
       "       [0., 0., 1., ..., 0., 0., 1.],\n",
       "       ...,\n",
       "       [1., 0., 0., ..., 0., 0., 1.],\n",
       "       [1., 0., 0., ..., 1., 0., 0.],\n",
       "       [0., 0., 1., ..., 0., 1., 0.]])"
      ]
     },
     "execution_count": 32,
     "metadata": {},
     "output_type": "execute_result"
    }
   ],
   "source": [
    "input_cate_feats"
   ]
  },
  {
   "cell_type": "code",
   "execution_count": 33,
   "id": "f7a0d415",
   "metadata": {},
   "outputs": [],
   "source": [
    "feats = np.hstack((continuous_feats, input_cate_feats))"
   ]
  },
  {
   "cell_type": "code",
   "execution_count": 34,
   "id": "e2991db9",
   "metadata": {},
   "outputs": [
    {
     "data": {
      "text/plain": [
       "(712, 12)"
      ]
     },
     "execution_count": 34,
     "metadata": {},
     "output_type": "execute_result"
    }
   ],
   "source": [
    "feats.shape"
   ]
  },
  {
   "cell_type": "code",
   "execution_count": 35,
   "id": "f3d374bb",
   "metadata": {},
   "outputs": [
    {
     "data": {
      "text/plain": [
       "(712, 2)"
      ]
     },
     "execution_count": 35,
     "metadata": {},
     "output_type": "execute_result"
    }
   ],
   "source": [
    "output_a = titanic_filtered[['Survived']]\n",
    "\n",
    "encoder = OneHotEncoder()\n",
    "encoder.fit(output_a)\n",
    "output = encoder.transform(output_a).toarray()\n",
    "output.shape"
   ]
  },
  {
   "cell_type": "markdown",
   "id": "d9bd4bbc",
   "metadata": {},
   "source": [
    "#### b:"
   ]
  },
  {
   "cell_type": "code",
   "execution_count": 36,
   "id": "3a978d06",
   "metadata": {},
   "outputs": [
    {
     "name": "stdout",
     "output_type": "stream",
     "text": [
      "Number of epochs with lowest validation: 101\n",
      "Train error: 0.15639389143800286\n",
      "Test error: 0.13760341965470163\n",
      "Number of epochs with lowest validation: 101\n",
      "Train error: 0.15394013089211792\n",
      "Test error: 0.1479434449584229\n",
      "Number of epochs with lowest validation: 101\n",
      "Train error: 0.1473159510389259\n",
      "Test error: 0.17231430002039122\n",
      "Number of epochs with lowest validation: 101\n",
      "Train error: 0.1509599593567362\n",
      "Test error: 0.1567362809040447\n",
      "Number of epochs with lowest validation: 101\n",
      "Train error: 0.15231544503656125\n",
      "Test error: 0.15798592528227834\n",
      "Final results:\n",
      "Training error:0.152185+-0.003034\n",
      "Testing error:0.154517+-0.011515\n"
     ]
    },
    {
     "data": {
      "text/plain": [
       "<__main__.simple_perceptron at 0x7fdff8015c40>"
      ]
     },
     "execution_count": 36,
     "metadata": {},
     "output_type": "execute_result"
    }
   ],
   "source": [
    "Kfold(k=5, Xs=feats, ys=output, epochs=100, learning_rate=0.0001, draw_curve=False)"
   ]
  },
  {
   "cell_type": "code",
   "execution_count": 37,
   "id": "7bbf06af",
   "metadata": {},
   "outputs": [
    {
     "name": "stdout",
     "output_type": "stream",
     "text": [
      "Number of epochs with lowest validation: 101\n",
      "Train error: 0.15366265618206562\n",
      "Test error: 0.15362643620714242\n",
      "Number of epochs with lowest validation: 101\n",
      "Train error: 0.16301370393532372\n",
      "Test error: 0.12453380364309222\n",
      "Number of epochs with lowest validation: 101\n",
      "Train error: 0.15106189166563508\n",
      "Test error: 0.16053961284334156\n",
      "Number of epochs with lowest validation: 101\n",
      "Train error: 0.15180567216638827\n",
      "Test error: 0.16486675786862662\n",
      "Number of epochs with lowest validation: 101\n",
      "Train error: 0.14630482409124151\n",
      "Test error: 0.177514516297542\n",
      "Final results:\n",
      "Training error:0.153170+-0.005488\n",
      "Testing error:0.156216+-0.017650\n"
     ]
    },
    {
     "data": {
      "text/plain": [
       "<__main__.simple_perceptron at 0x7fe039d9c4c0>"
      ]
     },
     "execution_count": 37,
     "metadata": {},
     "output_type": "execute_result"
    }
   ],
   "source": [
    "feats_no_age = feats[:,1:]\n",
    "Kfold(k=5, Xs=feats_no_age, ys=output, epochs=100, learning_rate=0.0001, draw_curve=False)"
   ]
  },
  {
   "cell_type": "code",
   "execution_count": 38,
   "id": "c2e95440",
   "metadata": {},
   "outputs": [
    {
     "name": "stdout",
     "output_type": "stream",
     "text": [
      "Number of epochs with lowest validation: 101\n",
      "Train error: 0.1550357105664611\n",
      "Test error: 0.1586620573531606\n",
      "Number of epochs with lowest validation: 101\n",
      "Train error: 0.15446448010738312\n",
      "Test error: 0.1568271044329718\n",
      "Number of epochs with lowest validation: 101\n",
      "Train error: 0.1526357526468373\n",
      "Test error: 0.1575384917662574\n",
      "Number of epochs with lowest validation: 101\n",
      "Train error: 0.14990743305584525\n",
      "Test error: 0.16680730162907423\n",
      "Number of epochs with lowest validation: 101\n",
      "Train error: 0.1578633967278791\n",
      "Test error: 0.14114884924322726\n",
      "Final results:\n",
      "Training error:0.153981+-0.002639\n",
      "Testing error:0.156197+-0.008334\n"
     ]
    },
    {
     "data": {
      "text/plain": [
       "<__main__.simple_perceptron at 0x7fe03c46e4f0>"
      ]
     },
     "execution_count": 38,
     "metadata": {},
     "output_type": "execute_result"
    }
   ],
   "source": [
    "feats_no_fare = feats[:,[0,2,3,4,5,6,7,8,9,10,11]]\n",
    "Kfold(k=5, Xs=feats_no_age, ys=output, epochs=100, learning_rate=0.0001, draw_curve=False)"
   ]
  },
  {
   "cell_type": "code",
   "execution_count": 39,
   "id": "7ecdc341",
   "metadata": {},
   "outputs": [
    {
     "name": "stdout",
     "output_type": "stream",
     "text": [
      "Number of epochs with lowest validation: 101\n",
      "Train error: 0.15895540506191808\n",
      "Test error: 0.13518258971292962\n",
      "Number of epochs with lowest validation: 101\n",
      "Train error: 0.14777392700970282\n",
      "Test error: 0.17316093431504326\n",
      "Number of epochs with lowest validation: 101\n",
      "Train error: 0.15199009135656524\n",
      "Test error: 0.15539990092590397\n",
      "Number of epochs with lowest validation: 101\n",
      "Train error: 0.15515104061939583\n",
      "Test error: 0.14956824425230936\n",
      "Number of epochs with lowest validation: 101\n",
      "Train error: 0.15131195679650883\n",
      "Test error: 0.16512091526176512\n",
      "Final results:\n",
      "Training error:0.153036+-0.003775\n",
      "Testing error:0.155687+-0.013056\n"
     ]
    },
    {
     "data": {
      "text/plain": [
       "<__main__.simple_perceptron at 0x7fe008863a90>"
      ]
     },
     "execution_count": 39,
     "metadata": {},
     "output_type": "execute_result"
    }
   ],
   "source": [
    "feats_no_sib = feats[:,[0,1,3,4,5,6,7,8,9,10,11]]\n",
    "Kfold(k=5, Xs=feats_no_sib, ys=output, epochs=100, learning_rate=0.0001, draw_curve=False)"
   ]
  },
  {
   "cell_type": "code",
   "execution_count": 40,
   "id": "7aef946c",
   "metadata": {},
   "outputs": [
    {
     "name": "stdout",
     "output_type": "stream",
     "text": [
      "Number of epochs with lowest validation: 101\n",
      "Train error: 0.1574600671900209\n",
      "Test error: 0.14149171970843058\n",
      "Number of epochs with lowest validation: 101\n",
      "Train error: 0.14934124584811695\n",
      "Test error: 0.16695012714300903\n",
      "Number of epochs with lowest validation: 101\n",
      "Train error: 0.15684613804751807\n",
      "Test error: 0.13817514878691142\n",
      "Number of epochs with lowest validation: 101\n",
      "Train error: 0.14349310180604033\n",
      "Test error: 0.1850583971383505\n",
      "Number of epochs with lowest validation: 101\n",
      "Train error: 0.15754874171594482\n",
      "Test error: 0.14664555683629704\n",
      "Final results:\n",
      "Training error:0.152938+-0.005641\n",
      "Testing error:0.155664+-0.017773\n"
     ]
    },
    {
     "data": {
      "text/plain": [
       "<__main__.simple_perceptron at 0x7fe03c529fd0>"
      ]
     },
     "execution_count": 40,
     "metadata": {},
     "output_type": "execute_result"
    }
   ],
   "source": [
    "feats_no_par = feats[:,[0,1,2,4,5,6,7,8,9,10,11]]\n",
    "Kfold(k=5, Xs=feats_no_par, ys=output, epochs=100, learning_rate=0.0001, draw_curve=False)"
   ]
  },
  {
   "cell_type": "code",
   "execution_count": 41,
   "id": "b2578f2d",
   "metadata": {},
   "outputs": [
    {
     "name": "stdout",
     "output_type": "stream",
     "text": [
      "Number of epochs with lowest validation: 101\n",
      "Train error: 0.17282546967731433\n",
      "Test error: 0.15856500673708143\n",
      "Number of epochs with lowest validation: 101\n",
      "Train error: 0.1690179943419059\n",
      "Test error: 0.17392103519516233\n",
      "Number of epochs with lowest validation: 101\n",
      "Train error: 0.15710100861279264\n",
      "Test error: 0.209203866796951\n",
      "Number of epochs with lowest validation: 101\n",
      "Train error: 0.16897753434323834\n",
      "Test error: 0.16865214183412106\n",
      "Number of epochs with lowest validation: 101\n",
      "Train error: 0.17573093955418911\n",
      "Test error: 0.14585019048955097\n",
      "Final results:\n",
      "Training error:0.168731+-0.006343\n",
      "Testing error:0.171238+-0.021262\n"
     ]
    },
    {
     "data": {
      "text/plain": [
       "<__main__.simple_perceptron at 0x7fe03c551970>"
      ]
     },
     "execution_count": 41,
     "metadata": {},
     "output_type": "execute_result"
    }
   ],
   "source": [
    "feats_no_pclass = feats[:,[0,1,2,3,7,8,9,10,11]]\n",
    "Kfold(k=5, Xs=feats_no_pclass, ys=output, epochs=100, learning_rate=0.0001, draw_curve=False)"
   ]
  },
  {
   "cell_type": "code",
   "execution_count": 42,
   "id": "3f0cae62",
   "metadata": {},
   "outputs": [
    {
     "name": "stdout",
     "output_type": "stream",
     "text": [
      "Number of epochs with lowest validation: 101\n",
      "Train error: 0.20516010441762433\n",
      "Test error: 0.2121284801761996\n",
      "Number of epochs with lowest validation: 101\n",
      "Train error: 0.20126305393905491\n",
      "Test error: 0.23774453307050472\n",
      "Number of epochs with lowest validation: 101\n",
      "Train error: 0.20967053225376725\n",
      "Test error: 0.19705903964764004\n",
      "Number of epochs with lowest validation: 101\n",
      "Train error: 0.21018915006045955\n",
      "Test error: 0.196179495459286\n",
      "Number of epochs with lowest validation: 101\n",
      "Train error: 0.2072075690440787\n",
      "Test error: 0.20629829390470647\n",
      "Final results:\n",
      "Training error:0.206698+-0.003262\n",
      "Testing error:0.209882+-0.015142\n"
     ]
    },
    {
     "data": {
      "text/plain": [
       "<__main__.simple_perceptron at 0x7fe03ccdca30>"
      ]
     },
     "execution_count": 42,
     "metadata": {},
     "output_type": "execute_result"
    }
   ],
   "source": [
    "feats_no_sex = feats[:,[0,1,2,3,4,5,6,9,10,11]]\n",
    "Kfold(k=5, Xs=feats_no_sex, ys=output, epochs=100, learning_rate=0.0001, draw_curve=False)"
   ]
  },
  {
   "cell_type": "code",
   "execution_count": 43,
   "id": "d3e36944",
   "metadata": {},
   "outputs": [
    {
     "name": "stdout",
     "output_type": "stream",
     "text": [
      "Number of epochs with lowest validation: 101\n",
      "Train error: 0.15459599735556387\n",
      "Test error: 0.15502141125794014\n",
      "Number of epochs with lowest validation: 101\n",
      "Train error: 0.1460565444514795\n",
      "Test error: 0.1854207903247474\n",
      "Number of epochs with lowest validation: 101\n",
      "Train error: 0.1514817982095674\n",
      "Test error: 0.16379409762982913\n",
      "Number of epochs with lowest validation: 101\n",
      "Train error: 0.15483960227748667\n",
      "Test error: 0.14994257748267245\n",
      "Number of epochs with lowest validation: 101\n",
      "Train error: 0.16203529514701245\n",
      "Test error: 0.12107377074145843\n",
      "Final results:\n",
      "Training error:0.153802+-0.005194\n",
      "Testing error:0.155051+-0.020877\n"
     ]
    },
    {
     "data": {
      "text/plain": [
       "<__main__.simple_perceptron at 0x7fe03c524190>"
      ]
     },
     "execution_count": 43,
     "metadata": {},
     "output_type": "execute_result"
    }
   ],
   "source": [
    "feats_no_embark = feats[:,[0,1,2,3,4,5,6,7,8]]\n",
    "Kfold(k=5, Xs=feats_no_embark, ys=output, epochs=100, learning_rate=0.0001, draw_curve=False)"
   ]
  },
  {
   "cell_type": "markdown",
   "id": "e571ae28",
   "metadata": {},
   "source": [
    "**It has been shown that features such as 'PClass' and 'Sex' are two important factors that can increase the chances of survival. The inclusion of 'PClass' increases the final testing error from 0.155 to 0.169, while 'Sex' increases it to 0.210. 'PClass' suggests that passengers with higher class might be closer to the deck and have a higher chance of getting onto the lifeboats. 'Sex' might also play a role, as people may be more likely to leave their chance of survival to women, or conversely, men may be stronger and have an easier time surviving.**"
   ]
  },
  {
   "cell_type": "markdown",
   "id": "b56f1486",
   "metadata": {},
   "source": [
    "___"
   ]
  },
  {
   "cell_type": "markdown",
   "id": "4d645bae",
   "metadata": {},
   "source": [
    "### Q3"
   ]
  },
  {
   "cell_type": "code",
   "execution_count": 44,
   "id": "66eae69d",
   "metadata": {},
   "outputs": [],
   "source": [
    "import matplotlib.pyplot as plt\n",
    "from mpl_toolkits.mplot3d import Axes3D\n",
    "\n",
    "def generate_X(number):\n",
    "    xs=(np.random.random(number)*2-1)*10\n",
    "    return xs\n",
    "    \n",
    "def generate_data(number,stochascity=0.05):\n",
    "    xs=generate_X(number)\n",
    "    fs=3*np.sin(xs)-5\n",
    "    stochastic_ratio=(np.random.random(number)*2-1)*stochascity+1\n",
    "    return xs,fs*stochastic_ratio"
   ]
  },
  {
   "cell_type": "code",
   "execution_count": 45,
   "id": "97731281",
   "metadata": {},
   "outputs": [
    {
     "data": {
      "text/plain": [
       "<matplotlib.collections.PathCollection at 0x7fe03c4a51f0>"
      ]
     },
     "execution_count": 45,
     "metadata": {},
     "output_type": "execute_result"
    },
    {
     "data": {
      "image/png": "[encoded data removed]",
      "text/plain": [
       "<Figure size 432x288 with 1 Axes>"
      ]
     },
     "metadata": {
      "needs_background": "light"
     },
     "output_type": "display_data"
    }
   ],
   "source": [
    "x,y=generate_data(5000,0.1)\n",
    "plt.scatter(x,y,s=0.1)"
   ]
  },
  {
   "cell_type": "code",
   "execution_count": 46,
   "id": "424c33cc",
   "metadata": {},
   "outputs": [],
   "source": [
    "x = x.reshape(-1,1)\n",
    "y = y.reshape(-1,1)"
   ]
  },
  {
   "cell_type": "code",
   "execution_count": 47,
   "id": "b98bbd4f",
   "metadata": {},
   "outputs": [
    {
     "name": "stdout",
     "output_type": "stream",
     "text": [
      "Number of epochs with lowest validation: 101\n",
      "Train error: 4.265830540993415\n",
      "Test error: 4.184408996898839\n",
      "Number of epochs with lowest validation: 101\n",
      "Train error: 4.250041181179471\n",
      "Test error: 4.273170793956684\n",
      "Number of epochs with lowest validation: 101\n",
      "Train error: 4.248489488541902\n",
      "Test error: 4.224598800435798\n",
      "Number of epochs with lowest validation: 101\n",
      "Train error: 4.2673885934845615\n",
      "Test error: 4.148415040409795\n",
      "Number of epochs with lowest validation: 101\n",
      "Train error: 4.194691543668467\n",
      "Test error: 4.438961570627624\n",
      "Final results:\n",
      "Training error:4.245288+-0.026470\n",
      "Testing error:4.253911+-0.101424\n"
     ]
    }
   ],
   "source": [
    "model = Kfold(k=5, Xs=x, ys=y, epochs=100, learning_rate=0.0001, draw_curve=False)"
   ]
  },
  {
   "cell_type": "code",
   "execution_count": 48,
   "id": "edb1fe59",
   "metadata": {},
   "outputs": [
    {
     "name": "stdout",
     "output_type": "stream",
     "text": [
      "Correlation coefficient: 0.18481776973829822\n"
     ]
    },
    {
     "data": {
      "image/png": "[encoded data removed]",
      "text/plain": [
       "<Figure size 432x288 with 1 Axes>"
      ]
     },
     "metadata": {
      "needs_background": "light"
     },
     "output_type": "display_data"
    }
   ],
   "source": [
    "x_test, y_test = generate_data(1000,0.1)\n",
    "predict = model.predict(x_test).flatten()\n",
    "ground = y_test.flatten()\n",
    "show_correlation(predict, ground)"
   ]
  },
  {
   "cell_type": "markdown",
   "id": "40db99cb",
   "metadata": {},
   "source": [
    "**The model does not agree with the test data. The Correlation coefficient is pretty bad, around 0.**"
   ]
  },
  {
   "cell_type": "markdown",
   "id": "db3c9fa5",
   "metadata": {},
   "source": [
    "#### b:"
   ]
  },
  {
   "cell_type": "code",
   "execution_count": 49,
   "id": "51805ac9",
   "metadata": {},
   "outputs": [],
   "source": [
    "from sklearn.neural_network import MLPRegressor\n",
    "\n",
    "@timeit\n",
    "def KFold_NN(k,Xs,ys,hidden_layers,epochs=1000,lr=0.001):\n",
    "    # The total number of examples for training the network\n",
    "    total_num=len(Xs)\n",
    "\n",
    "    # Built in K-fold function in Sci-Kit Learn\n",
    "    kf=KFold(n_splits=k,shuffle=True)\n",
    "    train_error_all=[]\n",
    "    test_error_all=[]\n",
    "    for train_selector,test_selector in kf.split(range(total_num)):\n",
    "        # Decide training examples and testing examples for this fold\n",
    "        train_Xs = Xs[train_selector]\n",
    "        test_Xs = Xs[test_selector]\n",
    "        train_ys = ys[train_selector].reshape(-1) #reshape to get rid of the warning\n",
    "        test_ys = ys[test_selector].reshape(-1)\n",
    "        \n",
    "        # Establish the model here\n",
    "        model = MLPRegressor(max_iter=epochs, activation='tanh', early_stopping=True, \n",
    "                             validation_fraction=0.25, learning_rate='constant', learning_rate_init=lr,\n",
    "                             hidden_layer_sizes=hidden_layers).fit(train_Xs, train_ys)\n",
    "        \n",
    "        ### Report result for this fold ##\n",
    "        train_error= np.mean(np.square(model.predict(train_Xs) - train_ys))\n",
    "        train_error_all.append(train_error)\n",
    "        test_error = np.mean(np.square(model.predict(test_Xs) - test_ys))\n",
    "        test_error_all.append(test_error)\n",
    "        print(\"Train error:\",train_error)\n",
    "        print(\"Test error:\",test_error)\n",
    "\n",
    "    print(\"Final results:\")\n",
    "    print(\"Training error:%f+-%f\"%(np.average(train_error_all),np.std(train_error_all)))\n",
    "    print(\"Testing error:%f+-%f\"%(np.average(test_error_all),np.std(test_error_all)))\n",
    "    \n",
    "    # return the last model\n",
    "    return model"
   ]
  },
  {
   "cell_type": "code",
   "execution_count": 50,
   "id": "86d09015",
   "metadata": {},
   "outputs": [
    {
     "name": "stdout",
     "output_type": "stream",
     "text": [
      "Train error: 4.060684328216927\n",
      "Test error: 4.104209063047867\n"
     ]
    },
    {
     "name": "stderr",
     "output_type": "stream",
     "text": [
      "/Users/chongyefeng/opt/anaconda3/envs/msse-python/lib/python3.9/site-packages/sklearn/neural_network/_multilayer_perceptron.py:684: ConvergenceWarning: Stochastic Optimizer: Maximum iterations (1000) reached and the optimization hasn't converged yet.\n",
      "  warnings.warn(\n"
     ]
    },
    {
     "name": "stdout",
     "output_type": "stream",
     "text": [
      "Train error: 0.5773190186251262\n",
      "Test error: 0.5903504415889401\n"
     ]
    },
    {
     "name": "stderr",
     "output_type": "stream",
     "text": [
      "/Users/chongyefeng/opt/anaconda3/envs/msse-python/lib/python3.9/site-packages/sklearn/neural_network/_multilayer_perceptron.py:684: ConvergenceWarning: Stochastic Optimizer: Maximum iterations (1000) reached and the optimization hasn't converged yet.\n",
      "  warnings.warn(\n"
     ]
    },
    {
     "name": "stdout",
     "output_type": "stream",
     "text": [
      "Train error: 1.3162858780687738\n",
      "Test error: 1.3215828621247991\n",
      "Train error: 4.210142009468109\n",
      "Test error: 4.234891323991862\n",
      "Train error: 2.3616652130881284\n",
      "Test error: 2.3049011144371137\n",
      "Final results:\n",
      "Training error:2.505219+-1.447564\n",
      "Testing error:2.511187+-1.459877\n",
      "Elapsed time: 7.297183 seconds\n"
     ]
    }
   ],
   "source": [
    "Xs, ys = generate_data(5000,0.1)\n",
    "Xs = Xs.reshape(-1,1)\n",
    "ys = ys.reshape(-1,1)\n",
    "\n",
    "model = KFold_NN(5, Xs, ys, 8)"
   ]
  },
  {
   "cell_type": "code",
   "execution_count": 51,
   "id": "1c005363",
   "metadata": {},
   "outputs": [
    {
     "name": "stdout",
     "output_type": "stream",
     "text": [
      "Correlation coefficient: 0.6486201728551388\n"
     ]
    },
    {
     "data": {
      "image/png": "[encoded data removed]",
      "text/plain": [
       "<Figure size 432x288 with 1 Axes>"
      ]
     },
     "metadata": {
      "needs_background": "light"
     },
     "output_type": "display_data"
    }
   ],
   "source": [
    "x_test, y_test = generate_data(1000,0.1)\n",
    "\n",
    "x_test = x_test.reshape(-1,1)\n",
    "y_test = y_test.reshape(-1,1)\n",
    "\n",
    "predict = model.predict(x_test).flatten()\n",
    "ground = y_test.flatten()\n",
    "show_correlation(predict, ground)"
   ]
  },
  {
   "cell_type": "markdown",
   "id": "a436026f",
   "metadata": {},
   "source": [
    "**Yes, the ANN with 8 hidden layers performs a better prediction of the sin() function than the one-layer simple perceptron. The correlation coefficient increased from 0.19 to 0.66.**"
   ]
  },
  {
   "cell_type": "markdown",
   "id": "c273fe79",
   "metadata": {},
   "source": [
    "#### c:"
   ]
  },
  {
   "cell_type": "code",
   "execution_count": 52,
   "id": "a5324039",
   "metadata": {},
   "outputs": [
    {
     "name": "stderr",
     "output_type": "stream",
     "text": [
      "/Users/chongyefeng/opt/anaconda3/envs/msse-python/lib/python3.9/site-packages/sklearn/neural_network/_multilayer_perceptron.py:684: ConvergenceWarning: Stochastic Optimizer: Maximum iterations (1000) reached and the optimization hasn't converged yet.\n",
      "  warnings.warn(\n"
     ]
    },
    {
     "name": "stdout",
     "output_type": "stream",
     "text": [
      "Train error: 0.7750601071178586\n",
      "Test error: 0.6728888371766616\n"
     ]
    },
    {
     "name": "stderr",
     "output_type": "stream",
     "text": [
      "/Users/chongyefeng/opt/anaconda3/envs/msse-python/lib/python3.9/site-packages/sklearn/neural_network/_multilayer_perceptron.py:684: ConvergenceWarning: Stochastic Optimizer: Maximum iterations (1000) reached and the optimization hasn't converged yet.\n",
      "  warnings.warn(\n"
     ]
    },
    {
     "name": "stdout",
     "output_type": "stream",
     "text": [
      "Train error: 0.6700583120266426\n",
      "Test error: 0.7177745700691864\n"
     ]
    },
    {
     "name": "stderr",
     "output_type": "stream",
     "text": [
      "/Users/chongyefeng/opt/anaconda3/envs/msse-python/lib/python3.9/site-packages/sklearn/neural_network/_multilayer_perceptron.py:684: ConvergenceWarning: Stochastic Optimizer: Maximum iterations (1000) reached and the optimization hasn't converged yet.\n",
      "  warnings.warn(\n"
     ]
    },
    {
     "name": "stdout",
     "output_type": "stream",
     "text": [
      "Train error: 0.5178638460607986\n",
      "Test error: 0.5528629274035308\n"
     ]
    },
    {
     "name": "stderr",
     "output_type": "stream",
     "text": [
      "/Users/chongyefeng/opt/anaconda3/envs/msse-python/lib/python3.9/site-packages/sklearn/neural_network/_multilayer_perceptron.py:684: ConvergenceWarning: Stochastic Optimizer: Maximum iterations (1000) reached and the optimization hasn't converged yet.\n",
      "  warnings.warn(\n"
     ]
    },
    {
     "name": "stdout",
     "output_type": "stream",
     "text": [
      "Train error: 0.5187916311810994\n",
      "Test error: 0.48343128828774384\n",
      "Train error: 0.7824181173048907\n",
      "Test error: 0.8401253385729671\n",
      "Final results:\n",
      "Training error:0.652838+-0.116801\n",
      "Testing error:0.653417+-0.125210\n",
      "Elapsed time: 13.839354 seconds\n",
      "Correlation coefficient: 0.9067403160744317\n"
     ]
    },
    {
     "name": "stderr",
     "output_type": "stream",
     "text": [
      "/Users/chongyefeng/opt/anaconda3/envs/msse-python/lib/python3.9/site-packages/sklearn/neural_network/_multilayer_perceptron.py:684: ConvergenceWarning: Stochastic Optimizer: Maximum iterations (1000) reached and the optimization hasn't converged yet.\n",
      "  warnings.warn(\n"
     ]
    },
    {
     "data": {
      "image/png": "[encoded data removed]",
      "text/plain": [
       "<Figure size 432x288 with 1 Axes>"
      ]
     },
     "metadata": {
      "needs_background": "light"
     },
     "output_type": "display_data"
    }
   ],
   "source": [
    "Xs, ys = generate_data(5000,0.1)\n",
    "Xs = Xs.reshape(-1,1)\n",
    "ys = ys.reshape(-1,1)\n",
    "\n",
    "model = KFold_NN(5, Xs, ys, 16)\n",
    "\n",
    "x_test, y_test = generate_data(1000,0.1)\n",
    "\n",
    "x_test = x_test.reshape(-1,1)\n",
    "y_test = y_test.reshape(-1,1)\n",
    "\n",
    "predict = model.predict(x_test).flatten()\n",
    "ground = y_test.flatten()\n",
    "show_correlation(predict, ground)"
   ]
  },
  {
   "cell_type": "markdown",
   "id": "0bfb58b0",
   "metadata": {},
   "source": [
    "**Doubling the number of hidden layers from 8 to 16 increases the correlation coefficient, which becomes closer to 1 at 0.9. Including more hidden layers in the ANN improves its performance. However, it should be noted that the additional hidden layers come with a significant increase in computation time. Therefore, it is not advisable to add too many hidden layers to the ANN.**"
   ]
  }
 ],
 "metadata": {
  "kernelspec": {
   "display_name": "Python 3",
   "language": "python",
   "name": "python3"
  },
  "language_info": {
   "codemirror_mode": {
    "name": "ipython",
    "version": 3
   },
   "file_extension": ".py",
   "mimetype": "text/x-python",
   "name": "python",
   "nbconvert_exporter": "python",
   "pygments_lexer": "ipython3",
   "version": "3.9.12"
  }
 },
 "nbformat": 4,
 "nbformat_minor": 5
}
